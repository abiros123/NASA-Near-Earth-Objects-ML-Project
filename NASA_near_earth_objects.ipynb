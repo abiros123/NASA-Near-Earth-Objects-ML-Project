{
  "nbformat": 4,
  "nbformat_minor": 0,
  "metadata": {
    "colab": {
      "provenance": [],
      "authorship_tag": "ABX9TyMasFVvsbn8md8+3BJyTney",
      "include_colab_link": true
    },
    "kernelspec": {
      "name": "python3",
      "display_name": "Python 3"
    },
    "language_info": {
      "name": "python"
    }
  },
  "cells": [
    {
      "cell_type": "markdown",
      "metadata": {
        "id": "view-in-github",
        "colab_type": "text"
      },
      "source": [
        "<a href=\"https://colab.research.google.com/github/munawarali93/NASA-Near-Earth-Objects/blob/main/NASA_near_earth_objects.ipynb\" target=\"_parent\"><img src=\"https://colab.research.google.com/assets/colab-badge.svg\" alt=\"Open In Colab\"/></a>"
      ]
    },
    {
      "cell_type": "markdown",
      "source": [
        "##Mentor:\n",
        "Kashif bari"
      ],
      "metadata": {
        "id": "LOEpDUZT8D_p"
      }
    },
    {
      "cell_type": "markdown",
      "source": [
        "##Team members:\n",
        "1. Munawar Ali\n",
        "2. Cagatay Ayhan\n",
        "3. Ece KARACAM\n",
        "4. Mostofa Hisham\n",
        "5. Waleed Ahmed"
      ],
      "metadata": {
        "id": "i8EeQNLF71qn"
      }
    },
    {
      "cell_type": "markdown",
      "source": [
        "Near-Earth Objects (NEOs) are comets and asteroids that have been nudged by the gravitational attraction of nearby planets into orbits that allow them to enter the Earth’s neighborhood. As they orbit the Sun, Near-Earth Objects occasionally approach close to Earth. We plan to develop several models for detecting whether or not a NEO is hazardous. We will likely use the data provided here: https://www.kaggle.com/datasets/sameepvani nasa-nearest-earth-objects/data\n",
        "Sources: https://api.nasa.gov\n",
        "https://cneos.jpl.nasa.gov/ca/"
      ],
      "metadata": {
        "id": "7zTpwXtF8IeO"
      }
    },
    {
      "cell_type": "markdown",
      "source": [
        "##Basic Modules"
      ],
      "metadata": {
        "id": "EJB7gdDd-h6V"
      }
    },
    {
      "cell_type": "code",
      "source": [
        "!git clone https://github.com/munawarali93/NASA-Near-Earth-Objects"
      ],
      "metadata": {
        "colab": {
          "base_uri": "https://localhost:8080/"
        },
        "id": "BOUvVcDj413o",
        "outputId": "e2ac39b9-133e-4921-86e8-ba29aa8a8406"
      },
      "execution_count": null,
      "outputs": [
        {
          "output_type": "stream",
          "name": "stdout",
          "text": [
            "Cloning into 'NASA-Near-Earth-Objects'...\n",
            "remote: Enumerating objects: 23, done.\u001b[K\n",
            "remote: Counting objects: 100% (23/23), done.\u001b[K\n",
            "remote: Compressing objects: 100% (22/22), done.\u001b[K\n",
            "remote: Total 23 (delta 4), reused 0 (delta 0), pack-reused 0\u001b[K\n",
            "Receiving objects: 100% (23/23), 4.83 MiB | 6.88 MiB/s, done.\n",
            "Resolving deltas: 100% (4/4), done.\n"
          ]
        }
      ]
    },
    {
      "cell_type": "code",
      "source": [
        "! ls -l"
      ],
      "metadata": {
        "colab": {
          "base_uri": "https://localhost:8080/"
        },
        "id": "P0u35QkM5Dfs",
        "outputId": "218f4404-a3f7-4355-fde5-7478e9a99bc5"
      },
      "execution_count": null,
      "outputs": [
        {
          "output_type": "stream",
          "name": "stdout",
          "text": [
            "total 8\n",
            "drwxr-xr-x 3 root root 4096 Nov 17 23:44 NASA-Near-Earth-Objects\n",
            "drwxr-xr-x 1 root root 4096 Nov 16 14:27 sample_data\n"
          ]
        }
      ]
    },
    {
      "cell_type": "code",
      "source": [
        "path = r'/content/drive/MyDrive/NASA_near_earth_objects'"
      ],
      "metadata": {
        "id": "p7XRk6qO5H94"
      },
      "execution_count": null,
      "outputs": []
    },
    {
      "cell_type": "code",
      "source": [
        "import numpy as np\n",
        "import pandas as pd\n",
        "\n",
        "import matplotlib.pyplot as plt\n",
        "import seaborn as sns\n",
        "from sklearn.preprocessing import StandardScaler\n",
        "from sklearn.model_selection import train_test_split\n",
        "\n",
        "from sklearn.linear_model import LogisticRegression\n",
        "from sklearn import metrics\n",
        "\n",
        "import keras\n",
        "import tensorflow as tf\n",
        "\n",
        "from keras import models\n",
        "from keras import layers\n",
        "from keras import optimizers\n",
        "from keras import losses\n",
        "from keras import metrics as ks_metrics"
      ],
      "metadata": {
        "id": "VVTomvX474gO"
      },
      "execution_count": null,
      "outputs": []
    },
    {
      "cell_type": "code",
      "source": [
        "from google.colab import drive\n",
        "drive.mount('/content/drive')"
      ],
      "metadata": {
        "colab": {
          "base_uri": "https://localhost:8080/"
        },
        "id": "hq7QpkrY-oeW",
        "outputId": "026de2ce-0fd8-49b8-acbb-c85513f161db"
      },
      "execution_count": null,
      "outputs": [
        {
          "output_type": "stream",
          "name": "stdout",
          "text": [
            "Mounted at /content/drive\n"
          ]
        }
      ]
    },
    {
      "cell_type": "markdown",
      "source": [
        "##Data"
      ],
      "metadata": {
        "id": "3TZl34fYrVaH"
      }
    },
    {
      "cell_type": "code",
      "source": [
        "nasa = pd.read_csv(\"/content/drive/MyDrive/NASA_near_earth_objects/neo.csv.zip\")\n",
        "print(nasa.shape)\n",
        "nasa['average_diameter'] = (nasa['est_diameter_max'] + nasa['est_diameter_min'])/2"
      ],
      "metadata": {
        "colab": {
          "base_uri": "https://localhost:8080/"
        },
        "id": "YtC65XNgHFNv",
        "outputId": "0f876444-82d9-498b-d3d1-5dfc268b3759"
      },
      "execution_count": null,
      "outputs": [
        {
          "output_type": "stream",
          "name": "stdout",
          "text": [
            "(90836, 10)\n"
          ]
        }
      ]
    },
    {
      "cell_type": "code",
      "source": [
        "nasa = nasa.drop(columns = ['orbiting_body','sentry_object', 'id', 'name']).copy()"
      ],
      "metadata": {
        "id": "9sh3vm1dIsRg"
      },
      "execution_count": null,
      "outputs": []
    },
    {
      "cell_type": "code",
      "source": [
        "nasa['hazardous'] = nasa['hazardous'].replace({True: 1, False: 0})\n",
        "nasa.head()"
      ],
      "metadata": {
        "colab": {
          "base_uri": "https://localhost:8080/",
          "height": 206
        },
        "id": "LUc8CF4GKhzZ",
        "outputId": "20a2a640-857d-4d55-fa67-5b638db53612"
      },
      "execution_count": null,
      "outputs": [
        {
          "output_type": "execute_result",
          "data": {
            "text/plain": [
              "   est_diameter_min  est_diameter_max  relative_velocity  miss_distance  \\\n",
              "0          1.198271          2.679415       13569.249224   5.483974e+07   \n",
              "1          0.265800          0.594347       73588.726663   6.143813e+07   \n",
              "2          0.722030          1.614507      114258.692129   4.979872e+07   \n",
              "3          0.096506          0.215794       24764.303138   2.543497e+07   \n",
              "4          0.255009          0.570217       42737.733765   4.627557e+07   \n",
              "\n",
              "   absolute_magnitude  hazardous  average_diameter  \n",
              "0               16.73          0          1.938843  \n",
              "1               20.00          1          0.430073  \n",
              "2               17.83          0          1.168268  \n",
              "3               22.20          0          0.156150  \n",
              "4               20.09          1          0.412613  "
            ],
            "text/html": [
              "\n",
              "  <div id=\"df-80bb01ef-92e8-4cec-9a04-6b1eccd198c1\" class=\"colab-df-container\">\n",
              "    <div>\n",
              "<style scoped>\n",
              "    .dataframe tbody tr th:only-of-type {\n",
              "        vertical-align: middle;\n",
              "    }\n",
              "\n",
              "    .dataframe tbody tr th {\n",
              "        vertical-align: top;\n",
              "    }\n",
              "\n",
              "    .dataframe thead th {\n",
              "        text-align: right;\n",
              "    }\n",
              "</style>\n",
              "<table border=\"1\" class=\"dataframe\">\n",
              "  <thead>\n",
              "    <tr style=\"text-align: right;\">\n",
              "      <th></th>\n",
              "      <th>est_diameter_min</th>\n",
              "      <th>est_diameter_max</th>\n",
              "      <th>relative_velocity</th>\n",
              "      <th>miss_distance</th>\n",
              "      <th>absolute_magnitude</th>\n",
              "      <th>hazardous</th>\n",
              "      <th>average_diameter</th>\n",
              "    </tr>\n",
              "  </thead>\n",
              "  <tbody>\n",
              "    <tr>\n",
              "      <th>0</th>\n",
              "      <td>1.198271</td>\n",
              "      <td>2.679415</td>\n",
              "      <td>13569.249224</td>\n",
              "      <td>5.483974e+07</td>\n",
              "      <td>16.73</td>\n",
              "      <td>0</td>\n",
              "      <td>1.938843</td>\n",
              "    </tr>\n",
              "    <tr>\n",
              "      <th>1</th>\n",
              "      <td>0.265800</td>\n",
              "      <td>0.594347</td>\n",
              "      <td>73588.726663</td>\n",
              "      <td>6.143813e+07</td>\n",
              "      <td>20.00</td>\n",
              "      <td>1</td>\n",
              "      <td>0.430073</td>\n",
              "    </tr>\n",
              "    <tr>\n",
              "      <th>2</th>\n",
              "      <td>0.722030</td>\n",
              "      <td>1.614507</td>\n",
              "      <td>114258.692129</td>\n",
              "      <td>4.979872e+07</td>\n",
              "      <td>17.83</td>\n",
              "      <td>0</td>\n",
              "      <td>1.168268</td>\n",
              "    </tr>\n",
              "    <tr>\n",
              "      <th>3</th>\n",
              "      <td>0.096506</td>\n",
              "      <td>0.215794</td>\n",
              "      <td>24764.303138</td>\n",
              "      <td>2.543497e+07</td>\n",
              "      <td>22.20</td>\n",
              "      <td>0</td>\n",
              "      <td>0.156150</td>\n",
              "    </tr>\n",
              "    <tr>\n",
              "      <th>4</th>\n",
              "      <td>0.255009</td>\n",
              "      <td>0.570217</td>\n",
              "      <td>42737.733765</td>\n",
              "      <td>4.627557e+07</td>\n",
              "      <td>20.09</td>\n",
              "      <td>1</td>\n",
              "      <td>0.412613</td>\n",
              "    </tr>\n",
              "  </tbody>\n",
              "</table>\n",
              "</div>\n",
              "    <div class=\"colab-df-buttons\">\n",
              "\n",
              "  <div class=\"colab-df-container\">\n",
              "    <button class=\"colab-df-convert\" onclick=\"convertToInteractive('df-80bb01ef-92e8-4cec-9a04-6b1eccd198c1')\"\n",
              "            title=\"Convert this dataframe to an interactive table.\"\n",
              "            style=\"display:none;\">\n",
              "\n",
              "  <svg xmlns=\"http://www.w3.org/2000/svg\" height=\"24px\" viewBox=\"0 -960 960 960\">\n",
              "    <path d=\"M120-120v-720h720v720H120Zm60-500h600v-160H180v160Zm220 220h160v-160H400v160Zm0 220h160v-160H400v160ZM180-400h160v-160H180v160Zm440 0h160v-160H620v160ZM180-180h160v-160H180v160Zm440 0h160v-160H620v160Z\"/>\n",
              "  </svg>\n",
              "    </button>\n",
              "\n",
              "  <style>\n",
              "    .colab-df-container {\n",
              "      display:flex;\n",
              "      gap: 12px;\n",
              "    }\n",
              "\n",
              "    .colab-df-convert {\n",
              "      background-color: #E8F0FE;\n",
              "      border: none;\n",
              "      border-radius: 50%;\n",
              "      cursor: pointer;\n",
              "      display: none;\n",
              "      fill: #1967D2;\n",
              "      height: 32px;\n",
              "      padding: 0 0 0 0;\n",
              "      width: 32px;\n",
              "    }\n",
              "\n",
              "    .colab-df-convert:hover {\n",
              "      background-color: #E2EBFA;\n",
              "      box-shadow: 0px 1px 2px rgba(60, 64, 67, 0.3), 0px 1px 3px 1px rgba(60, 64, 67, 0.15);\n",
              "      fill: #174EA6;\n",
              "    }\n",
              "\n",
              "    .colab-df-buttons div {\n",
              "      margin-bottom: 4px;\n",
              "    }\n",
              "\n",
              "    [theme=dark] .colab-df-convert {\n",
              "      background-color: #3B4455;\n",
              "      fill: #D2E3FC;\n",
              "    }\n",
              "\n",
              "    [theme=dark] .colab-df-convert:hover {\n",
              "      background-color: #434B5C;\n",
              "      box-shadow: 0px 1px 3px 1px rgba(0, 0, 0, 0.15);\n",
              "      filter: drop-shadow(0px 1px 2px rgba(0, 0, 0, 0.3));\n",
              "      fill: #FFFFFF;\n",
              "    }\n",
              "  </style>\n",
              "\n",
              "    <script>\n",
              "      const buttonEl =\n",
              "        document.querySelector('#df-80bb01ef-92e8-4cec-9a04-6b1eccd198c1 button.colab-df-convert');\n",
              "      buttonEl.style.display =\n",
              "        google.colab.kernel.accessAllowed ? 'block' : 'none';\n",
              "\n",
              "      async function convertToInteractive(key) {\n",
              "        const element = document.querySelector('#df-80bb01ef-92e8-4cec-9a04-6b1eccd198c1');\n",
              "        const dataTable =\n",
              "          await google.colab.kernel.invokeFunction('convertToInteractive',\n",
              "                                                    [key], {});\n",
              "        if (!dataTable) return;\n",
              "\n",
              "        const docLinkHtml = 'Like what you see? Visit the ' +\n",
              "          '<a target=\"_blank\" href=https://colab.research.google.com/notebooks/data_table.ipynb>data table notebook</a>'\n",
              "          + ' to learn more about interactive tables.';\n",
              "        element.innerHTML = '';\n",
              "        dataTable['output_type'] = 'display_data';\n",
              "        await google.colab.output.renderOutput(dataTable, element);\n",
              "        const docLink = document.createElement('div');\n",
              "        docLink.innerHTML = docLinkHtml;\n",
              "        element.appendChild(docLink);\n",
              "      }\n",
              "    </script>\n",
              "  </div>\n",
              "\n",
              "\n",
              "<div id=\"df-352b7abe-d60d-4fcb-9602-16e2c1cd5f23\">\n",
              "  <button class=\"colab-df-quickchart\" onclick=\"quickchart('df-352b7abe-d60d-4fcb-9602-16e2c1cd5f23')\"\n",
              "            title=\"Suggest charts\"\n",
              "            style=\"display:none;\">\n",
              "\n",
              "<svg xmlns=\"http://www.w3.org/2000/svg\" height=\"24px\"viewBox=\"0 0 24 24\"\n",
              "     width=\"24px\">\n",
              "    <g>\n",
              "        <path d=\"M19 3H5c-1.1 0-2 .9-2 2v14c0 1.1.9 2 2 2h14c1.1 0 2-.9 2-2V5c0-1.1-.9-2-2-2zM9 17H7v-7h2v7zm4 0h-2V7h2v10zm4 0h-2v-4h2v4z\"/>\n",
              "    </g>\n",
              "</svg>\n",
              "  </button>\n",
              "\n",
              "<style>\n",
              "  .colab-df-quickchart {\n",
              "      --bg-color: #E8F0FE;\n",
              "      --fill-color: #1967D2;\n",
              "      --hover-bg-color: #E2EBFA;\n",
              "      --hover-fill-color: #174EA6;\n",
              "      --disabled-fill-color: #AAA;\n",
              "      --disabled-bg-color: #DDD;\n",
              "  }\n",
              "\n",
              "  [theme=dark] .colab-df-quickchart {\n",
              "      --bg-color: #3B4455;\n",
              "      --fill-color: #D2E3FC;\n",
              "      --hover-bg-color: #434B5C;\n",
              "      --hover-fill-color: #FFFFFF;\n",
              "      --disabled-bg-color: #3B4455;\n",
              "      --disabled-fill-color: #666;\n",
              "  }\n",
              "\n",
              "  .colab-df-quickchart {\n",
              "    background-color: var(--bg-color);\n",
              "    border: none;\n",
              "    border-radius: 50%;\n",
              "    cursor: pointer;\n",
              "    display: none;\n",
              "    fill: var(--fill-color);\n",
              "    height: 32px;\n",
              "    padding: 0;\n",
              "    width: 32px;\n",
              "  }\n",
              "\n",
              "  .colab-df-quickchart:hover {\n",
              "    background-color: var(--hover-bg-color);\n",
              "    box-shadow: 0 1px 2px rgba(60, 64, 67, 0.3), 0 1px 3px 1px rgba(60, 64, 67, 0.15);\n",
              "    fill: var(--button-hover-fill-color);\n",
              "  }\n",
              "\n",
              "  .colab-df-quickchart-complete:disabled,\n",
              "  .colab-df-quickchart-complete:disabled:hover {\n",
              "    background-color: var(--disabled-bg-color);\n",
              "    fill: var(--disabled-fill-color);\n",
              "    box-shadow: none;\n",
              "  }\n",
              "\n",
              "  .colab-df-spinner {\n",
              "    border: 2px solid var(--fill-color);\n",
              "    border-color: transparent;\n",
              "    border-bottom-color: var(--fill-color);\n",
              "    animation:\n",
              "      spin 1s steps(1) infinite;\n",
              "  }\n",
              "\n",
              "  @keyframes spin {\n",
              "    0% {\n",
              "      border-color: transparent;\n",
              "      border-bottom-color: var(--fill-color);\n",
              "      border-left-color: var(--fill-color);\n",
              "    }\n",
              "    20% {\n",
              "      border-color: transparent;\n",
              "      border-left-color: var(--fill-color);\n",
              "      border-top-color: var(--fill-color);\n",
              "    }\n",
              "    30% {\n",
              "      border-color: transparent;\n",
              "      border-left-color: var(--fill-color);\n",
              "      border-top-color: var(--fill-color);\n",
              "      border-right-color: var(--fill-color);\n",
              "    }\n",
              "    40% {\n",
              "      border-color: transparent;\n",
              "      border-right-color: var(--fill-color);\n",
              "      border-top-color: var(--fill-color);\n",
              "    }\n",
              "    60% {\n",
              "      border-color: transparent;\n",
              "      border-right-color: var(--fill-color);\n",
              "    }\n",
              "    80% {\n",
              "      border-color: transparent;\n",
              "      border-right-color: var(--fill-color);\n",
              "      border-bottom-color: var(--fill-color);\n",
              "    }\n",
              "    90% {\n",
              "      border-color: transparent;\n",
              "      border-bottom-color: var(--fill-color);\n",
              "    }\n",
              "  }\n",
              "</style>\n",
              "\n",
              "  <script>\n",
              "    async function quickchart(key) {\n",
              "      const quickchartButtonEl =\n",
              "        document.querySelector('#' + key + ' button');\n",
              "      quickchartButtonEl.disabled = true;  // To prevent multiple clicks.\n",
              "      quickchartButtonEl.classList.add('colab-df-spinner');\n",
              "      try {\n",
              "        const charts = await google.colab.kernel.invokeFunction(\n",
              "            'suggestCharts', [key], {});\n",
              "      } catch (error) {\n",
              "        console.error('Error during call to suggestCharts:', error);\n",
              "      }\n",
              "      quickchartButtonEl.classList.remove('colab-df-spinner');\n",
              "      quickchartButtonEl.classList.add('colab-df-quickchart-complete');\n",
              "    }\n",
              "    (() => {\n",
              "      let quickchartButtonEl =\n",
              "        document.querySelector('#df-352b7abe-d60d-4fcb-9602-16e2c1cd5f23 button');\n",
              "      quickchartButtonEl.style.display =\n",
              "        google.colab.kernel.accessAllowed ? 'block' : 'none';\n",
              "    })();\n",
              "  </script>\n",
              "</div>\n",
              "    </div>\n",
              "  </div>\n"
            ]
          },
          "metadata": {},
          "execution_count": 9
        }
      ]
    },
    {
      "cell_type": "code",
      "source": [
        "nasa.isnull().values.any()"
      ],
      "metadata": {
        "colab": {
          "base_uri": "https://localhost:8080/"
        },
        "id": "NCId286fvprA",
        "outputId": "497efcd8-55ee-4ca0-fc6d-78f4b25c9ba7"
      },
      "execution_count": null,
      "outputs": [
        {
          "output_type": "execute_result",
          "data": {
            "text/plain": [
              "False"
            ]
          },
          "metadata": {},
          "execution_count": 21
        }
      ]
    },
    {
      "cell_type": "code",
      "source": [
        "y = nasa['hazardous'].copy()\n",
        "X = nasa.drop('hazardous', axis=1).copy()\n",
        "y.shape"
      ],
      "metadata": {
        "colab": {
          "base_uri": "https://localhost:8080/"
        },
        "id": "-1FYJ-vPHUfo",
        "outputId": "7468e4ac-e7a1-4498-a895-797663faabb4"
      },
      "execution_count": null,
      "outputs": [
        {
          "output_type": "execute_result",
          "data": {
            "text/plain": [
              "(90836,)"
            ]
          },
          "metadata": {},
          "execution_count": 10
        }
      ]
    },
    {
      "cell_type": "code",
      "source": [
        "scaler = StandardScaler()\n",
        "X = pd.DataFrame(scaler.fit_transform(X), columns=X.columns)\n",
        "X.head()"
      ],
      "metadata": {
        "colab": {
          "base_uri": "https://localhost:8080/",
          "height": 206
        },
        "id": "-LlLANCc-t2u",
        "outputId": "b57b237b-95ab-40d5-851b-ef3a1826bbc5"
      },
      "execution_count": null,
      "outputs": [
        {
          "output_type": "execute_result",
          "data": {
            "text/plain": [
              "   est_diameter_min  est_diameter_max  relative_velocity  miss_distance  \\\n",
              "0          3.587284          3.587284          -1.363913       0.795153   \n",
              "1          0.463529          0.463529           1.009040       1.090357   \n",
              "2          1.991887          1.991887           2.616983       0.569624   \n",
              "3         -0.103601         -0.103601          -0.921301      -0.520384   \n",
              "4          0.427378          0.427378          -0.210697       0.412001   \n",
              "\n",
              "   absolute_magnitude  average_diameter  \n",
              "0           -2.348632          3.587284  \n",
              "1           -1.218735          0.463529  \n",
              "2           -1.968544          1.991887  \n",
              "3           -0.458560         -0.103601  \n",
              "4           -1.187637          0.427378  "
            ],
            "text/html": [
              "\n",
              "  <div id=\"df-116be548-9a0c-4c50-b57c-2068651f30f5\" class=\"colab-df-container\">\n",
              "    <div>\n",
              "<style scoped>\n",
              "    .dataframe tbody tr th:only-of-type {\n",
              "        vertical-align: middle;\n",
              "    }\n",
              "\n",
              "    .dataframe tbody tr th {\n",
              "        vertical-align: top;\n",
              "    }\n",
              "\n",
              "    .dataframe thead th {\n",
              "        text-align: right;\n",
              "    }\n",
              "</style>\n",
              "<table border=\"1\" class=\"dataframe\">\n",
              "  <thead>\n",
              "    <tr style=\"text-align: right;\">\n",
              "      <th></th>\n",
              "      <th>est_diameter_min</th>\n",
              "      <th>est_diameter_max</th>\n",
              "      <th>relative_velocity</th>\n",
              "      <th>miss_distance</th>\n",
              "      <th>absolute_magnitude</th>\n",
              "      <th>average_diameter</th>\n",
              "    </tr>\n",
              "  </thead>\n",
              "  <tbody>\n",
              "    <tr>\n",
              "      <th>0</th>\n",
              "      <td>3.587284</td>\n",
              "      <td>3.587284</td>\n",
              "      <td>-1.363913</td>\n",
              "      <td>0.795153</td>\n",
              "      <td>-2.348632</td>\n",
              "      <td>3.587284</td>\n",
              "    </tr>\n",
              "    <tr>\n",
              "      <th>1</th>\n",
              "      <td>0.463529</td>\n",
              "      <td>0.463529</td>\n",
              "      <td>1.009040</td>\n",
              "      <td>1.090357</td>\n",
              "      <td>-1.218735</td>\n",
              "      <td>0.463529</td>\n",
              "    </tr>\n",
              "    <tr>\n",
              "      <th>2</th>\n",
              "      <td>1.991887</td>\n",
              "      <td>1.991887</td>\n",
              "      <td>2.616983</td>\n",
              "      <td>0.569624</td>\n",
              "      <td>-1.968544</td>\n",
              "      <td>1.991887</td>\n",
              "    </tr>\n",
              "    <tr>\n",
              "      <th>3</th>\n",
              "      <td>-0.103601</td>\n",
              "      <td>-0.103601</td>\n",
              "      <td>-0.921301</td>\n",
              "      <td>-0.520384</td>\n",
              "      <td>-0.458560</td>\n",
              "      <td>-0.103601</td>\n",
              "    </tr>\n",
              "    <tr>\n",
              "      <th>4</th>\n",
              "      <td>0.427378</td>\n",
              "      <td>0.427378</td>\n",
              "      <td>-0.210697</td>\n",
              "      <td>0.412001</td>\n",
              "      <td>-1.187637</td>\n",
              "      <td>0.427378</td>\n",
              "    </tr>\n",
              "  </tbody>\n",
              "</table>\n",
              "</div>\n",
              "    <div class=\"colab-df-buttons\">\n",
              "\n",
              "  <div class=\"colab-df-container\">\n",
              "    <button class=\"colab-df-convert\" onclick=\"convertToInteractive('df-116be548-9a0c-4c50-b57c-2068651f30f5')\"\n",
              "            title=\"Convert this dataframe to an interactive table.\"\n",
              "            style=\"display:none;\">\n",
              "\n",
              "  <svg xmlns=\"http://www.w3.org/2000/svg\" height=\"24px\" viewBox=\"0 -960 960 960\">\n",
              "    <path d=\"M120-120v-720h720v720H120Zm60-500h600v-160H180v160Zm220 220h160v-160H400v160Zm0 220h160v-160H400v160ZM180-400h160v-160H180v160Zm440 0h160v-160H620v160ZM180-180h160v-160H180v160Zm440 0h160v-160H620v160Z\"/>\n",
              "  </svg>\n",
              "    </button>\n",
              "\n",
              "  <style>\n",
              "    .colab-df-container {\n",
              "      display:flex;\n",
              "      gap: 12px;\n",
              "    }\n",
              "\n",
              "    .colab-df-convert {\n",
              "      background-color: #E8F0FE;\n",
              "      border: none;\n",
              "      border-radius: 50%;\n",
              "      cursor: pointer;\n",
              "      display: none;\n",
              "      fill: #1967D2;\n",
              "      height: 32px;\n",
              "      padding: 0 0 0 0;\n",
              "      width: 32px;\n",
              "    }\n",
              "\n",
              "    .colab-df-convert:hover {\n",
              "      background-color: #E2EBFA;\n",
              "      box-shadow: 0px 1px 2px rgba(60, 64, 67, 0.3), 0px 1px 3px 1px rgba(60, 64, 67, 0.15);\n",
              "      fill: #174EA6;\n",
              "    }\n",
              "\n",
              "    .colab-df-buttons div {\n",
              "      margin-bottom: 4px;\n",
              "    }\n",
              "\n",
              "    [theme=dark] .colab-df-convert {\n",
              "      background-color: #3B4455;\n",
              "      fill: #D2E3FC;\n",
              "    }\n",
              "\n",
              "    [theme=dark] .colab-df-convert:hover {\n",
              "      background-color: #434B5C;\n",
              "      box-shadow: 0px 1px 3px 1px rgba(0, 0, 0, 0.15);\n",
              "      filter: drop-shadow(0px 1px 2px rgba(0, 0, 0, 0.3));\n",
              "      fill: #FFFFFF;\n",
              "    }\n",
              "  </style>\n",
              "\n",
              "    <script>\n",
              "      const buttonEl =\n",
              "        document.querySelector('#df-116be548-9a0c-4c50-b57c-2068651f30f5 button.colab-df-convert');\n",
              "      buttonEl.style.display =\n",
              "        google.colab.kernel.accessAllowed ? 'block' : 'none';\n",
              "\n",
              "      async function convertToInteractive(key) {\n",
              "        const element = document.querySelector('#df-116be548-9a0c-4c50-b57c-2068651f30f5');\n",
              "        const dataTable =\n",
              "          await google.colab.kernel.invokeFunction('convertToInteractive',\n",
              "                                                    [key], {});\n",
              "        if (!dataTable) return;\n",
              "\n",
              "        const docLinkHtml = 'Like what you see? Visit the ' +\n",
              "          '<a target=\"_blank\" href=https://colab.research.google.com/notebooks/data_table.ipynb>data table notebook</a>'\n",
              "          + ' to learn more about interactive tables.';\n",
              "        element.innerHTML = '';\n",
              "        dataTable['output_type'] = 'display_data';\n",
              "        await google.colab.output.renderOutput(dataTable, element);\n",
              "        const docLink = document.createElement('div');\n",
              "        docLink.innerHTML = docLinkHtml;\n",
              "        element.appendChild(docLink);\n",
              "      }\n",
              "    </script>\n",
              "  </div>\n",
              "\n",
              "\n",
              "<div id=\"df-34390b8d-e9e7-4028-b241-f3e1c51e7c4f\">\n",
              "  <button class=\"colab-df-quickchart\" onclick=\"quickchart('df-34390b8d-e9e7-4028-b241-f3e1c51e7c4f')\"\n",
              "            title=\"Suggest charts\"\n",
              "            style=\"display:none;\">\n",
              "\n",
              "<svg xmlns=\"http://www.w3.org/2000/svg\" height=\"24px\"viewBox=\"0 0 24 24\"\n",
              "     width=\"24px\">\n",
              "    <g>\n",
              "        <path d=\"M19 3H5c-1.1 0-2 .9-2 2v14c0 1.1.9 2 2 2h14c1.1 0 2-.9 2-2V5c0-1.1-.9-2-2-2zM9 17H7v-7h2v7zm4 0h-2V7h2v10zm4 0h-2v-4h2v4z\"/>\n",
              "    </g>\n",
              "</svg>\n",
              "  </button>\n",
              "\n",
              "<style>\n",
              "  .colab-df-quickchart {\n",
              "      --bg-color: #E8F0FE;\n",
              "      --fill-color: #1967D2;\n",
              "      --hover-bg-color: #E2EBFA;\n",
              "      --hover-fill-color: #174EA6;\n",
              "      --disabled-fill-color: #AAA;\n",
              "      --disabled-bg-color: #DDD;\n",
              "  }\n",
              "\n",
              "  [theme=dark] .colab-df-quickchart {\n",
              "      --bg-color: #3B4455;\n",
              "      --fill-color: #D2E3FC;\n",
              "      --hover-bg-color: #434B5C;\n",
              "      --hover-fill-color: #FFFFFF;\n",
              "      --disabled-bg-color: #3B4455;\n",
              "      --disabled-fill-color: #666;\n",
              "  }\n",
              "\n",
              "  .colab-df-quickchart {\n",
              "    background-color: var(--bg-color);\n",
              "    border: none;\n",
              "    border-radius: 50%;\n",
              "    cursor: pointer;\n",
              "    display: none;\n",
              "    fill: var(--fill-color);\n",
              "    height: 32px;\n",
              "    padding: 0;\n",
              "    width: 32px;\n",
              "  }\n",
              "\n",
              "  .colab-df-quickchart:hover {\n",
              "    background-color: var(--hover-bg-color);\n",
              "    box-shadow: 0 1px 2px rgba(60, 64, 67, 0.3), 0 1px 3px 1px rgba(60, 64, 67, 0.15);\n",
              "    fill: var(--button-hover-fill-color);\n",
              "  }\n",
              "\n",
              "  .colab-df-quickchart-complete:disabled,\n",
              "  .colab-df-quickchart-complete:disabled:hover {\n",
              "    background-color: var(--disabled-bg-color);\n",
              "    fill: var(--disabled-fill-color);\n",
              "    box-shadow: none;\n",
              "  }\n",
              "\n",
              "  .colab-df-spinner {\n",
              "    border: 2px solid var(--fill-color);\n",
              "    border-color: transparent;\n",
              "    border-bottom-color: var(--fill-color);\n",
              "    animation:\n",
              "      spin 1s steps(1) infinite;\n",
              "  }\n",
              "\n",
              "  @keyframes spin {\n",
              "    0% {\n",
              "      border-color: transparent;\n",
              "      border-bottom-color: var(--fill-color);\n",
              "      border-left-color: var(--fill-color);\n",
              "    }\n",
              "    20% {\n",
              "      border-color: transparent;\n",
              "      border-left-color: var(--fill-color);\n",
              "      border-top-color: var(--fill-color);\n",
              "    }\n",
              "    30% {\n",
              "      border-color: transparent;\n",
              "      border-left-color: var(--fill-color);\n",
              "      border-top-color: var(--fill-color);\n",
              "      border-right-color: var(--fill-color);\n",
              "    }\n",
              "    40% {\n",
              "      border-color: transparent;\n",
              "      border-right-color: var(--fill-color);\n",
              "      border-top-color: var(--fill-color);\n",
              "    }\n",
              "    60% {\n",
              "      border-color: transparent;\n",
              "      border-right-color: var(--fill-color);\n",
              "    }\n",
              "    80% {\n",
              "      border-color: transparent;\n",
              "      border-right-color: var(--fill-color);\n",
              "      border-bottom-color: var(--fill-color);\n",
              "    }\n",
              "    90% {\n",
              "      border-color: transparent;\n",
              "      border-bottom-color: var(--fill-color);\n",
              "    }\n",
              "  }\n",
              "</style>\n",
              "\n",
              "  <script>\n",
              "    async function quickchart(key) {\n",
              "      const quickchartButtonEl =\n",
              "        document.querySelector('#' + key + ' button');\n",
              "      quickchartButtonEl.disabled = true;  // To prevent multiple clicks.\n",
              "      quickchartButtonEl.classList.add('colab-df-spinner');\n",
              "      try {\n",
              "        const charts = await google.colab.kernel.invokeFunction(\n",
              "            'suggestCharts', [key], {});\n",
              "      } catch (error) {\n",
              "        console.error('Error during call to suggestCharts:', error);\n",
              "      }\n",
              "      quickchartButtonEl.classList.remove('colab-df-spinner');\n",
              "      quickchartButtonEl.classList.add('colab-df-quickchart-complete');\n",
              "    }\n",
              "    (() => {\n",
              "      let quickchartButtonEl =\n",
              "        document.querySelector('#df-34390b8d-e9e7-4028-b241-f3e1c51e7c4f button');\n",
              "      quickchartButtonEl.style.display =\n",
              "        google.colab.kernel.accessAllowed ? 'block' : 'none';\n",
              "    })();\n",
              "  </script>\n",
              "</div>\n",
              "    </div>\n",
              "  </div>\n"
            ]
          },
          "metadata": {},
          "execution_count": 11
        }
      ]
    },
    {
      "cell_type": "code",
      "source": [
        "X_train, X_test, y_train, y_test = train_test_split(X, y, train_size=0.8, random_state=123)"
      ],
      "metadata": {
        "id": "cmie0A5HOEvQ"
      },
      "execution_count": null,
      "outputs": []
    },
    {
      "cell_type": "markdown",
      "source": [
        "##Preprocessing"
      ],
      "metadata": {
        "id": "x314gquirXbP"
      }
    },
    {
      "cell_type": "code",
      "source": [
        "corr = nasa.corr()\n",
        "plt.figure(figsize=(16, 13))\n",
        "sns.heatmap(corr, annot=True, vmin=-1.0, cmap='mako')\n",
        "plt.title(\"Correlation Heatmap\")\n",
        "plt.show()"
      ],
      "metadata": {
        "colab": {
          "base_uri": "https://localhost:8080/",
          "height": 1000
        },
        "id": "eaKzTK5Ura53",
        "outputId": "c1b07ac8-ae34-4054-cd11-dcea66450546"
      },
      "execution_count": null,
      "outputs": [
        {
          "output_type": "display_data",
          "data": {
            "text/plain": [
              "<Figure size 1600x1300 with 2 Axes>"
            ],
            "image/png": "[encoded data removed]"
          },
          "metadata": {}
        }
      ]
    },
    {
      "cell_type": "code",
      "source": [
        "from itertools import combinations\n",
        "\n",
        "fig, axes = plt.subplots(len(nasa.columns)//3, 3, figsize=(10, 8))\n",
        "\n",
        "i = 0\n",
        "for triaxis in axes:\n",
        "    for axis in triaxis:\n",
        "        nasa.hist(column = nasa.columns[i], bins = 10, ax=axis)\n",
        "        i = i+1"
      ],
      "metadata": {
        "colab": {
          "base_uri": "https://localhost:8080/",
          "height": 717
        },
        "id": "AIRRaDqQr9Y1",
        "outputId": "3d64c065-65b7-4d36-cc82-a15438dc3150"
      },
      "execution_count": null,
      "outputs": [
        {
          "output_type": "display_data",
          "data": {
            "text/plain": [
              "<Figure size 1000x800 with 6 Axes>"
            ],
            "image/png": "[encoded data removed]"
          },
          "metadata": {}
        }
      ]
    },
    {
      "cell_type": "code",
      "source": [
        "names='True', 'False',\n",
        "t = y.sum()\n",
        "f = len(y) - t\n",
        "values=[t,f]\n",
        "plt.pie(values)\n",
        "plt.pie(values, labels=names, labeldistance=1.15);\n",
        "plt.show()\n",
        "print(\"True Percentage:\", round(t/len(y)*100, 4), \"%\")\n",
        "print(\"False Percentage:\", round(f/len(y)*100, 4), \"%\")"
      ],
      "metadata": {
        "colab": {
          "base_uri": "https://localhost:8080/",
          "height": 441
        },
        "id": "swaEfDYrwICs",
        "outputId": "2d2be385-82f2-4d53-9282-4eebd97d0a4e"
      },
      "execution_count": null,
      "outputs": [
        {
          "output_type": "display_data",
          "data": {
            "text/plain": [
              "<Figure size 640x480 with 1 Axes>"
            ],
            "image/png": "[encoded data removed]"
          },
          "metadata": {}
        },
        {
          "output_type": "stream",
          "name": "stdout",
          "text": [
            "True Percentage: 9.7318 %\n",
            "False Percentage: 90.2682 %\n"
          ]
        }
      ]
    },
    {
      "cell_type": "markdown",
      "source": [
        "##XGBoost"
      ],
      "metadata": {
        "id": "NA1ZLVLMhfoc"
      }
    },
    {
      "cell_type": "code",
      "source": [
        "import xgboost\n",
        "from sklearn.model_selection import GridSearchCV\n",
        "from sklearn.metrics import roc_auc_score\n",
        "import os"
      ],
      "metadata": {
        "id": "hohImFxNhaol"
      },
      "execution_count": null,
      "outputs": []
    },
    {
      "cell_type": "code",
      "source": [
        "xgboost.XGBClassifier().get_params()"
      ],
      "metadata": {
        "colab": {
          "base_uri": "https://localhost:8080/"
        },
        "id": "ttVmC7G9iEIQ",
        "outputId": "24d3f32b-dcfb-424e-bc82-30782cf5e6e8"
      },
      "execution_count": null,
      "outputs": [
        {
          "output_type": "execute_result",
          "data": {
            "text/plain": [
              "{'objective': 'binary:logistic',\n",
              " 'base_score': None,\n",
              " 'booster': None,\n",
              " 'callbacks': None,\n",
              " 'colsample_bylevel': None,\n",
              " 'colsample_bynode': None,\n",
              " 'colsample_bytree': None,\n",
              " 'device': None,\n",
              " 'early_stopping_rounds': None,\n",
              " 'enable_categorical': False,\n",
              " 'eval_metric': None,\n",
              " 'feature_types': None,\n",
              " 'gamma': None,\n",
              " 'grow_policy': None,\n",
              " 'importance_type': None,\n",
              " 'interaction_constraints': None,\n",
              " 'learning_rate': None,\n",
              " 'max_bin': None,\n",
              " 'max_cat_threshold': None,\n",
              " 'max_cat_to_onehot': None,\n",
              " 'max_delta_step': None,\n",
              " 'max_depth': None,\n",
              " 'max_leaves': None,\n",
              " 'min_child_weight': None,\n",
              " 'missing': nan,\n",
              " 'monotone_constraints': None,\n",
              " 'multi_strategy': None,\n",
              " 'n_estimators': None,\n",
              " 'n_jobs': None,\n",
              " 'num_parallel_tree': None,\n",
              " 'random_state': None,\n",
              " 'reg_alpha': None,\n",
              " 'reg_lambda': None,\n",
              " 'sampling_method': None,\n",
              " 'scale_pos_weight': None,\n",
              " 'subsample': None,\n",
              " 'tree_method': None,\n",
              " 'validate_parameters': None,\n",
              " 'verbosity': None}"
            ]
          },
          "metadata": {},
          "execution_count": 46
        }
      ]
    },
    {
      "cell_type": "code",
      "source": [
        "xgb = xgboost.XGBClassifier(learning_rate = 0.01,\n",
        "                            max_depth = 7,\n",
        "                            n_estimators = 1000,\n",
        "                            subsample = 0.5,\n",
        "                            colsample_bytree = 0.5,\n",
        "                            eval_metric = 'auc',\n",
        "                            verbosity = 1)\n",
        "\n",
        "eval_set = [(X_test, y_test)]\n",
        "xgb.fit(X_train, y_train, early_stopping_rounds=200, eval_set=eval_set, verbose=True)"
      ],
      "metadata": {
        "colab": {
          "base_uri": "https://localhost:8080/",
          "height": 1000
        },
        "id": "GsFkcU2lieON",
        "outputId": "e473fb92-5eac-4d99-e587-9f28c4389223"
      },
      "execution_count": null,
      "outputs": [
        {
          "output_type": "stream",
          "name": "stdout",
          "text": [
            "[0]\tvalidation_0-auc:0.90043\n",
            "[1]\tvalidation_0-auc:0.90169\n",
            "[2]\tvalidation_0-auc:0.90870\n",
            "[3]\tvalidation_0-auc:0.90942\n",
            "[4]\tvalidation_0-auc:0.91143\n",
            "[5]\tvalidation_0-auc:0.91190\n",
            "[6]\tvalidation_0-auc:0.91202\n",
            "[7]\tvalidation_0-auc:0.91329\n",
            "[8]\tvalidation_0-auc:0.91389\n"
          ]
        },
        {
          "output_type": "stream",
          "name": "stderr",
          "text": [
            "/usr/local/lib/python3.10/dist-packages/xgboost/sklearn.py:885: UserWarning: `early_stopping_rounds` in `fit` method is deprecated for better compatibility with scikit-learn, use `early_stopping_rounds` in constructor or`set_params` instead.\n",
            "  warnings.warn(\n"
          ]
        },
        {
          "output_type": "stream",
          "name": "stdout",
          "text": [
            "[9]\tvalidation_0-auc:0.91409\n",
            "[10]\tvalidation_0-auc:0.91442\n",
            "[11]\tvalidation_0-auc:0.91455\n",
            "[12]\tvalidation_0-auc:0.91435\n",
            "[13]\tvalidation_0-auc:0.91463\n",
            "[14]\tvalidation_0-auc:0.91460\n",
            "[15]\tvalidation_0-auc:0.91471\n",
            "[16]\tvalidation_0-auc:0.91478\n",
            "[17]\tvalidation_0-auc:0.91474\n",
            "[18]\tvalidation_0-auc:0.91501\n",
            "[19]\tvalidation_0-auc:0.91541\n",
            "[20]\tvalidation_0-auc:0.91555\n",
            "[21]\tvalidation_0-auc:0.91545\n",
            "[22]\tvalidation_0-auc:0.91551\n",
            "[23]\tvalidation_0-auc:0.91560\n",
            "[24]\tvalidation_0-auc:0.91556\n",
            "[25]\tvalidation_0-auc:0.91557\n",
            "[26]\tvalidation_0-auc:0.91553\n",
            "[27]\tvalidation_0-auc:0.91573\n",
            "[28]\tvalidation_0-auc:0.91591\n",
            "[29]\tvalidation_0-auc:0.91594\n",
            "[30]\tvalidation_0-auc:0.91619\n",
            "[31]\tvalidation_0-auc:0.91619\n",
            "[32]\tvalidation_0-auc:0.91619\n",
            "[33]\tvalidation_0-auc:0.91609\n",
            "[34]\tvalidation_0-auc:0.91606\n",
            "[35]\tvalidation_0-auc:0.91599\n",
            "[36]\tvalidation_0-auc:0.91604\n",
            "[37]\tvalidation_0-auc:0.91604\n",
            "[38]\tvalidation_0-auc:0.91616\n",
            "[39]\tvalidation_0-auc:0.91614\n",
            "[40]\tvalidation_0-auc:0.91620\n",
            "[41]\tvalidation_0-auc:0.91621\n",
            "[42]\tvalidation_0-auc:0.91633\n",
            "[43]\tvalidation_0-auc:0.91639\n",
            "[44]\tvalidation_0-auc:0.91638\n",
            "[45]\tvalidation_0-auc:0.91637\n",
            "[46]\tvalidation_0-auc:0.91647\n",
            "[47]\tvalidation_0-auc:0.91644\n",
            "[48]\tvalidation_0-auc:0.91656\n",
            "[49]\tvalidation_0-auc:0.91657\n",
            "[50]\tvalidation_0-auc:0.91653\n",
            "[51]\tvalidation_0-auc:0.91671\n",
            "[52]\tvalidation_0-auc:0.91669\n",
            "[53]\tvalidation_0-auc:0.91673\n",
            "[54]\tvalidation_0-auc:0.91663\n",
            "[55]\tvalidation_0-auc:0.91665\n",
            "[56]\tvalidation_0-auc:0.91679\n",
            "[57]\tvalidation_0-auc:0.91683\n",
            "[58]\tvalidation_0-auc:0.91681\n",
            "[59]\tvalidation_0-auc:0.91693\n",
            "[60]\tvalidation_0-auc:0.91686\n",
            "[61]\tvalidation_0-auc:0.91695\n",
            "[62]\tvalidation_0-auc:0.91698\n",
            "[63]\tvalidation_0-auc:0.91698\n",
            "[64]\tvalidation_0-auc:0.91698\n",
            "[65]\tvalidation_0-auc:0.91696\n",
            "[66]\tvalidation_0-auc:0.91696\n",
            "[67]\tvalidation_0-auc:0.91690\n",
            "[68]\tvalidation_0-auc:0.91694\n",
            "[69]\tvalidation_0-auc:0.91702\n",
            "[70]\tvalidation_0-auc:0.91715\n",
            "[71]\tvalidation_0-auc:0.91707\n",
            "[72]\tvalidation_0-auc:0.91708\n",
            "[73]\tvalidation_0-auc:0.91718\n",
            "[74]\tvalidation_0-auc:0.91730\n",
            "[75]\tvalidation_0-auc:0.91736\n",
            "[76]\tvalidation_0-auc:0.91741\n",
            "[77]\tvalidation_0-auc:0.91740\n",
            "[78]\tvalidation_0-auc:0.91743\n",
            "[79]\tvalidation_0-auc:0.91739\n",
            "[80]\tvalidation_0-auc:0.91735\n",
            "[81]\tvalidation_0-auc:0.91733\n",
            "[82]\tvalidation_0-auc:0.91735\n",
            "[83]\tvalidation_0-auc:0.91735\n",
            "[84]\tvalidation_0-auc:0.91734\n",
            "[85]\tvalidation_0-auc:0.91734\n",
            "[86]\tvalidation_0-auc:0.91730\n",
            "[87]\tvalidation_0-auc:0.91733\n",
            "[88]\tvalidation_0-auc:0.91732\n",
            "[89]\tvalidation_0-auc:0.91733\n",
            "[90]\tvalidation_0-auc:0.91740\n",
            "[91]\tvalidation_0-auc:0.91738\n",
            "[92]\tvalidation_0-auc:0.91740\n",
            "[93]\tvalidation_0-auc:0.91738\n",
            "[94]\tvalidation_0-auc:0.91737\n",
            "[95]\tvalidation_0-auc:0.91736\n",
            "[96]\tvalidation_0-auc:0.91739\n",
            "[97]\tvalidation_0-auc:0.91742\n",
            "[98]\tvalidation_0-auc:0.91745\n",
            "[99]\tvalidation_0-auc:0.91739\n",
            "[100]\tvalidation_0-auc:0.91738\n",
            "[101]\tvalidation_0-auc:0.91740\n",
            "[102]\tvalidation_0-auc:0.91742\n",
            "[103]\tvalidation_0-auc:0.91749\n",
            "[104]\tvalidation_0-auc:0.91755\n",
            "[105]\tvalidation_0-auc:0.91752\n",
            "[106]\tvalidation_0-auc:0.91751\n",
            "[107]\tvalidation_0-auc:0.91756\n",
            "[108]\tvalidation_0-auc:0.91752\n",
            "[109]\tvalidation_0-auc:0.91757\n",
            "[110]\tvalidation_0-auc:0.91761\n",
            "[111]\tvalidation_0-auc:0.91772\n",
            "[112]\tvalidation_0-auc:0.91771\n",
            "[113]\tvalidation_0-auc:0.91776\n",
            "[114]\tvalidation_0-auc:0.91778\n",
            "[115]\tvalidation_0-auc:0.91777\n",
            "[116]\tvalidation_0-auc:0.91777\n",
            "[117]\tvalidation_0-auc:0.91780\n",
            "[118]\tvalidation_0-auc:0.91782\n",
            "[119]\tvalidation_0-auc:0.91784\n",
            "[120]\tvalidation_0-auc:0.91788\n",
            "[121]\tvalidation_0-auc:0.91792\n",
            "[122]\tvalidation_0-auc:0.91794\n",
            "[123]\tvalidation_0-auc:0.91799\n",
            "[124]\tvalidation_0-auc:0.91802\n",
            "[125]\tvalidation_0-auc:0.91804\n",
            "[126]\tvalidation_0-auc:0.91807\n",
            "[127]\tvalidation_0-auc:0.91807\n",
            "[128]\tvalidation_0-auc:0.91808\n",
            "[129]\tvalidation_0-auc:0.91808\n",
            "[130]\tvalidation_0-auc:0.91809\n",
            "[131]\tvalidation_0-auc:0.91807\n",
            "[132]\tvalidation_0-auc:0.91809\n",
            "[133]\tvalidation_0-auc:0.91810\n",
            "[134]\tvalidation_0-auc:0.91815\n",
            "[135]\tvalidation_0-auc:0.91818\n",
            "[136]\tvalidation_0-auc:0.91817\n",
            "[137]\tvalidation_0-auc:0.91815\n",
            "[138]\tvalidation_0-auc:0.91819\n",
            "[139]\tvalidation_0-auc:0.91824\n",
            "[140]\tvalidation_0-auc:0.91823\n",
            "[141]\tvalidation_0-auc:0.91822\n",
            "[142]\tvalidation_0-auc:0.91821\n",
            "[143]\tvalidation_0-auc:0.91824\n",
            "[144]\tvalidation_0-auc:0.91823\n",
            "[145]\tvalidation_0-auc:0.91824\n",
            "[146]\tvalidation_0-auc:0.91825\n",
            "[147]\tvalidation_0-auc:0.91826\n",
            "[148]\tvalidation_0-auc:0.91828\n",
            "[149]\tvalidation_0-auc:0.91831\n",
            "[150]\tvalidation_0-auc:0.91831\n",
            "[151]\tvalidation_0-auc:0.91832\n",
            "[152]\tvalidation_0-auc:0.91834\n",
            "[153]\tvalidation_0-auc:0.91832\n",
            "[154]\tvalidation_0-auc:0.91830\n",
            "[155]\tvalidation_0-auc:0.91827\n",
            "[156]\tvalidation_0-auc:0.91827\n",
            "[157]\tvalidation_0-auc:0.91827\n",
            "[158]\tvalidation_0-auc:0.91827\n",
            "[159]\tvalidation_0-auc:0.91826\n",
            "[160]\tvalidation_0-auc:0.91827\n",
            "[161]\tvalidation_0-auc:0.91829\n",
            "[162]\tvalidation_0-auc:0.91831\n",
            "[163]\tvalidation_0-auc:0.91839\n",
            "[164]\tvalidation_0-auc:0.91839\n",
            "[165]\tvalidation_0-auc:0.91840\n",
            "[166]\tvalidation_0-auc:0.91837\n",
            "[167]\tvalidation_0-auc:0.91834\n",
            "[168]\tvalidation_0-auc:0.91836\n",
            "[169]\tvalidation_0-auc:0.91839\n",
            "[170]\tvalidation_0-auc:0.91840\n",
            "[171]\tvalidation_0-auc:0.91838\n",
            "[172]\tvalidation_0-auc:0.91838\n",
            "[173]\tvalidation_0-auc:0.91843\n",
            "[174]\tvalidation_0-auc:0.91844\n",
            "[175]\tvalidation_0-auc:0.91846\n",
            "[176]\tvalidation_0-auc:0.91849\n",
            "[177]\tvalidation_0-auc:0.91852\n",
            "[178]\tvalidation_0-auc:0.91853\n",
            "[179]\tvalidation_0-auc:0.91857\n",
            "[180]\tvalidation_0-auc:0.91857\n",
            "[181]\tvalidation_0-auc:0.91856\n",
            "[182]\tvalidation_0-auc:0.91860\n",
            "[183]\tvalidation_0-auc:0.91860\n",
            "[184]\tvalidation_0-auc:0.91859\n",
            "[185]\tvalidation_0-auc:0.91866\n",
            "[186]\tvalidation_0-auc:0.91866\n",
            "[187]\tvalidation_0-auc:0.91867\n",
            "[188]\tvalidation_0-auc:0.91866\n",
            "[189]\tvalidation_0-auc:0.91868\n",
            "[190]\tvalidation_0-auc:0.91868\n",
            "[191]\tvalidation_0-auc:0.91872\n",
            "[192]\tvalidation_0-auc:0.91870\n",
            "[193]\tvalidation_0-auc:0.91869\n",
            "[194]\tvalidation_0-auc:0.91870\n",
            "[195]\tvalidation_0-auc:0.91869\n",
            "[196]\tvalidation_0-auc:0.91874\n",
            "[197]\tvalidation_0-auc:0.91873\n",
            "[198]\tvalidation_0-auc:0.91870\n",
            "[199]\tvalidation_0-auc:0.91873\n",
            "[200]\tvalidation_0-auc:0.91871\n",
            "[201]\tvalidation_0-auc:0.91872\n",
            "[202]\tvalidation_0-auc:0.91875\n",
            "[203]\tvalidation_0-auc:0.91875\n",
            "[204]\tvalidation_0-auc:0.91876\n",
            "[205]\tvalidation_0-auc:0.91875\n",
            "[206]\tvalidation_0-auc:0.91874\n",
            "[207]\tvalidation_0-auc:0.91874\n",
            "[208]\tvalidation_0-auc:0.91878\n",
            "[209]\tvalidation_0-auc:0.91875\n",
            "[210]\tvalidation_0-auc:0.91874\n",
            "[211]\tvalidation_0-auc:0.91875\n",
            "[212]\tvalidation_0-auc:0.91876\n",
            "[213]\tvalidation_0-auc:0.91876\n",
            "[214]\tvalidation_0-auc:0.91875\n",
            "[215]\tvalidation_0-auc:0.91876\n",
            "[216]\tvalidation_0-auc:0.91879\n",
            "[217]\tvalidation_0-auc:0.91879\n",
            "[218]\tvalidation_0-auc:0.91876\n",
            "[219]\tvalidation_0-auc:0.91876\n",
            "[220]\tvalidation_0-auc:0.91897\n",
            "[221]\tvalidation_0-auc:0.91898\n",
            "[222]\tvalidation_0-auc:0.91900\n",
            "[223]\tvalidation_0-auc:0.91901\n",
            "[224]\tvalidation_0-auc:0.91902\n",
            "[225]\tvalidation_0-auc:0.91903\n",
            "[226]\tvalidation_0-auc:0.91907\n",
            "[227]\tvalidation_0-auc:0.91907\n",
            "[228]\tvalidation_0-auc:0.91906\n",
            "[229]\tvalidation_0-auc:0.91907\n",
            "[230]\tvalidation_0-auc:0.91907\n",
            "[231]\tvalidation_0-auc:0.91911\n",
            "[232]\tvalidation_0-auc:0.91913\n",
            "[233]\tvalidation_0-auc:0.91917\n",
            "[234]\tvalidation_0-auc:0.91916\n",
            "[235]\tvalidation_0-auc:0.91915\n",
            "[236]\tvalidation_0-auc:0.91913\n",
            "[237]\tvalidation_0-auc:0.91915\n",
            "[238]\tvalidation_0-auc:0.91916\n",
            "[239]\tvalidation_0-auc:0.91917\n",
            "[240]\tvalidation_0-auc:0.91918\n",
            "[241]\tvalidation_0-auc:0.91920\n",
            "[242]\tvalidation_0-auc:0.91919\n",
            "[243]\tvalidation_0-auc:0.91921\n",
            "[244]\tvalidation_0-auc:0.91920\n",
            "[245]\tvalidation_0-auc:0.91919\n",
            "[246]\tvalidation_0-auc:0.91922\n",
            "[247]\tvalidation_0-auc:0.91926\n",
            "[248]\tvalidation_0-auc:0.91925\n",
            "[249]\tvalidation_0-auc:0.91924\n",
            "[250]\tvalidation_0-auc:0.91923\n",
            "[251]\tvalidation_0-auc:0.91922\n",
            "[252]\tvalidation_0-auc:0.91924\n",
            "[253]\tvalidation_0-auc:0.91925\n",
            "[254]\tvalidation_0-auc:0.91927\n",
            "[255]\tvalidation_0-auc:0.91927\n",
            "[256]\tvalidation_0-auc:0.91931\n",
            "[257]\tvalidation_0-auc:0.91930\n",
            "[258]\tvalidation_0-auc:0.91930\n",
            "[259]\tvalidation_0-auc:0.91930\n",
            "[260]\tvalidation_0-auc:0.91934\n",
            "[261]\tvalidation_0-auc:0.91931\n",
            "[262]\tvalidation_0-auc:0.91932\n",
            "[263]\tvalidation_0-auc:0.91934\n",
            "[264]\tvalidation_0-auc:0.91933\n",
            "[265]\tvalidation_0-auc:0.91932\n",
            "[266]\tvalidation_0-auc:0.91936\n",
            "[267]\tvalidation_0-auc:0.91934\n",
            "[268]\tvalidation_0-auc:0.91939\n",
            "[269]\tvalidation_0-auc:0.91944\n",
            "[270]\tvalidation_0-auc:0.91944\n",
            "[271]\tvalidation_0-auc:0.91945\n",
            "[272]\tvalidation_0-auc:0.91945\n",
            "[273]\tvalidation_0-auc:0.91943\n",
            "[274]\tvalidation_0-auc:0.91943\n",
            "[275]\tvalidation_0-auc:0.91944\n",
            "[276]\tvalidation_0-auc:0.91944\n",
            "[277]\tvalidation_0-auc:0.91945\n",
            "[278]\tvalidation_0-auc:0.91944\n",
            "[279]\tvalidation_0-auc:0.91944\n",
            "[280]\tvalidation_0-auc:0.91944\n",
            "[281]\tvalidation_0-auc:0.91941\n",
            "[282]\tvalidation_0-auc:0.91941\n",
            "[283]\tvalidation_0-auc:0.91943\n",
            "[284]\tvalidation_0-auc:0.91943\n",
            "[285]\tvalidation_0-auc:0.91943\n",
            "[286]\tvalidation_0-auc:0.91945\n",
            "[287]\tvalidation_0-auc:0.91943\n",
            "[288]\tvalidation_0-auc:0.91948\n",
            "[289]\tvalidation_0-auc:0.91948\n",
            "[290]\tvalidation_0-auc:0.91948\n",
            "[291]\tvalidation_0-auc:0.91948\n",
            "[292]\tvalidation_0-auc:0.91946\n",
            "[293]\tvalidation_0-auc:0.91945\n",
            "[294]\tvalidation_0-auc:0.91948\n",
            "[295]\tvalidation_0-auc:0.91949\n",
            "[296]\tvalidation_0-auc:0.91950\n",
            "[297]\tvalidation_0-auc:0.91952\n",
            "[298]\tvalidation_0-auc:0.91954\n",
            "[299]\tvalidation_0-auc:0.91955\n",
            "[300]\tvalidation_0-auc:0.91954\n",
            "[301]\tvalidation_0-auc:0.91953\n",
            "[302]\tvalidation_0-auc:0.91951\n",
            "[303]\tvalidation_0-auc:0.91950\n",
            "[304]\tvalidation_0-auc:0.91953\n",
            "[305]\tvalidation_0-auc:0.91954\n",
            "[306]\tvalidation_0-auc:0.91954\n",
            "[307]\tvalidation_0-auc:0.91958\n",
            "[308]\tvalidation_0-auc:0.91958\n",
            "[309]\tvalidation_0-auc:0.91958\n",
            "[310]\tvalidation_0-auc:0.91958\n",
            "[311]\tvalidation_0-auc:0.91957\n",
            "[312]\tvalidation_0-auc:0.91955\n",
            "[313]\tvalidation_0-auc:0.91955\n",
            "[314]\tvalidation_0-auc:0.91957\n",
            "[315]\tvalidation_0-auc:0.91957\n",
            "[316]\tvalidation_0-auc:0.91956\n",
            "[317]\tvalidation_0-auc:0.91958\n",
            "[318]\tvalidation_0-auc:0.91961\n",
            "[319]\tvalidation_0-auc:0.91960\n",
            "[320]\tvalidation_0-auc:0.91963\n",
            "[321]\tvalidation_0-auc:0.91963\n",
            "[322]\tvalidation_0-auc:0.91962\n",
            "[323]\tvalidation_0-auc:0.91964\n",
            "[324]\tvalidation_0-auc:0.91966\n",
            "[325]\tvalidation_0-auc:0.91968\n",
            "[326]\tvalidation_0-auc:0.91969\n",
            "[327]\tvalidation_0-auc:0.91971\n",
            "[328]\tvalidation_0-auc:0.91974\n",
            "[329]\tvalidation_0-auc:0.91973\n",
            "[330]\tvalidation_0-auc:0.91974\n",
            "[331]\tvalidation_0-auc:0.91976\n",
            "[332]\tvalidation_0-auc:0.91977\n",
            "[333]\tvalidation_0-auc:0.91979\n",
            "[334]\tvalidation_0-auc:0.91978\n",
            "[335]\tvalidation_0-auc:0.91978\n",
            "[336]\tvalidation_0-auc:0.91981\n",
            "[337]\tvalidation_0-auc:0.91981\n",
            "[338]\tvalidation_0-auc:0.91981\n",
            "[339]\tvalidation_0-auc:0.91981\n",
            "[340]\tvalidation_0-auc:0.91980\n",
            "[341]\tvalidation_0-auc:0.91981\n",
            "[342]\tvalidation_0-auc:0.91982\n",
            "[343]\tvalidation_0-auc:0.91980\n",
            "[344]\tvalidation_0-auc:0.91981\n",
            "[345]\tvalidation_0-auc:0.91980\n",
            "[346]\tvalidation_0-auc:0.91982\n",
            "[347]\tvalidation_0-auc:0.91984\n",
            "[348]\tvalidation_0-auc:0.91987\n",
            "[349]\tvalidation_0-auc:0.91986\n",
            "[350]\tvalidation_0-auc:0.91988\n",
            "[351]\tvalidation_0-auc:0.91988\n",
            "[352]\tvalidation_0-auc:0.91988\n",
            "[353]\tvalidation_0-auc:0.91986\n",
            "[354]\tvalidation_0-auc:0.91988\n",
            "[355]\tvalidation_0-auc:0.91993\n",
            "[356]\tvalidation_0-auc:0.91991\n",
            "[357]\tvalidation_0-auc:0.91992\n",
            "[358]\tvalidation_0-auc:0.91993\n",
            "[359]\tvalidation_0-auc:0.91994\n",
            "[360]\tvalidation_0-auc:0.91996\n",
            "[361]\tvalidation_0-auc:0.91998\n",
            "[362]\tvalidation_0-auc:0.91999\n",
            "[363]\tvalidation_0-auc:0.91999\n",
            "[364]\tvalidation_0-auc:0.91999\n",
            "[365]\tvalidation_0-auc:0.91999\n",
            "[366]\tvalidation_0-auc:0.92001\n",
            "[367]\tvalidation_0-auc:0.92002\n",
            "[368]\tvalidation_0-auc:0.92002\n",
            "[369]\tvalidation_0-auc:0.92003\n",
            "[370]\tvalidation_0-auc:0.92005\n",
            "[371]\tvalidation_0-auc:0.92007\n",
            "[372]\tvalidation_0-auc:0.92007\n",
            "[373]\tvalidation_0-auc:0.92009\n",
            "[374]\tvalidation_0-auc:0.92010\n",
            "[375]\tvalidation_0-auc:0.92010\n",
            "[376]\tvalidation_0-auc:0.92012\n",
            "[377]\tvalidation_0-auc:0.92012\n",
            "[378]\tvalidation_0-auc:0.92012\n",
            "[379]\tvalidation_0-auc:0.92012\n",
            "[380]\tvalidation_0-auc:0.92012\n",
            "[381]\tvalidation_0-auc:0.92011\n",
            "[382]\tvalidation_0-auc:0.92012\n",
            "[383]\tvalidation_0-auc:0.92011\n",
            "[384]\tvalidation_0-auc:0.92011\n",
            "[385]\tvalidation_0-auc:0.92013\n",
            "[386]\tvalidation_0-auc:0.92016\n",
            "[387]\tvalidation_0-auc:0.92017\n",
            "[388]\tvalidation_0-auc:0.92014\n",
            "[389]\tvalidation_0-auc:0.92014\n",
            "[390]\tvalidation_0-auc:0.92014\n",
            "[391]\tvalidation_0-auc:0.92014\n",
            "[392]\tvalidation_0-auc:0.92016\n",
            "[393]\tvalidation_0-auc:0.92017\n",
            "[394]\tvalidation_0-auc:0.92018\n",
            "[395]\tvalidation_0-auc:0.92019\n",
            "[396]\tvalidation_0-auc:0.92019\n",
            "[397]\tvalidation_0-auc:0.92020\n",
            "[398]\tvalidation_0-auc:0.92020\n",
            "[399]\tvalidation_0-auc:0.92022\n",
            "[400]\tvalidation_0-auc:0.92023\n",
            "[401]\tvalidation_0-auc:0.92024\n",
            "[402]\tvalidation_0-auc:0.92022\n",
            "[403]\tvalidation_0-auc:0.92024\n",
            "[404]\tvalidation_0-auc:0.92025\n",
            "[405]\tvalidation_0-auc:0.92028\n",
            "[406]\tvalidation_0-auc:0.92030\n",
            "[407]\tvalidation_0-auc:0.92030\n",
            "[408]\tvalidation_0-auc:0.92032\n",
            "[409]\tvalidation_0-auc:0.92032\n",
            "[410]\tvalidation_0-auc:0.92034\n",
            "[411]\tvalidation_0-auc:0.92032\n",
            "[412]\tvalidation_0-auc:0.92033\n",
            "[413]\tvalidation_0-auc:0.92032\n",
            "[414]\tvalidation_0-auc:0.92032\n",
            "[415]\tvalidation_0-auc:0.92032\n",
            "[416]\tvalidation_0-auc:0.92031\n",
            "[417]\tvalidation_0-auc:0.92032\n",
            "[418]\tvalidation_0-auc:0.92031\n",
            "[419]\tvalidation_0-auc:0.92031\n",
            "[420]\tvalidation_0-auc:0.92034\n",
            "[421]\tvalidation_0-auc:0.92035\n",
            "[422]\tvalidation_0-auc:0.92034\n",
            "[423]\tvalidation_0-auc:0.92034\n",
            "[424]\tvalidation_0-auc:0.92035\n",
            "[425]\tvalidation_0-auc:0.92034\n",
            "[426]\tvalidation_0-auc:0.92037\n",
            "[427]\tvalidation_0-auc:0.92037\n",
            "[428]\tvalidation_0-auc:0.92037\n",
            "[429]\tvalidation_0-auc:0.92039\n",
            "[430]\tvalidation_0-auc:0.92039\n",
            "[431]\tvalidation_0-auc:0.92040\n",
            "[432]\tvalidation_0-auc:0.92038\n",
            "[433]\tvalidation_0-auc:0.92039\n",
            "[434]\tvalidation_0-auc:0.92041\n",
            "[435]\tvalidation_0-auc:0.92040\n",
            "[436]\tvalidation_0-auc:0.92040\n",
            "[437]\tvalidation_0-auc:0.92040\n",
            "[438]\tvalidation_0-auc:0.92041\n",
            "[439]\tvalidation_0-auc:0.92041\n",
            "[440]\tvalidation_0-auc:0.92040\n",
            "[441]\tvalidation_0-auc:0.92040\n",
            "[442]\tvalidation_0-auc:0.92041\n",
            "[443]\tvalidation_0-auc:0.92042\n",
            "[444]\tvalidation_0-auc:0.92043\n",
            "[445]\tvalidation_0-auc:0.92044\n",
            "[446]\tvalidation_0-auc:0.92045\n",
            "[447]\tvalidation_0-auc:0.92046\n",
            "[448]\tvalidation_0-auc:0.92046\n",
            "[449]\tvalidation_0-auc:0.92047\n",
            "[450]\tvalidation_0-auc:0.92045\n",
            "[451]\tvalidation_0-auc:0.92045\n",
            "[452]\tvalidation_0-auc:0.92045\n",
            "[453]\tvalidation_0-auc:0.92048\n",
            "[454]\tvalidation_0-auc:0.92048\n",
            "[455]\tvalidation_0-auc:0.92048\n",
            "[456]\tvalidation_0-auc:0.92047\n",
            "[457]\tvalidation_0-auc:0.92048\n",
            "[458]\tvalidation_0-auc:0.92049\n",
            "[459]\tvalidation_0-auc:0.92050\n",
            "[460]\tvalidation_0-auc:0.92053\n",
            "[461]\tvalidation_0-auc:0.92054\n",
            "[462]\tvalidation_0-auc:0.92055\n",
            "[463]\tvalidation_0-auc:0.92053\n",
            "[464]\tvalidation_0-auc:0.92056\n",
            "[465]\tvalidation_0-auc:0.92055\n",
            "[466]\tvalidation_0-auc:0.92055\n",
            "[467]\tvalidation_0-auc:0.92054\n",
            "[468]\tvalidation_0-auc:0.92057\n",
            "[469]\tvalidation_0-auc:0.92056\n",
            "[470]\tvalidation_0-auc:0.92059\n",
            "[471]\tvalidation_0-auc:0.92061\n",
            "[472]\tvalidation_0-auc:0.92062\n",
            "[473]\tvalidation_0-auc:0.92062\n",
            "[474]\tvalidation_0-auc:0.92062\n",
            "[475]\tvalidation_0-auc:0.92062\n",
            "[476]\tvalidation_0-auc:0.92062\n",
            "[477]\tvalidation_0-auc:0.92061\n",
            "[478]\tvalidation_0-auc:0.92063\n",
            "[479]\tvalidation_0-auc:0.92063\n",
            "[480]\tvalidation_0-auc:0.92064\n",
            "[481]\tvalidation_0-auc:0.92063\n",
            "[482]\tvalidation_0-auc:0.92063\n",
            "[483]\tvalidation_0-auc:0.92064\n",
            "[484]\tvalidation_0-auc:0.92063\n",
            "[485]\tvalidation_0-auc:0.92065\n",
            "[486]\tvalidation_0-auc:0.92065\n",
            "[487]\tvalidation_0-auc:0.92063\n",
            "[488]\tvalidation_0-auc:0.92064\n",
            "[489]\tvalidation_0-auc:0.92063\n",
            "[490]\tvalidation_0-auc:0.92064\n",
            "[491]\tvalidation_0-auc:0.92063\n",
            "[492]\tvalidation_0-auc:0.92063\n",
            "[493]\tvalidation_0-auc:0.92064\n",
            "[494]\tvalidation_0-auc:0.92066\n",
            "[495]\tvalidation_0-auc:0.92065\n",
            "[496]\tvalidation_0-auc:0.92067\n",
            "[497]\tvalidation_0-auc:0.92064\n",
            "[498]\tvalidation_0-auc:0.92066\n",
            "[499]\tvalidation_0-auc:0.92063\n",
            "[500]\tvalidation_0-auc:0.92067\n",
            "[501]\tvalidation_0-auc:0.92066\n",
            "[502]\tvalidation_0-auc:0.92066\n",
            "[503]\tvalidation_0-auc:0.92067\n",
            "[504]\tvalidation_0-auc:0.92068\n",
            "[505]\tvalidation_0-auc:0.92070\n",
            "[506]\tvalidation_0-auc:0.92072\n",
            "[507]\tvalidation_0-auc:0.92076\n",
            "[508]\tvalidation_0-auc:0.92078\n",
            "[509]\tvalidation_0-auc:0.92079\n",
            "[510]\tvalidation_0-auc:0.92080\n",
            "[511]\tvalidation_0-auc:0.92078\n",
            "[512]\tvalidation_0-auc:0.92077\n",
            "[513]\tvalidation_0-auc:0.92078\n",
            "[514]\tvalidation_0-auc:0.92078\n",
            "[515]\tvalidation_0-auc:0.92079\n",
            "[516]\tvalidation_0-auc:0.92079\n",
            "[517]\tvalidation_0-auc:0.92078\n",
            "[518]\tvalidation_0-auc:0.92079\n",
            "[519]\tvalidation_0-auc:0.92079\n",
            "[520]\tvalidation_0-auc:0.92079\n",
            "[521]\tvalidation_0-auc:0.92079\n",
            "[522]\tvalidation_0-auc:0.92080\n",
            "[523]\tvalidation_0-auc:0.92080\n",
            "[524]\tvalidation_0-auc:0.92081\n",
            "[525]\tvalidation_0-auc:0.92080\n",
            "[526]\tvalidation_0-auc:0.92080\n",
            "[527]\tvalidation_0-auc:0.92080\n",
            "[528]\tvalidation_0-auc:0.92080\n",
            "[529]\tvalidation_0-auc:0.92082\n",
            "[530]\tvalidation_0-auc:0.92084\n",
            "[531]\tvalidation_0-auc:0.92086\n",
            "[532]\tvalidation_0-auc:0.92086\n",
            "[533]\tvalidation_0-auc:0.92087\n",
            "[534]\tvalidation_0-auc:0.92089\n",
            "[535]\tvalidation_0-auc:0.92091\n",
            "[536]\tvalidation_0-auc:0.92093\n",
            "[537]\tvalidation_0-auc:0.92093\n",
            "[538]\tvalidation_0-auc:0.92095\n",
            "[539]\tvalidation_0-auc:0.92097\n",
            "[540]\tvalidation_0-auc:0.92098\n",
            "[541]\tvalidation_0-auc:0.92098\n",
            "[542]\tvalidation_0-auc:0.92098\n",
            "[543]\tvalidation_0-auc:0.92100\n",
            "[544]\tvalidation_0-auc:0.92101\n",
            "[545]\tvalidation_0-auc:0.92101\n",
            "[546]\tvalidation_0-auc:0.92102\n",
            "[547]\tvalidation_0-auc:0.92102\n",
            "[548]\tvalidation_0-auc:0.92101\n",
            "[549]\tvalidation_0-auc:0.92101\n",
            "[550]\tvalidation_0-auc:0.92101\n",
            "[551]\tvalidation_0-auc:0.92101\n",
            "[552]\tvalidation_0-auc:0.92101\n",
            "[553]\tvalidation_0-auc:0.92101\n",
            "[554]\tvalidation_0-auc:0.92103\n",
            "[555]\tvalidation_0-auc:0.92103\n",
            "[556]\tvalidation_0-auc:0.92104\n",
            "[557]\tvalidation_0-auc:0.92105\n",
            "[558]\tvalidation_0-auc:0.92104\n",
            "[559]\tvalidation_0-auc:0.92104\n",
            "[560]\tvalidation_0-auc:0.92105\n",
            "[561]\tvalidation_0-auc:0.92106\n",
            "[562]\tvalidation_0-auc:0.92106\n",
            "[563]\tvalidation_0-auc:0.92107\n",
            "[564]\tvalidation_0-auc:0.92108\n",
            "[565]\tvalidation_0-auc:0.92108\n",
            "[566]\tvalidation_0-auc:0.92108\n",
            "[567]\tvalidation_0-auc:0.92110\n",
            "[568]\tvalidation_0-auc:0.92110\n",
            "[569]\tvalidation_0-auc:0.92110\n",
            "[570]\tvalidation_0-auc:0.92111\n",
            "[571]\tvalidation_0-auc:0.92112\n",
            "[572]\tvalidation_0-auc:0.92114\n",
            "[573]\tvalidation_0-auc:0.92114\n",
            "[574]\tvalidation_0-auc:0.92115\n",
            "[575]\tvalidation_0-auc:0.92117\n",
            "[576]\tvalidation_0-auc:0.92117\n",
            "[577]\tvalidation_0-auc:0.92117\n",
            "[578]\tvalidation_0-auc:0.92117\n",
            "[579]\tvalidation_0-auc:0.92117\n",
            "[580]\tvalidation_0-auc:0.92116\n",
            "[581]\tvalidation_0-auc:0.92117\n",
            "[582]\tvalidation_0-auc:0.92116\n",
            "[583]\tvalidation_0-auc:0.92118\n",
            "[584]\tvalidation_0-auc:0.92117\n",
            "[585]\tvalidation_0-auc:0.92118\n",
            "[586]\tvalidation_0-auc:0.92120\n",
            "[587]\tvalidation_0-auc:0.92120\n",
            "[588]\tvalidation_0-auc:0.92120\n",
            "[589]\tvalidation_0-auc:0.92121\n",
            "[590]\tvalidation_0-auc:0.92123\n",
            "[591]\tvalidation_0-auc:0.92123\n",
            "[592]\tvalidation_0-auc:0.92123\n",
            "[593]\tvalidation_0-auc:0.92124\n",
            "[594]\tvalidation_0-auc:0.92124\n",
            "[595]\tvalidation_0-auc:0.92125\n",
            "[596]\tvalidation_0-auc:0.92125\n",
            "[597]\tvalidation_0-auc:0.92125\n",
            "[598]\tvalidation_0-auc:0.92125\n",
            "[599]\tvalidation_0-auc:0.92124\n",
            "[600]\tvalidation_0-auc:0.92125\n",
            "[601]\tvalidation_0-auc:0.92125\n",
            "[602]\tvalidation_0-auc:0.92126\n",
            "[603]\tvalidation_0-auc:0.92128\n",
            "[604]\tvalidation_0-auc:0.92128\n",
            "[605]\tvalidation_0-auc:0.92128\n",
            "[606]\tvalidation_0-auc:0.92128\n",
            "[607]\tvalidation_0-auc:0.92128\n",
            "[608]\tvalidation_0-auc:0.92128\n",
            "[609]\tvalidation_0-auc:0.92129\n",
            "[610]\tvalidation_0-auc:0.92129\n",
            "[611]\tvalidation_0-auc:0.92129\n",
            "[612]\tvalidation_0-auc:0.92130\n",
            "[613]\tvalidation_0-auc:0.92132\n",
            "[614]\tvalidation_0-auc:0.92133\n",
            "[615]\tvalidation_0-auc:0.92133\n",
            "[616]\tvalidation_0-auc:0.92134\n",
            "[617]\tvalidation_0-auc:0.92134\n",
            "[618]\tvalidation_0-auc:0.92134\n",
            "[619]\tvalidation_0-auc:0.92135\n",
            "[620]\tvalidation_0-auc:0.92135\n",
            "[621]\tvalidation_0-auc:0.92136\n",
            "[622]\tvalidation_0-auc:0.92137\n",
            "[623]\tvalidation_0-auc:0.92138\n",
            "[624]\tvalidation_0-auc:0.92136\n",
            "[625]\tvalidation_0-auc:0.92138\n",
            "[626]\tvalidation_0-auc:0.92137\n",
            "[627]\tvalidation_0-auc:0.92137\n",
            "[628]\tvalidation_0-auc:0.92139\n",
            "[629]\tvalidation_0-auc:0.92140\n",
            "[630]\tvalidation_0-auc:0.92140\n",
            "[631]\tvalidation_0-auc:0.92140\n",
            "[632]\tvalidation_0-auc:0.92141\n",
            "[633]\tvalidation_0-auc:0.92143\n",
            "[634]\tvalidation_0-auc:0.92143\n",
            "[635]\tvalidation_0-auc:0.92143\n",
            "[636]\tvalidation_0-auc:0.92144\n",
            "[637]\tvalidation_0-auc:0.92145\n",
            "[638]\tvalidation_0-auc:0.92145\n",
            "[639]\tvalidation_0-auc:0.92146\n",
            "[640]\tvalidation_0-auc:0.92145\n",
            "[641]\tvalidation_0-auc:0.92146\n",
            "[642]\tvalidation_0-auc:0.92148\n",
            "[643]\tvalidation_0-auc:0.92148\n",
            "[644]\tvalidation_0-auc:0.92147\n",
            "[645]\tvalidation_0-auc:0.92147\n",
            "[646]\tvalidation_0-auc:0.92147\n",
            "[647]\tvalidation_0-auc:0.92147\n",
            "[648]\tvalidation_0-auc:0.92147\n",
            "[649]\tvalidation_0-auc:0.92146\n",
            "[650]\tvalidation_0-auc:0.92146\n",
            "[651]\tvalidation_0-auc:0.92147\n",
            "[652]\tvalidation_0-auc:0.92147\n",
            "[653]\tvalidation_0-auc:0.92146\n",
            "[654]\tvalidation_0-auc:0.92147\n",
            "[655]\tvalidation_0-auc:0.92148\n",
            "[656]\tvalidation_0-auc:0.92148\n",
            "[657]\tvalidation_0-auc:0.92144\n",
            "[658]\tvalidation_0-auc:0.92144\n",
            "[659]\tvalidation_0-auc:0.92146\n",
            "[660]\tvalidation_0-auc:0.92147\n",
            "[661]\tvalidation_0-auc:0.92147\n",
            "[662]\tvalidation_0-auc:0.92146\n",
            "[663]\tvalidation_0-auc:0.92146\n",
            "[664]\tvalidation_0-auc:0.92147\n",
            "[665]\tvalidation_0-auc:0.92147\n",
            "[666]\tvalidation_0-auc:0.92148\n",
            "[667]\tvalidation_0-auc:0.92148\n",
            "[668]\tvalidation_0-auc:0.92147\n",
            "[669]\tvalidation_0-auc:0.92146\n",
            "[670]\tvalidation_0-auc:0.92146\n",
            "[671]\tvalidation_0-auc:0.92146\n",
            "[672]\tvalidation_0-auc:0.92146\n",
            "[673]\tvalidation_0-auc:0.92147\n",
            "[674]\tvalidation_0-auc:0.92149\n",
            "[675]\tvalidation_0-auc:0.92148\n",
            "[676]\tvalidation_0-auc:0.92144\n",
            "[677]\tvalidation_0-auc:0.92145\n",
            "[678]\tvalidation_0-auc:0.92144\n",
            "[679]\tvalidation_0-auc:0.92144\n",
            "[680]\tvalidation_0-auc:0.92145\n",
            "[681]\tvalidation_0-auc:0.92149\n",
            "[682]\tvalidation_0-auc:0.92150\n",
            "[683]\tvalidation_0-auc:0.92150\n",
            "[684]\tvalidation_0-auc:0.92150\n",
            "[685]\tvalidation_0-auc:0.92152\n",
            "[686]\tvalidation_0-auc:0.92150\n",
            "[687]\tvalidation_0-auc:0.92150\n",
            "[688]\tvalidation_0-auc:0.92149\n",
            "[689]\tvalidation_0-auc:0.92147\n",
            "[690]\tvalidation_0-auc:0.92148\n",
            "[691]\tvalidation_0-auc:0.92148\n",
            "[692]\tvalidation_0-auc:0.92148\n",
            "[693]\tvalidation_0-auc:0.92148\n",
            "[694]\tvalidation_0-auc:0.92151\n",
            "[695]\tvalidation_0-auc:0.92153\n",
            "[696]\tvalidation_0-auc:0.92152\n",
            "[697]\tvalidation_0-auc:0.92152\n",
            "[698]\tvalidation_0-auc:0.92151\n",
            "[699]\tvalidation_0-auc:0.92152\n",
            "[700]\tvalidation_0-auc:0.92151\n",
            "[701]\tvalidation_0-auc:0.92151\n",
            "[702]\tvalidation_0-auc:0.92152\n",
            "[703]\tvalidation_0-auc:0.92152\n",
            "[704]\tvalidation_0-auc:0.92154\n",
            "[705]\tvalidation_0-auc:0.92155\n",
            "[706]\tvalidation_0-auc:0.92155\n",
            "[707]\tvalidation_0-auc:0.92154\n",
            "[708]\tvalidation_0-auc:0.92153\n",
            "[709]\tvalidation_0-auc:0.92153\n",
            "[710]\tvalidation_0-auc:0.92155\n",
            "[711]\tvalidation_0-auc:0.92155\n",
            "[712]\tvalidation_0-auc:0.92156\n",
            "[713]\tvalidation_0-auc:0.92155\n",
            "[714]\tvalidation_0-auc:0.92155\n",
            "[715]\tvalidation_0-auc:0.92155\n",
            "[716]\tvalidation_0-auc:0.92157\n",
            "[717]\tvalidation_0-auc:0.92156\n",
            "[718]\tvalidation_0-auc:0.92157\n",
            "[719]\tvalidation_0-auc:0.92156\n",
            "[720]\tvalidation_0-auc:0.92157\n",
            "[721]\tvalidation_0-auc:0.92156\n",
            "[722]\tvalidation_0-auc:0.92158\n",
            "[723]\tvalidation_0-auc:0.92160\n",
            "[724]\tvalidation_0-auc:0.92159\n",
            "[725]\tvalidation_0-auc:0.92159\n",
            "[726]\tvalidation_0-auc:0.92159\n",
            "[727]\tvalidation_0-auc:0.92161\n",
            "[728]\tvalidation_0-auc:0.92162\n",
            "[729]\tvalidation_0-auc:0.92161\n",
            "[730]\tvalidation_0-auc:0.92161\n",
            "[731]\tvalidation_0-auc:0.92159\n",
            "[732]\tvalidation_0-auc:0.92160\n",
            "[733]\tvalidation_0-auc:0.92162\n",
            "[734]\tvalidation_0-auc:0.92162\n",
            "[735]\tvalidation_0-auc:0.92162\n",
            "[736]\tvalidation_0-auc:0.92162\n",
            "[737]\tvalidation_0-auc:0.92162\n",
            "[738]\tvalidation_0-auc:0.92162\n",
            "[739]\tvalidation_0-auc:0.92162\n",
            "[740]\tvalidation_0-auc:0.92163\n",
            "[741]\tvalidation_0-auc:0.92164\n",
            "[742]\tvalidation_0-auc:0.92165\n",
            "[743]\tvalidation_0-auc:0.92165\n",
            "[744]\tvalidation_0-auc:0.92167\n",
            "[745]\tvalidation_0-auc:0.92166\n",
            "[746]\tvalidation_0-auc:0.92167\n",
            "[747]\tvalidation_0-auc:0.92167\n",
            "[748]\tvalidation_0-auc:0.92167\n",
            "[749]\tvalidation_0-auc:0.92169\n",
            "[750]\tvalidation_0-auc:0.92171\n",
            "[751]\tvalidation_0-auc:0.92172\n",
            "[752]\tvalidation_0-auc:0.92175\n",
            "[753]\tvalidation_0-auc:0.92175\n",
            "[754]\tvalidation_0-auc:0.92175\n",
            "[755]\tvalidation_0-auc:0.92175\n",
            "[756]\tvalidation_0-auc:0.92178\n",
            "[757]\tvalidation_0-auc:0.92179\n",
            "[758]\tvalidation_0-auc:0.92180\n",
            "[759]\tvalidation_0-auc:0.92181\n",
            "[760]\tvalidation_0-auc:0.92182\n",
            "[761]\tvalidation_0-auc:0.92186\n",
            "[762]\tvalidation_0-auc:0.92187\n",
            "[763]\tvalidation_0-auc:0.92187\n",
            "[764]\tvalidation_0-auc:0.92185\n",
            "[765]\tvalidation_0-auc:0.92187\n",
            "[766]\tvalidation_0-auc:0.92187\n",
            "[767]\tvalidation_0-auc:0.92187\n",
            "[768]\tvalidation_0-auc:0.92187\n",
            "[769]\tvalidation_0-auc:0.92185\n",
            "[770]\tvalidation_0-auc:0.92185\n",
            "[771]\tvalidation_0-auc:0.92186\n",
            "[772]\tvalidation_0-auc:0.92186\n",
            "[773]\tvalidation_0-auc:0.92185\n",
            "[774]\tvalidation_0-auc:0.92187\n",
            "[775]\tvalidation_0-auc:0.92187\n",
            "[776]\tvalidation_0-auc:0.92189\n",
            "[777]\tvalidation_0-auc:0.92190\n",
            "[778]\tvalidation_0-auc:0.92189\n",
            "[779]\tvalidation_0-auc:0.92188\n",
            "[780]\tvalidation_0-auc:0.92191\n",
            "[781]\tvalidation_0-auc:0.92188\n",
            "[782]\tvalidation_0-auc:0.92186\n",
            "[783]\tvalidation_0-auc:0.92186\n",
            "[784]\tvalidation_0-auc:0.92186\n",
            "[785]\tvalidation_0-auc:0.92186\n",
            "[786]\tvalidation_0-auc:0.92187\n",
            "[787]\tvalidation_0-auc:0.92187\n",
            "[788]\tvalidation_0-auc:0.92187\n",
            "[789]\tvalidation_0-auc:0.92190\n",
            "[790]\tvalidation_0-auc:0.92190\n",
            "[791]\tvalidation_0-auc:0.92191\n",
            "[792]\tvalidation_0-auc:0.92192\n",
            "[793]\tvalidation_0-auc:0.92192\n",
            "[794]\tvalidation_0-auc:0.92192\n",
            "[795]\tvalidation_0-auc:0.92194\n",
            "[796]\tvalidation_0-auc:0.92193\n",
            "[797]\tvalidation_0-auc:0.92194\n",
            "[798]\tvalidation_0-auc:0.92194\n",
            "[799]\tvalidation_0-auc:0.92193\n",
            "[800]\tvalidation_0-auc:0.92196\n",
            "[801]\tvalidation_0-auc:0.92197\n",
            "[802]\tvalidation_0-auc:0.92196\n",
            "[803]\tvalidation_0-auc:0.92197\n",
            "[804]\tvalidation_0-auc:0.92198\n",
            "[805]\tvalidation_0-auc:0.92198\n",
            "[806]\tvalidation_0-auc:0.92199\n",
            "[807]\tvalidation_0-auc:0.92201\n",
            "[808]\tvalidation_0-auc:0.92201\n",
            "[809]\tvalidation_0-auc:0.92201\n",
            "[810]\tvalidation_0-auc:0.92199\n",
            "[811]\tvalidation_0-auc:0.92198\n",
            "[812]\tvalidation_0-auc:0.92200\n",
            "[813]\tvalidation_0-auc:0.92201\n",
            "[814]\tvalidation_0-auc:0.92201\n",
            "[815]\tvalidation_0-auc:0.92201\n",
            "[816]\tvalidation_0-auc:0.92200\n",
            "[817]\tvalidation_0-auc:0.92201\n",
            "[818]\tvalidation_0-auc:0.92199\n",
            "[819]\tvalidation_0-auc:0.92199\n",
            "[820]\tvalidation_0-auc:0.92197\n",
            "[821]\tvalidation_0-auc:0.92198\n",
            "[822]\tvalidation_0-auc:0.92199\n",
            "[823]\tvalidation_0-auc:0.92199\n",
            "[824]\tvalidation_0-auc:0.92201\n",
            "[825]\tvalidation_0-auc:0.92199\n",
            "[826]\tvalidation_0-auc:0.92197\n",
            "[827]\tvalidation_0-auc:0.92197\n",
            "[828]\tvalidation_0-auc:0.92199\n",
            "[829]\tvalidation_0-auc:0.92199\n",
            "[830]\tvalidation_0-auc:0.92199\n",
            "[831]\tvalidation_0-auc:0.92199\n",
            "[832]\tvalidation_0-auc:0.92200\n",
            "[833]\tvalidation_0-auc:0.92200\n",
            "[834]\tvalidation_0-auc:0.92202\n",
            "[835]\tvalidation_0-auc:0.92202\n",
            "[836]\tvalidation_0-auc:0.92204\n",
            "[837]\tvalidation_0-auc:0.92206\n",
            "[838]\tvalidation_0-auc:0.92207\n",
            "[839]\tvalidation_0-auc:0.92205\n",
            "[840]\tvalidation_0-auc:0.92206\n",
            "[841]\tvalidation_0-auc:0.92207\n",
            "[842]\tvalidation_0-auc:0.92207\n",
            "[843]\tvalidation_0-auc:0.92208\n",
            "[844]\tvalidation_0-auc:0.92209\n",
            "[845]\tvalidation_0-auc:0.92211\n",
            "[846]\tvalidation_0-auc:0.92213\n",
            "[847]\tvalidation_0-auc:0.92213\n",
            "[848]\tvalidation_0-auc:0.92213\n",
            "[849]\tvalidation_0-auc:0.92214\n",
            "[850]\tvalidation_0-auc:0.92213\n",
            "[851]\tvalidation_0-auc:0.92213\n",
            "[852]\tvalidation_0-auc:0.92211\n",
            "[853]\tvalidation_0-auc:0.92211\n",
            "[854]\tvalidation_0-auc:0.92211\n",
            "[855]\tvalidation_0-auc:0.92209\n",
            "[856]\tvalidation_0-auc:0.92209\n",
            "[857]\tvalidation_0-auc:0.92209\n",
            "[858]\tvalidation_0-auc:0.92208\n",
            "[859]\tvalidation_0-auc:0.92210\n",
            "[860]\tvalidation_0-auc:0.92211\n",
            "[861]\tvalidation_0-auc:0.92212\n",
            "[862]\tvalidation_0-auc:0.92212\n",
            "[863]\tvalidation_0-auc:0.92211\n",
            "[864]\tvalidation_0-auc:0.92213\n",
            "[865]\tvalidation_0-auc:0.92213\n",
            "[866]\tvalidation_0-auc:0.92213\n",
            "[867]\tvalidation_0-auc:0.92213\n",
            "[868]\tvalidation_0-auc:0.92213\n",
            "[869]\tvalidation_0-auc:0.92214\n",
            "[870]\tvalidation_0-auc:0.92212\n",
            "[871]\tvalidation_0-auc:0.92212\n",
            "[872]\tvalidation_0-auc:0.92209\n",
            "[873]\tvalidation_0-auc:0.92209\n",
            "[874]\tvalidation_0-auc:0.92209\n",
            "[875]\tvalidation_0-auc:0.92210\n",
            "[876]\tvalidation_0-auc:0.92209\n",
            "[877]\tvalidation_0-auc:0.92208\n",
            "[878]\tvalidation_0-auc:0.92206\n",
            "[879]\tvalidation_0-auc:0.92205\n",
            "[880]\tvalidation_0-auc:0.92204\n",
            "[881]\tvalidation_0-auc:0.92204\n",
            "[882]\tvalidation_0-auc:0.92204\n",
            "[883]\tvalidation_0-auc:0.92202\n",
            "[884]\tvalidation_0-auc:0.92205\n",
            "[885]\tvalidation_0-auc:0.92205\n",
            "[886]\tvalidation_0-auc:0.92207\n",
            "[887]\tvalidation_0-auc:0.92207\n",
            "[888]\tvalidation_0-auc:0.92210\n",
            "[889]\tvalidation_0-auc:0.92209\n",
            "[890]\tvalidation_0-auc:0.92207\n",
            "[891]\tvalidation_0-auc:0.92206\n",
            "[892]\tvalidation_0-auc:0.92208\n",
            "[893]\tvalidation_0-auc:0.92207\n",
            "[894]\tvalidation_0-auc:0.92209\n",
            "[895]\tvalidation_0-auc:0.92209\n",
            "[896]\tvalidation_0-auc:0.92210\n",
            "[897]\tvalidation_0-auc:0.92210\n",
            "[898]\tvalidation_0-auc:0.92211\n",
            "[899]\tvalidation_0-auc:0.92210\n",
            "[900]\tvalidation_0-auc:0.92211\n",
            "[901]\tvalidation_0-auc:0.92214\n",
            "[902]\tvalidation_0-auc:0.92215\n",
            "[903]\tvalidation_0-auc:0.92215\n",
            "[904]\tvalidation_0-auc:0.92215\n",
            "[905]\tvalidation_0-auc:0.92217\n",
            "[906]\tvalidation_0-auc:0.92217\n",
            "[907]\tvalidation_0-auc:0.92217\n",
            "[908]\tvalidation_0-auc:0.92217\n",
            "[909]\tvalidation_0-auc:0.92218\n",
            "[910]\tvalidation_0-auc:0.92217\n",
            "[911]\tvalidation_0-auc:0.92218\n",
            "[912]\tvalidation_0-auc:0.92219\n",
            "[913]\tvalidation_0-auc:0.92220\n",
            "[914]\tvalidation_0-auc:0.92221\n",
            "[915]\tvalidation_0-auc:0.92222\n",
            "[916]\tvalidation_0-auc:0.92222\n",
            "[917]\tvalidation_0-auc:0.92222\n",
            "[918]\tvalidation_0-auc:0.92223\n",
            "[919]\tvalidation_0-auc:0.92221\n",
            "[920]\tvalidation_0-auc:0.92223\n",
            "[921]\tvalidation_0-auc:0.92222\n",
            "[922]\tvalidation_0-auc:0.92222\n",
            "[923]\tvalidation_0-auc:0.92221\n",
            "[924]\tvalidation_0-auc:0.92221\n",
            "[925]\tvalidation_0-auc:0.92221\n",
            "[926]\tvalidation_0-auc:0.92222\n",
            "[927]\tvalidation_0-auc:0.92223\n",
            "[928]\tvalidation_0-auc:0.92223\n",
            "[929]\tvalidation_0-auc:0.92222\n",
            "[930]\tvalidation_0-auc:0.92222\n",
            "[931]\tvalidation_0-auc:0.92224\n",
            "[932]\tvalidation_0-auc:0.92223\n",
            "[933]\tvalidation_0-auc:0.92225\n",
            "[934]\tvalidation_0-auc:0.92226\n",
            "[935]\tvalidation_0-auc:0.92228\n",
            "[936]\tvalidation_0-auc:0.92228\n",
            "[937]\tvalidation_0-auc:0.92227\n",
            "[938]\tvalidation_0-auc:0.92226\n",
            "[939]\tvalidation_0-auc:0.92228\n",
            "[940]\tvalidation_0-auc:0.92227\n",
            "[941]\tvalidation_0-auc:0.92227\n",
            "[942]\tvalidation_0-auc:0.92227\n",
            "[943]\tvalidation_0-auc:0.92228\n",
            "[944]\tvalidation_0-auc:0.92229\n",
            "[945]\tvalidation_0-auc:0.92230\n",
            "[946]\tvalidation_0-auc:0.92230\n",
            "[947]\tvalidation_0-auc:0.92229\n",
            "[948]\tvalidation_0-auc:0.92228\n",
            "[949]\tvalidation_0-auc:0.92228\n",
            "[950]\tvalidation_0-auc:0.92226\n",
            "[951]\tvalidation_0-auc:0.92227\n",
            "[952]\tvalidation_0-auc:0.92227\n",
            "[953]\tvalidation_0-auc:0.92228\n",
            "[954]\tvalidation_0-auc:0.92229\n",
            "[955]\tvalidation_0-auc:0.92231\n",
            "[956]\tvalidation_0-auc:0.92230\n",
            "[957]\tvalidation_0-auc:0.92228\n",
            "[958]\tvalidation_0-auc:0.92230\n",
            "[959]\tvalidation_0-auc:0.92230\n",
            "[960]\tvalidation_0-auc:0.92229\n",
            "[961]\tvalidation_0-auc:0.92230\n",
            "[962]\tvalidation_0-auc:0.92230\n",
            "[963]\tvalidation_0-auc:0.92231\n",
            "[964]\tvalidation_0-auc:0.92231\n",
            "[965]\tvalidation_0-auc:0.92231\n",
            "[966]\tvalidation_0-auc:0.92231\n",
            "[967]\tvalidation_0-auc:0.92232\n",
            "[968]\tvalidation_0-auc:0.92231\n",
            "[969]\tvalidation_0-auc:0.92231\n",
            "[970]\tvalidation_0-auc:0.92231\n",
            "[971]\tvalidation_0-auc:0.92233\n",
            "[972]\tvalidation_0-auc:0.92236\n",
            "[973]\tvalidation_0-auc:0.92236\n",
            "[974]\tvalidation_0-auc:0.92238\n",
            "[975]\tvalidation_0-auc:0.92238\n",
            "[976]\tvalidation_0-auc:0.92238\n",
            "[977]\tvalidation_0-auc:0.92237\n",
            "[978]\tvalidation_0-auc:0.92236\n",
            "[979]\tvalidation_0-auc:0.92235\n",
            "[980]\tvalidation_0-auc:0.92236\n",
            "[981]\tvalidation_0-auc:0.92237\n",
            "[982]\tvalidation_0-auc:0.92237\n",
            "[983]\tvalidation_0-auc:0.92238\n",
            "[984]\tvalidation_0-auc:0.92237\n",
            "[985]\tvalidation_0-auc:0.92238\n",
            "[986]\tvalidation_0-auc:0.92239\n",
            "[987]\tvalidation_0-auc:0.92238\n",
            "[988]\tvalidation_0-auc:0.92239\n",
            "[989]\tvalidation_0-auc:0.92240\n",
            "[990]\tvalidation_0-auc:0.92242\n",
            "[991]\tvalidation_0-auc:0.92241\n",
            "[992]\tvalidation_0-auc:0.92243\n",
            "[993]\tvalidation_0-auc:0.92244\n",
            "[994]\tvalidation_0-auc:0.92246\n",
            "[995]\tvalidation_0-auc:0.92247\n",
            "[996]\tvalidation_0-auc:0.92248\n",
            "[997]\tvalidation_0-auc:0.92248\n",
            "[998]\tvalidation_0-auc:0.92248\n",
            "[999]\tvalidation_0-auc:0.92247\n"
          ]
        },
        {
          "output_type": "execute_result",
          "data": {
            "text/plain": [
              "XGBClassifier(base_score=None, booster=None, callbacks=None,\n",
              "              colsample_bylevel=None, colsample_bynode=None,\n",
              "              colsample_bytree=0.5, device=None, early_stopping_rounds=None,\n",
              "              enable_categorical=False, eval_metric='auc', feature_types=None,\n",
              "              gamma=None, grow_policy=None, importance_type=None,\n",
              "              interaction_constraints=None, learning_rate=0.01, max_bin=None,\n",
              "              max_cat_threshold=None, max_cat_to_onehot=None,\n",
              "              max_delta_step=None, max_depth=7, max_leaves=None,\n",
              "              min_child_weight=None, missing=nan, monotone_constraints=None,\n",
              "              multi_strategy=None, n_estimators=1000, n_jobs=None,\n",
              "              num_parallel_tree=None, random_state=None, ...)"
            ],
            "text/html": [
              "<style>#sk-container-id-5 {color: black;background-color: white;}#sk-container-id-5 pre{padding: 0;}#sk-container-id-5 div.sk-toggleable {background-color: white;}#sk-container-id-5 label.sk-toggleable__label {cursor: pointer;display: block;width: 100%;margin-bottom: 0;padding: 0.3em;box-sizing: border-box;text-align: center;}#sk-container-id-5 label.sk-toggleable__label-arrow:before {content: \"▸\";float: left;margin-right: 0.25em;color: #696969;}#sk-container-id-5 label.sk-toggleable__label-arrow:hover:before {color: black;}#sk-container-id-5 div.sk-estimator:hover label.sk-toggleable__label-arrow:before {color: black;}#sk-container-id-5 div.sk-toggleable__content {max-height: 0;max-width: 0;overflow: hidden;text-align: left;background-color: #f0f8ff;}#sk-container-id-5 div.sk-toggleable__content pre {margin: 0.2em;color: black;border-radius: 0.25em;background-color: #f0f8ff;}#sk-container-id-5 input.sk-toggleable__control:checked~div.sk-toggleable__content {max-height: 200px;max-width: 100%;overflow: auto;}#sk-container-id-5 input.sk-toggleable__control:checked~label.sk-toggleable__label-arrow:before {content: \"▾\";}#sk-container-id-5 div.sk-estimator input.sk-toggleable__control:checked~label.sk-toggleable__label {background-color: #d4ebff;}#sk-container-id-5 div.sk-label input.sk-toggleable__control:checked~label.sk-toggleable__label {background-color: #d4ebff;}#sk-container-id-5 input.sk-hidden--visually {border: 0;clip: rect(1px 1px 1px 1px);clip: rect(1px, 1px, 1px, 1px);height: 1px;margin: -1px;overflow: hidden;padding: 0;position: absolute;width: 1px;}#sk-container-id-5 div.sk-estimator {font-family: monospace;background-color: #f0f8ff;border: 1px dotted black;border-radius: 0.25em;box-sizing: border-box;margin-bottom: 0.5em;}#sk-container-id-5 div.sk-estimator:hover {background-color: #d4ebff;}#sk-container-id-5 div.sk-parallel-item::after {content: \"\";width: 100%;border-bottom: 1px solid gray;flex-grow: 1;}#sk-container-id-5 div.sk-label:hover label.sk-toggleable__label {background-color: #d4ebff;}#sk-container-id-5 div.sk-serial::before {content: \"\";position: absolute;border-left: 1px solid gray;box-sizing: border-box;top: 0;bottom: 0;left: 50%;z-index: 0;}#sk-container-id-5 div.sk-serial {display: flex;flex-direction: column;align-items: center;background-color: white;padding-right: 0.2em;padding-left: 0.2em;position: relative;}#sk-container-id-5 div.sk-item {position: relative;z-index: 1;}#sk-container-id-5 div.sk-parallel {display: flex;align-items: stretch;justify-content: center;background-color: white;position: relative;}#sk-container-id-5 div.sk-item::before, #sk-container-id-5 div.sk-parallel-item::before {content: \"\";position: absolute;border-left: 1px solid gray;box-sizing: border-box;top: 0;bottom: 0;left: 50%;z-index: -1;}#sk-container-id-5 div.sk-parallel-item {display: flex;flex-direction: column;z-index: 1;position: relative;background-color: white;}#sk-container-id-5 div.sk-parallel-item:first-child::after {align-self: flex-end;width: 50%;}#sk-container-id-5 div.sk-parallel-item:last-child::after {align-self: flex-start;width: 50%;}#sk-container-id-5 div.sk-parallel-item:only-child::after {width: 0;}#sk-container-id-5 div.sk-dashed-wrapped {border: 1px dashed gray;margin: 0 0.4em 0.5em 0.4em;box-sizing: border-box;padding-bottom: 0.4em;background-color: white;}#sk-container-id-5 div.sk-label label {font-family: monospace;font-weight: bold;display: inline-block;line-height: 1.2em;}#sk-container-id-5 div.sk-label-container {text-align: center;}#sk-container-id-5 div.sk-container {/* jupyter's `normalize.less` sets `[hidden] { display: none; }` but bootstrap.min.css set `[hidden] { display: none !important; }` so we also need the `!important` here to be able to override the default hidden behavior on the sphinx rendered scikit-learn.org. See: https://github.com/scikit-learn/scikit-learn/issues/21755 */display: inline-block !important;position: relative;}#sk-container-id-5 div.sk-text-repr-fallback {display: none;}</style><div id=\"sk-container-id-5\" class=\"sk-top-container\"><div class=\"sk-text-repr-fallback\"><pre>XGBClassifier(base_score=None, booster=None, callbacks=None,\n",
              "              colsample_bylevel=None, colsample_bynode=None,\n",
              "              colsample_bytree=0.5, device=None, early_stopping_rounds=None,\n",
              "              enable_categorical=False, eval_metric=&#x27;auc&#x27;, feature_types=None,\n",
              "              gamma=None, grow_policy=None, importance_type=None,\n",
              "              interaction_constraints=None, learning_rate=0.01, max_bin=None,\n",
              "              max_cat_threshold=None, max_cat_to_onehot=None,\n",
              "              max_delta_step=None, max_depth=7, max_leaves=None,\n",
              "              min_child_weight=None, missing=nan, monotone_constraints=None,\n",
              "              multi_strategy=None, n_estimators=1000, n_jobs=None,\n",
              "              num_parallel_tree=None, random_state=None, ...)</pre><b>In a Jupyter environment, please rerun this cell to show the HTML representation or trust the notebook. <br />On GitHub, the HTML representation is unable to render, please try loading this page with nbviewer.org.</b></div><div class=\"sk-container\" hidden><div class=\"sk-item\"><div class=\"sk-estimator sk-toggleable\"><input class=\"sk-toggleable__control sk-hidden--visually\" id=\"sk-estimator-id-7\" type=\"checkbox\" checked><label for=\"sk-estimator-id-7\" class=\"sk-toggleable__label sk-toggleable__label-arrow\">XGBClassifier</label><div class=\"sk-toggleable__content\"><pre>XGBClassifier(base_score=None, booster=None, callbacks=None,\n",
              "              colsample_bylevel=None, colsample_bynode=None,\n",
              "              colsample_bytree=0.5, device=None, early_stopping_rounds=None,\n",
              "              enable_categorical=False, eval_metric=&#x27;auc&#x27;, feature_types=None,\n",
              "              gamma=None, grow_policy=None, importance_type=None,\n",
              "              interaction_constraints=None, learning_rate=0.01, max_bin=None,\n",
              "              max_cat_threshold=None, max_cat_to_onehot=None,\n",
              "              max_delta_step=None, max_depth=7, max_leaves=None,\n",
              "              min_child_weight=None, missing=nan, monotone_constraints=None,\n",
              "              multi_strategy=None, n_estimators=1000, n_jobs=None,\n",
              "              num_parallel_tree=None, random_state=None, ...)</pre></div></div></div></div></div>"
            ]
          },
          "metadata": {},
          "execution_count": 63
        }
      ]
    },
    {
      "cell_type": "markdown",
      "source": [
        "##Performance Evaluation"
      ],
      "metadata": {
        "id": "HoUzFrL-kgP3"
      }
    },
    {
      "cell_type": "code",
      "source": [
        "y_train_pred = xgb.predict_proba(X_train)[:,1]\n",
        "y_test_pred = xgb.predict_proba(X_test)[:,1]\n",
        "print(\"AUC Train: {:.4f} \\nAUC Test: {:.4f}\".format(roc_auc_score(y_train, y_train_pred), roc_auc_score(y_test, y_test_pred)))"
      ],
      "metadata": {
        "colab": {
          "base_uri": "https://localhost:8080/"
        },
        "id": "NLSOp1MTkc-w",
        "outputId": "23346fc4-5eb0-4f59-c88c-d2eb01461bbb"
      },
      "execution_count": null,
      "outputs": [
        {
          "output_type": "stream",
          "name": "stdout",
          "text": [
            "AUC Train: 0.9410 \n",
            "AUC Test: 0.9225\n"
          ]
        }
      ]
    },
    {
      "cell_type": "code",
      "source": [
        "from sklearn.metrics import accuracy_score\n",
        "ylabel = xgb.predict(X_train)\n",
        "ytlabel = xgb.predict(X_test)\n",
        "#predictions = [round(value) for value in y_pred]\n",
        "# evaluate predictions\n",
        "accuracy = accuracy_score(y_train, ylabel)\n",
        "accuracyt = accuracy_score(y_test, ytlabel)\n",
        "print(\"Train Accuracy:\", accuracy)\n",
        "print(\"Test Accuracy:\", accuracyt)"
      ],
      "metadata": {
        "colab": {
          "base_uri": "https://localhost:8080/"
        },
        "id": "d2ld0CM-7pdI",
        "outputId": "707fb167-6618-4b21-84ef-a8fe64211150"
      },
      "execution_count": null,
      "outputs": [
        {
          "output_type": "stream",
          "name": "stdout",
          "text": [
            "Train Accuracy: 0.9187400231188418\n",
            "Test Accuracy: 0.9116028181417878\n"
          ]
        }
      ]
    },
    {
      "cell_type": "markdown",
      "source": [
        "##Hyperparameter Tuning"
      ],
      "metadata": {
        "id": "BP4d1g2wlVlw"
      }
    },
    {
      "cell_type": "code",
      "source": [
        "learning_rate_list = [0.01, 0.02, 0.05, 0.1, 0.5, 1]\n",
        "max_depth_list = [2,5,7,10]\n",
        "n_estimators_list = [10, 200, 500, 1000, 2000]\n",
        "\n",
        "params_dict = {\"learning_rate\": learning_rate_list,\n",
        "               \"max_depth\": max_depth_list,\n",
        "               \"n_estimators\": n_estimators_list\n",
        "               }\n",
        "\n",
        "num_combinations  = 1\n",
        "for v in params_dict.values(): num_combinations *= len(v)\n",
        "print(num_combinations)\n",
        "params_dict"
      ],
      "metadata": {
        "colab": {
          "base_uri": "https://localhost:8080/"
        },
        "id": "cstk_QyblZK8",
        "outputId": "a34c3a0c-fa21-4984-a697-ed4361c38a7f"
      },
      "execution_count": null,
      "outputs": [
        {
          "output_type": "stream",
          "name": "stdout",
          "text": [
            "120\n"
          ]
        },
        {
          "output_type": "execute_result",
          "data": {
            "text/plain": [
              "{'learning_rate': [0.01, 0.02, 0.05, 0.1, 0.5, 1],\n",
              " 'max_depth': [2, 5, 7, 10],\n",
              " 'n_estimators': [10, 200, 500, 1000, 2000]}"
            ]
          },
          "metadata": {},
          "execution_count": 60
        }
      ]
    },
    {
      "cell_type": "code",
      "source": [
        "def my_roc_auc_score(model, X, y):\n",
        "  return roc_auc_score(y, model.predict_proba(X)[:,1])\n",
        "\n",
        "xgb_hyper = GridSearchCV(estimator = xgboost.XGBClassifier(subsample = 0.5,\n",
        "                                                           colsample=0.25,\n",
        "                                                           eval_metric='auc',\n",
        "                                                           use_label_encoder=False),\n",
        "                         param_grid=params_dict,\n",
        "                         cv=2,\n",
        "                         scoring=my_roc_auc_score,\n",
        "                         return_train_score=True,\n",
        "                         verbose=4)\n",
        "\n",
        "xgb_hyper.fit(X_train, y_train)"
      ],
      "metadata": {
        "colab": {
          "base_uri": "https://localhost:8080/",
          "height": 1000
        },
        "id": "VAm7oxn2nNcW",
        "outputId": "2914ff3e-558b-4f4b-8872-90fc48cf774a"
      },
      "execution_count": null,
      "outputs": [
        {
          "output_type": "stream",
          "name": "stdout",
          "text": [
            "Fitting 2 folds for each of 120 candidates, totalling 240 fits\n",
            "[CV 1/2] END learning_rate=0.01, max_depth=2, n_estimators=10;, score=(train=0.893, test=0.893) total time=   0.1s\n"
          ]
        },
        {
          "output_type": "stream",
          "name": "stderr",
          "text": [
            "/usr/local/lib/python3.10/dist-packages/xgboost/core.py:160: UserWarning: [01:11:23] WARNING: /workspace/src/learner.cc:742: \n",
            "Parameters: { \"colsample\" } are not used.\n",
            "\n",
            "  warnings.warn(smsg, UserWarning)\n",
            "/usr/local/lib/python3.10/dist-packages/xgboost/core.py:160: UserWarning: [01:11:23] WARNING: /workspace/src/learner.cc:742: \n",
            "Parameters: { \"colsample\" } are not used.\n",
            "\n",
            "  warnings.warn(smsg, UserWarning)\n"
          ]
        },
        {
          "output_type": "stream",
          "name": "stdout",
          "text": [
            "[CV 2/2] END learning_rate=0.01, max_depth=2, n_estimators=10;, score=(train=0.893, test=0.892) total time=   0.1s\n"
          ]
        },
        {
          "output_type": "stream",
          "name": "stderr",
          "text": [
            "/usr/local/lib/python3.10/dist-packages/xgboost/core.py:160: UserWarning: [01:11:23] WARNING: /workspace/src/learner.cc:742: \n",
            "Parameters: { \"colsample\" } are not used.\n",
            "\n",
            "  warnings.warn(smsg, UserWarning)\n"
          ]
        },
        {
          "output_type": "stream",
          "name": "stdout",
          "text": [
            "[CV 1/2] END learning_rate=0.01, max_depth=2, n_estimators=200;, score=(train=0.906, test=0.905) total time=   0.5s\n"
          ]
        },
        {
          "output_type": "stream",
          "name": "stderr",
          "text": [
            "/usr/local/lib/python3.10/dist-packages/xgboost/core.py:160: UserWarning: [01:11:24] WARNING: /workspace/src/learner.cc:742: \n",
            "Parameters: { \"colsample\" } are not used.\n",
            "\n",
            "  warnings.warn(smsg, UserWarning)\n"
          ]
        },
        {
          "output_type": "stream",
          "name": "stdout",
          "text": [
            "[CV 2/2] END learning_rate=0.01, max_depth=2, n_estimators=200;, score=(train=0.905, test=0.905) total time=   2.3s\n"
          ]
        },
        {
          "output_type": "stream",
          "name": "stderr",
          "text": [
            "/usr/local/lib/python3.10/dist-packages/xgboost/core.py:160: UserWarning: [01:11:26] WARNING: /workspace/src/learner.cc:742: \n",
            "Parameters: { \"colsample\" } are not used.\n",
            "\n",
            "  warnings.warn(smsg, UserWarning)\n"
          ]
        },
        {
          "output_type": "stream",
          "name": "stdout",
          "text": [
            "[CV 1/2] END learning_rate=0.01, max_depth=2, n_estimators=500;, score=(train=0.914, test=0.912) total time=   3.7s\n"
          ]
        },
        {
          "output_type": "stream",
          "name": "stderr",
          "text": [
            "/usr/local/lib/python3.10/dist-packages/xgboost/core.py:160: UserWarning: [01:11:30] WARNING: /workspace/src/learner.cc:742: \n",
            "Parameters: { \"colsample\" } are not used.\n",
            "\n",
            "  warnings.warn(smsg, UserWarning)\n"
          ]
        },
        {
          "output_type": "stream",
          "name": "stdout",
          "text": [
            "[CV 2/2] END learning_rate=0.01, max_depth=2, n_estimators=500;, score=(train=0.913, test=0.912) total time=   1.1s\n"
          ]
        },
        {
          "output_type": "stream",
          "name": "stderr",
          "text": [
            "/usr/local/lib/python3.10/dist-packages/xgboost/core.py:160: UserWarning: [01:11:31] WARNING: /workspace/src/learner.cc:742: \n",
            "Parameters: { \"colsample\" } are not used.\n",
            "\n",
            "  warnings.warn(smsg, UserWarning)\n"
          ]
        },
        {
          "output_type": "stream",
          "name": "stdout",
          "text": [
            "[CV 1/2] END learning_rate=0.01, max_depth=2, n_estimators=1000;, score=(train=0.917, test=0.913) total time=   2.0s\n"
          ]
        },
        {
          "output_type": "stream",
          "name": "stderr",
          "text": [
            "/usr/local/lib/python3.10/dist-packages/xgboost/core.py:160: UserWarning: [01:11:33] WARNING: /workspace/src/learner.cc:742: \n",
            "Parameters: { \"colsample\" } are not used.\n",
            "\n",
            "  warnings.warn(smsg, UserWarning)\n"
          ]
        },
        {
          "output_type": "stream",
          "name": "stdout",
          "text": [
            "[CV 2/2] END learning_rate=0.01, max_depth=2, n_estimators=1000;, score=(train=0.917, test=0.914) total time=   2.0s\n"
          ]
        },
        {
          "output_type": "stream",
          "name": "stderr",
          "text": [
            "/usr/local/lib/python3.10/dist-packages/xgboost/core.py:160: UserWarning: [01:11:36] WARNING: /workspace/src/learner.cc:742: \n",
            "Parameters: { \"colsample\" } are not used.\n",
            "\n",
            "  warnings.warn(smsg, UserWarning)\n"
          ]
        },
        {
          "output_type": "stream",
          "name": "stdout",
          "text": [
            "[CV 1/2] END learning_rate=0.01, max_depth=2, n_estimators=2000;, score=(train=0.923, test=0.916) total time=   3.8s\n"
          ]
        },
        {
          "output_type": "stream",
          "name": "stderr",
          "text": [
            "/usr/local/lib/python3.10/dist-packages/xgboost/core.py:160: UserWarning: [01:11:40] WARNING: /workspace/src/learner.cc:742: \n",
            "Parameters: { \"colsample\" } are not used.\n",
            "\n",
            "  warnings.warn(smsg, UserWarning)\n"
          ]
        },
        {
          "output_type": "stream",
          "name": "stdout",
          "text": [
            "[CV 2/2] END learning_rate=0.01, max_depth=2, n_estimators=2000;, score=(train=0.923, test=0.916) total time=   8.2s\n",
            "[CV 1/2] END learning_rate=0.01, max_depth=5, n_estimators=10;, score=(train=0.911, test=0.909) total time=   0.1s\n"
          ]
        },
        {
          "output_type": "stream",
          "name": "stderr",
          "text": [
            "/usr/local/lib/python3.10/dist-packages/xgboost/core.py:160: UserWarning: [01:11:48] WARNING: /workspace/src/learner.cc:742: \n",
            "Parameters: { \"colsample\" } are not used.\n",
            "\n",
            "  warnings.warn(smsg, UserWarning)\n",
            "/usr/local/lib/python3.10/dist-packages/xgboost/core.py:160: UserWarning: [01:11:48] WARNING: /workspace/src/learner.cc:742: \n",
            "Parameters: { \"colsample\" } are not used.\n",
            "\n",
            "  warnings.warn(smsg, UserWarning)\n"
          ]
        },
        {
          "output_type": "stream",
          "name": "stdout",
          "text": [
            "[CV 2/2] END learning_rate=0.01, max_depth=5, n_estimators=10;, score=(train=0.912, test=0.911) total time=   0.1s\n"
          ]
        },
        {
          "output_type": "stream",
          "name": "stderr",
          "text": [
            "/usr/local/lib/python3.10/dist-packages/xgboost/core.py:160: UserWarning: [01:11:49] WARNING: /workspace/src/learner.cc:742: \n",
            "Parameters: { \"colsample\" } are not used.\n",
            "\n",
            "  warnings.warn(smsg, UserWarning)\n"
          ]
        },
        {
          "output_type": "stream",
          "name": "stdout",
          "text": [
            "[CV 1/2] END learning_rate=0.01, max_depth=5, n_estimators=200;, score=(train=0.917, test=0.913) total time=   0.6s\n"
          ]
        },
        {
          "output_type": "stream",
          "name": "stderr",
          "text": [
            "/usr/local/lib/python3.10/dist-packages/xgboost/core.py:160: UserWarning: [01:11:49] WARNING: /workspace/src/learner.cc:742: \n",
            "Parameters: { \"colsample\" } are not used.\n",
            "\n",
            "  warnings.warn(smsg, UserWarning)\n"
          ]
        },
        {
          "output_type": "stream",
          "name": "stdout",
          "text": [
            "[CV 2/2] END learning_rate=0.01, max_depth=5, n_estimators=200;, score=(train=0.917, test=0.914) total time=   0.6s\n"
          ]
        },
        {
          "output_type": "stream",
          "name": "stderr",
          "text": [
            "/usr/local/lib/python3.10/dist-packages/xgboost/core.py:160: UserWarning: [01:11:50] WARNING: /workspace/src/learner.cc:742: \n",
            "Parameters: { \"colsample\" } are not used.\n",
            "\n",
            "  warnings.warn(smsg, UserWarning)\n"
          ]
        },
        {
          "output_type": "stream",
          "name": "stdout",
          "text": [
            "[CV 1/2] END learning_rate=0.01, max_depth=5, n_estimators=500;, score=(train=0.925, test=0.916) total time=   1.4s\n"
          ]
        },
        {
          "output_type": "stream",
          "name": "stderr",
          "text": [
            "/usr/local/lib/python3.10/dist-packages/xgboost/core.py:160: UserWarning: [01:11:52] WARNING: /workspace/src/learner.cc:742: \n",
            "Parameters: { \"colsample\" } are not used.\n",
            "\n",
            "  warnings.warn(smsg, UserWarning)\n"
          ]
        },
        {
          "output_type": "stream",
          "name": "stdout",
          "text": [
            "[CV 2/2] END learning_rate=0.01, max_depth=5, n_estimators=500;, score=(train=0.926, test=0.917) total time=   1.4s\n"
          ]
        },
        {
          "output_type": "stream",
          "name": "stderr",
          "text": [
            "/usr/local/lib/python3.10/dist-packages/xgboost/core.py:160: UserWarning: [01:11:53] WARNING: /workspace/src/learner.cc:742: \n",
            "Parameters: { \"colsample\" } are not used.\n",
            "\n",
            "  warnings.warn(smsg, UserWarning)\n"
          ]
        },
        {
          "output_type": "stream",
          "name": "stdout",
          "text": [
            "[CV 1/2] END learning_rate=0.01, max_depth=5, n_estimators=1000;, score=(train=0.941, test=0.920) total time=   4.7s\n"
          ]
        },
        {
          "output_type": "stream",
          "name": "stderr",
          "text": [
            "/usr/local/lib/python3.10/dist-packages/xgboost/core.py:160: UserWarning: [01:11:59] WARNING: /workspace/src/learner.cc:742: \n",
            "Parameters: { \"colsample\" } are not used.\n",
            "\n",
            "  warnings.warn(smsg, UserWarning)\n"
          ]
        },
        {
          "output_type": "stream",
          "name": "stdout",
          "text": [
            "[CV 2/2] END learning_rate=0.01, max_depth=5, n_estimators=1000;, score=(train=0.939, test=0.919) total time=   5.1s\n"
          ]
        },
        {
          "output_type": "stream",
          "name": "stderr",
          "text": [
            "/usr/local/lib/python3.10/dist-packages/xgboost/core.py:160: UserWarning: [01:12:04] WARNING: /workspace/src/learner.cc:742: \n",
            "Parameters: { \"colsample\" } are not used.\n",
            "\n",
            "  warnings.warn(smsg, UserWarning)\n"
          ]
        },
        {
          "output_type": "stream",
          "name": "stdout",
          "text": [
            "[CV 1/2] END learning_rate=0.01, max_depth=5, n_estimators=2000;, score=(train=0.956, test=0.920) total time=   6.2s\n"
          ]
        },
        {
          "output_type": "stream",
          "name": "stderr",
          "text": [
            "/usr/local/lib/python3.10/dist-packages/xgboost/core.py:160: UserWarning: [01:12:11] WARNING: /workspace/src/learner.cc:742: \n",
            "Parameters: { \"colsample\" } are not used.\n",
            "\n",
            "  warnings.warn(smsg, UserWarning)\n"
          ]
        },
        {
          "output_type": "stream",
          "name": "stdout",
          "text": [
            "[CV 2/2] END learning_rate=0.01, max_depth=5, n_estimators=2000;, score=(train=0.955, test=0.920) total time=  10.8s\n",
            "[CV 1/2] END learning_rate=0.01, max_depth=7, n_estimators=10;, score=(train=0.918, test=0.912) total time=   0.1s\n"
          ]
        },
        {
          "output_type": "stream",
          "name": "stderr",
          "text": [
            "/usr/local/lib/python3.10/dist-packages/xgboost/core.py:160: UserWarning: [01:12:23] WARNING: /workspace/src/learner.cc:742: \n",
            "Parameters: { \"colsample\" } are not used.\n",
            "\n",
            "  warnings.warn(smsg, UserWarning)\n",
            "/usr/local/lib/python3.10/dist-packages/xgboost/core.py:160: UserWarning: [01:12:23] WARNING: /workspace/src/learner.cc:742: \n",
            "Parameters: { \"colsample\" } are not used.\n",
            "\n",
            "  warnings.warn(smsg, UserWarning)\n"
          ]
        },
        {
          "output_type": "stream",
          "name": "stdout",
          "text": [
            "[CV 2/2] END learning_rate=0.01, max_depth=7, n_estimators=10;, score=(train=0.919, test=0.914) total time=   0.1s\n"
          ]
        },
        {
          "output_type": "stream",
          "name": "stderr",
          "text": [
            "/usr/local/lib/python3.10/dist-packages/xgboost/core.py:160: UserWarning: [01:12:23] WARNING: /workspace/src/learner.cc:742: \n",
            "Parameters: { \"colsample\" } are not used.\n",
            "\n",
            "  warnings.warn(smsg, UserWarning)\n"
          ]
        },
        {
          "output_type": "stream",
          "name": "stdout",
          "text": [
            "[CV 1/2] END learning_rate=0.01, max_depth=7, n_estimators=200;, score=(train=0.927, test=0.916) total time=   0.8s\n"
          ]
        },
        {
          "output_type": "stream",
          "name": "stderr",
          "text": [
            "/usr/local/lib/python3.10/dist-packages/xgboost/core.py:160: UserWarning: [01:12:24] WARNING: /workspace/src/learner.cc:742: \n",
            "Parameters: { \"colsample\" } are not used.\n",
            "\n",
            "  warnings.warn(smsg, UserWarning)\n"
          ]
        },
        {
          "output_type": "stream",
          "name": "stdout",
          "text": [
            "[CV 2/2] END learning_rate=0.01, max_depth=7, n_estimators=200;, score=(train=0.928, test=0.917) total time=   0.8s\n"
          ]
        },
        {
          "output_type": "stream",
          "name": "stderr",
          "text": [
            "/usr/local/lib/python3.10/dist-packages/xgboost/core.py:160: UserWarning: [01:12:25] WARNING: /workspace/src/learner.cc:742: \n",
            "Parameters: { \"colsample\" } are not used.\n",
            "\n",
            "  warnings.warn(smsg, UserWarning)\n"
          ]
        },
        {
          "output_type": "stream",
          "name": "stdout",
          "text": [
            "[CV 1/2] END learning_rate=0.01, max_depth=7, n_estimators=500;, score=(train=0.941, test=0.919) total time=   1.7s\n"
          ]
        },
        {
          "output_type": "stream",
          "name": "stderr",
          "text": [
            "/usr/local/lib/python3.10/dist-packages/xgboost/core.py:160: UserWarning: [01:12:27] WARNING: /workspace/src/learner.cc:742: \n",
            "Parameters: { \"colsample\" } are not used.\n",
            "\n",
            "  warnings.warn(smsg, UserWarning)\n"
          ]
        },
        {
          "output_type": "stream",
          "name": "stdout",
          "text": [
            "[CV 2/2] END learning_rate=0.01, max_depth=7, n_estimators=500;, score=(train=0.941, test=0.919) total time=   6.4s\n"
          ]
        },
        {
          "output_type": "stream",
          "name": "stderr",
          "text": [
            "/usr/local/lib/python3.10/dist-packages/xgboost/core.py:160: UserWarning: [01:12:34] WARNING: /workspace/src/learner.cc:742: \n",
            "Parameters: { \"colsample\" } are not used.\n",
            "\n",
            "  warnings.warn(smsg, UserWarning)\n"
          ]
        },
        {
          "output_type": "stream",
          "name": "stdout",
          "text": [
            "[CV 1/2] END learning_rate=0.01, max_depth=7, n_estimators=1000;, score=(train=0.960, test=0.920) total time=   3.8s\n"
          ]
        },
        {
          "output_type": "stream",
          "name": "stderr",
          "text": [
            "/usr/local/lib/python3.10/dist-packages/xgboost/core.py:160: UserWarning: [01:12:38] WARNING: /workspace/src/learner.cc:742: \n",
            "Parameters: { \"colsample\" } are not used.\n",
            "\n",
            "  warnings.warn(smsg, UserWarning)\n"
          ]
        },
        {
          "output_type": "stream",
          "name": "stdout",
          "text": [
            "[CV 2/2] END learning_rate=0.01, max_depth=7, n_estimators=1000;, score=(train=0.959, test=0.920) total time=   3.9s\n"
          ]
        },
        {
          "output_type": "stream",
          "name": "stderr",
          "text": [
            "/usr/local/lib/python3.10/dist-packages/xgboost/core.py:160: UserWarning: [01:12:42] WARNING: /workspace/src/learner.cc:742: \n",
            "Parameters: { \"colsample\" } are not used.\n",
            "\n",
            "  warnings.warn(smsg, UserWarning)\n"
          ]
        },
        {
          "output_type": "stream",
          "name": "stdout",
          "text": [
            "[CV 1/2] END learning_rate=0.01, max_depth=7, n_estimators=2000;, score=(train=0.978, test=0.920) total time=  13.1s\n"
          ]
        },
        {
          "output_type": "stream",
          "name": "stderr",
          "text": [
            "/usr/local/lib/python3.10/dist-packages/xgboost/core.py:160: UserWarning: [01:12:57] WARNING: /workspace/src/learner.cc:742: \n",
            "Parameters: { \"colsample\" } are not used.\n",
            "\n",
            "  warnings.warn(smsg, UserWarning)\n"
          ]
        },
        {
          "output_type": "stream",
          "name": "stdout",
          "text": [
            "[CV 2/2] END learning_rate=0.01, max_depth=7, n_estimators=2000;, score=(train=0.977, test=0.919) total time=  13.1s\n",
            "[CV 1/2] END learning_rate=0.01, max_depth=10, n_estimators=10;, score=(train=0.930, test=0.914) total time=   0.1s\n"
          ]
        },
        {
          "output_type": "stream",
          "name": "stderr",
          "text": [
            "/usr/local/lib/python3.10/dist-packages/xgboost/core.py:160: UserWarning: [01:13:12] WARNING: /workspace/src/learner.cc:742: \n",
            "Parameters: { \"colsample\" } are not used.\n",
            "\n",
            "  warnings.warn(smsg, UserWarning)\n",
            "/usr/local/lib/python3.10/dist-packages/xgboost/core.py:160: UserWarning: [01:13:12] WARNING: /workspace/src/learner.cc:742: \n",
            "Parameters: { \"colsample\" } are not used.\n",
            "\n",
            "  warnings.warn(smsg, UserWarning)\n"
          ]
        },
        {
          "output_type": "stream",
          "name": "stdout",
          "text": [
            "[CV 2/2] END learning_rate=0.01, max_depth=10, n_estimators=10;, score=(train=0.931, test=0.914) total time=   0.1s\n"
          ]
        },
        {
          "output_type": "stream",
          "name": "stderr",
          "text": [
            "/usr/local/lib/python3.10/dist-packages/xgboost/core.py:160: UserWarning: [01:13:12] WARNING: /workspace/src/learner.cc:742: \n",
            "Parameters: { \"colsample\" } are not used.\n",
            "\n",
            "  warnings.warn(smsg, UserWarning)\n"
          ]
        },
        {
          "output_type": "stream",
          "name": "stdout",
          "text": [
            "[CV 1/2] END learning_rate=0.01, max_depth=10, n_estimators=200;, score=(train=0.949, test=0.919) total time=   1.0s\n"
          ]
        },
        {
          "output_type": "stream",
          "name": "stderr",
          "text": [
            "/usr/local/lib/python3.10/dist-packages/xgboost/core.py:160: UserWarning: [01:13:13] WARNING: /workspace/src/learner.cc:742: \n",
            "Parameters: { \"colsample\" } are not used.\n",
            "\n",
            "  warnings.warn(smsg, UserWarning)\n"
          ]
        },
        {
          "output_type": "stream",
          "name": "stdout",
          "text": [
            "[CV 2/2] END learning_rate=0.01, max_depth=10, n_estimators=200;, score=(train=0.948, test=0.918) total time=   1.5s\n"
          ]
        },
        {
          "output_type": "stream",
          "name": "stderr",
          "text": [
            "/usr/local/lib/python3.10/dist-packages/xgboost/core.py:160: UserWarning: [01:13:15] WARNING: /workspace/src/learner.cc:742: \n",
            "Parameters: { \"colsample\" } are not used.\n",
            "\n",
            "  warnings.warn(smsg, UserWarning)\n"
          ]
        },
        {
          "output_type": "stream",
          "name": "stdout",
          "text": [
            "[CV 1/2] END learning_rate=0.01, max_depth=10, n_estimators=500;, score=(train=0.965, test=0.920) total time=   6.4s\n"
          ]
        },
        {
          "output_type": "stream",
          "name": "stderr",
          "text": [
            "/usr/local/lib/python3.10/dist-packages/xgboost/core.py:160: UserWarning: [01:13:22] WARNING: /workspace/src/learner.cc:742: \n",
            "Parameters: { \"colsample\" } are not used.\n",
            "\n",
            "  warnings.warn(smsg, UserWarning)\n"
          ]
        },
        {
          "output_type": "stream",
          "name": "stdout",
          "text": [
            "[CV 2/2] END learning_rate=0.01, max_depth=10, n_estimators=500;, score=(train=0.965, test=0.919) total time=   2.5s\n"
          ]
        },
        {
          "output_type": "stream",
          "name": "stderr",
          "text": [
            "/usr/local/lib/python3.10/dist-packages/xgboost/core.py:160: UserWarning: [01:13:24] WARNING: /workspace/src/learner.cc:742: \n",
            "Parameters: { \"colsample\" } are not used.\n",
            "\n",
            "  warnings.warn(smsg, UserWarning)\n"
          ]
        },
        {
          "output_type": "stream",
          "name": "stdout",
          "text": [
            "[CV 1/2] END learning_rate=0.01, max_depth=10, n_estimators=1000;, score=(train=0.983, test=0.919) total time=   5.8s\n"
          ]
        },
        {
          "output_type": "stream",
          "name": "stderr",
          "text": [
            "/usr/local/lib/python3.10/dist-packages/xgboost/core.py:160: UserWarning: [01:13:32] WARNING: /workspace/src/learner.cc:742: \n",
            "Parameters: { \"colsample\" } are not used.\n",
            "\n",
            "  warnings.warn(smsg, UserWarning)\n"
          ]
        },
        {
          "output_type": "stream",
          "name": "stdout",
          "text": [
            "[CV 2/2] END learning_rate=0.01, max_depth=10, n_estimators=1000;, score=(train=0.983, test=0.919) total time=   8.9s\n"
          ]
        },
        {
          "output_type": "stream",
          "name": "stderr",
          "text": [
            "/usr/local/lib/python3.10/dist-packages/xgboost/core.py:160: UserWarning: [01:13:42] WARNING: /workspace/src/learner.cc:742: \n",
            "Parameters: { \"colsample\" } are not used.\n",
            "\n",
            "  warnings.warn(smsg, UserWarning)\n"
          ]
        },
        {
          "output_type": "stream",
          "name": "stdout",
          "text": [
            "[CV 1/2] END learning_rate=0.01, max_depth=10, n_estimators=2000;, score=(train=0.995, test=0.918) total time=  20.0s\n"
          ]
        },
        {
          "output_type": "stream",
          "name": "stderr",
          "text": [
            "/usr/local/lib/python3.10/dist-packages/xgboost/core.py:160: UserWarning: [01:14:07] WARNING: /workspace/src/learner.cc:742: \n",
            "Parameters: { \"colsample\" } are not used.\n",
            "\n",
            "  warnings.warn(smsg, UserWarning)\n"
          ]
        },
        {
          "output_type": "stream",
          "name": "stdout",
          "text": [
            "[CV 2/2] END learning_rate=0.01, max_depth=10, n_estimators=2000;, score=(train=0.995, test=0.917) total time=  18.3s\n",
            "[CV 1/2] END learning_rate=0.02, max_depth=2, n_estimators=10;, score=(train=0.897, test=0.897) total time=   0.1s\n"
          ]
        },
        {
          "output_type": "stream",
          "name": "stderr",
          "text": [
            "/usr/local/lib/python3.10/dist-packages/xgboost/core.py:160: UserWarning: [01:14:28] WARNING: /workspace/src/learner.cc:742: \n",
            "Parameters: { \"colsample\" } are not used.\n",
            "\n",
            "  warnings.warn(smsg, UserWarning)\n",
            "/usr/local/lib/python3.10/dist-packages/xgboost/core.py:160: UserWarning: [01:14:28] WARNING: /workspace/src/learner.cc:742: \n",
            "Parameters: { \"colsample\" } are not used.\n",
            "\n",
            "  warnings.warn(smsg, UserWarning)\n"
          ]
        },
        {
          "output_type": "stream",
          "name": "stdout",
          "text": [
            "[CV 2/2] END learning_rate=0.02, max_depth=2, n_estimators=10;, score=(train=0.894, test=0.893) total time=   0.1s\n"
          ]
        },
        {
          "output_type": "stream",
          "name": "stderr",
          "text": [
            "/usr/local/lib/python3.10/dist-packages/xgboost/core.py:160: UserWarning: [01:14:28] WARNING: /workspace/src/learner.cc:742: \n",
            "Parameters: { \"colsample\" } are not used.\n",
            "\n",
            "  warnings.warn(smsg, UserWarning)\n"
          ]
        },
        {
          "output_type": "stream",
          "name": "stdout",
          "text": [
            "[CV 1/2] END learning_rate=0.02, max_depth=2, n_estimators=200;, score=(train=0.913, test=0.911) total time=   0.5s\n"
          ]
        },
        {
          "output_type": "stream",
          "name": "stderr",
          "text": [
            "/usr/local/lib/python3.10/dist-packages/xgboost/core.py:160: UserWarning: [01:14:28] WARNING: /workspace/src/learner.cc:742: \n",
            "Parameters: { \"colsample\" } are not used.\n",
            "\n",
            "  warnings.warn(smsg, UserWarning)\n"
          ]
        },
        {
          "output_type": "stream",
          "name": "stdout",
          "text": [
            "[CV 2/2] END learning_rate=0.02, max_depth=2, n_estimators=200;, score=(train=0.912, test=0.912) total time=   0.5s\n"
          ]
        },
        {
          "output_type": "stream",
          "name": "stderr",
          "text": [
            "/usr/local/lib/python3.10/dist-packages/xgboost/core.py:160: UserWarning: [01:14:29] WARNING: /workspace/src/learner.cc:742: \n",
            "Parameters: { \"colsample\" } are not used.\n",
            "\n",
            "  warnings.warn(smsg, UserWarning)\n"
          ]
        },
        {
          "output_type": "stream",
          "name": "stdout",
          "text": [
            "[CV 1/2] END learning_rate=0.02, max_depth=2, n_estimators=500;, score=(train=0.917, test=0.913) total time=   1.0s\n"
          ]
        },
        {
          "output_type": "stream",
          "name": "stderr",
          "text": [
            "/usr/local/lib/python3.10/dist-packages/xgboost/core.py:160: UserWarning: [01:14:30] WARNING: /workspace/src/learner.cc:742: \n",
            "Parameters: { \"colsample\" } are not used.\n",
            "\n",
            "  warnings.warn(smsg, UserWarning)\n"
          ]
        },
        {
          "output_type": "stream",
          "name": "stdout",
          "text": [
            "[CV 2/2] END learning_rate=0.02, max_depth=2, n_estimators=500;, score=(train=0.916, test=0.914) total time=   1.0s\n"
          ]
        },
        {
          "output_type": "stream",
          "name": "stderr",
          "text": [
            "/usr/local/lib/python3.10/dist-packages/xgboost/core.py:160: UserWarning: [01:14:31] WARNING: /workspace/src/learner.cc:742: \n",
            "Parameters: { \"colsample\" } are not used.\n",
            "\n",
            "  warnings.warn(smsg, UserWarning)\n"
          ]
        },
        {
          "output_type": "stream",
          "name": "stdout",
          "text": [
            "[CV 1/2] END learning_rate=0.02, max_depth=2, n_estimators=1000;, score=(train=0.923, test=0.916) total time=   2.0s\n"
          ]
        },
        {
          "output_type": "stream",
          "name": "stderr",
          "text": [
            "/usr/local/lib/python3.10/dist-packages/xgboost/core.py:160: UserWarning: [01:14:33] WARNING: /workspace/src/learner.cc:742: \n",
            "Parameters: { \"colsample\" } are not used.\n",
            "\n",
            "  warnings.warn(smsg, UserWarning)\n"
          ]
        },
        {
          "output_type": "stream",
          "name": "stdout",
          "text": [
            "[CV 2/2] END learning_rate=0.02, max_depth=2, n_estimators=1000;, score=(train=0.923, test=0.916) total time=   2.1s\n"
          ]
        },
        {
          "output_type": "stream",
          "name": "stderr",
          "text": [
            "/usr/local/lib/python3.10/dist-packages/xgboost/core.py:160: UserWarning: [01:14:36] WARNING: /workspace/src/learner.cc:742: \n",
            "Parameters: { \"colsample\" } are not used.\n",
            "\n",
            "  warnings.warn(smsg, UserWarning)\n"
          ]
        },
        {
          "output_type": "stream",
          "name": "stdout",
          "text": [
            "[CV 1/2] END learning_rate=0.02, max_depth=2, n_estimators=2000;, score=(train=0.929, test=0.917) total time=   7.9s\n"
          ]
        },
        {
          "output_type": "stream",
          "name": "stderr",
          "text": [
            "/usr/local/lib/python3.10/dist-packages/xgboost/core.py:160: UserWarning: [01:14:44] WARNING: /workspace/src/learner.cc:742: \n",
            "Parameters: { \"colsample\" } are not used.\n",
            "\n",
            "  warnings.warn(smsg, UserWarning)\n"
          ]
        },
        {
          "output_type": "stream",
          "name": "stdout",
          "text": [
            "[CV 2/2] END learning_rate=0.02, max_depth=2, n_estimators=2000;, score=(train=0.928, test=0.918) total time=   3.8s\n",
            "[CV 1/2] END learning_rate=0.02, max_depth=5, n_estimators=10;, score=(train=0.913, test=0.910) total time=   0.1s\n"
          ]
        },
        {
          "output_type": "stream",
          "name": "stderr",
          "text": [
            "/usr/local/lib/python3.10/dist-packages/xgboost/core.py:160: UserWarning: [01:14:48] WARNING: /workspace/src/learner.cc:742: \n",
            "Parameters: { \"colsample\" } are not used.\n",
            "\n",
            "  warnings.warn(smsg, UserWarning)\n",
            "/usr/local/lib/python3.10/dist-packages/xgboost/core.py:160: UserWarning: [01:14:48] WARNING: /workspace/src/learner.cc:742: \n",
            "Parameters: { \"colsample\" } are not used.\n",
            "\n",
            "  warnings.warn(smsg, UserWarning)\n"
          ]
        },
        {
          "output_type": "stream",
          "name": "stdout",
          "text": [
            "[CV 2/2] END learning_rate=0.02, max_depth=5, n_estimators=10;, score=(train=0.913, test=0.911) total time=   0.1s\n"
          ]
        },
        {
          "output_type": "stream",
          "name": "stderr",
          "text": [
            "/usr/local/lib/python3.10/dist-packages/xgboost/core.py:160: UserWarning: [01:14:49] WARNING: /workspace/src/learner.cc:742: \n",
            "Parameters: { \"colsample\" } are not used.\n",
            "\n",
            "  warnings.warn(smsg, UserWarning)\n"
          ]
        },
        {
          "output_type": "stream",
          "name": "stdout",
          "text": [
            "[CV 1/2] END learning_rate=0.02, max_depth=5, n_estimators=200;, score=(train=0.922, test=0.915) total time=   0.6s\n"
          ]
        },
        {
          "output_type": "stream",
          "name": "stderr",
          "text": [
            "/usr/local/lib/python3.10/dist-packages/xgboost/core.py:160: UserWarning: [01:14:49] WARNING: /workspace/src/learner.cc:742: \n",
            "Parameters: { \"colsample\" } are not used.\n",
            "\n",
            "  warnings.warn(smsg, UserWarning)\n"
          ]
        },
        {
          "output_type": "stream",
          "name": "stdout",
          "text": [
            "[CV 2/2] END learning_rate=0.02, max_depth=5, n_estimators=200;, score=(train=0.923, test=0.916) total time=   0.6s\n"
          ]
        },
        {
          "output_type": "stream",
          "name": "stderr",
          "text": [
            "/usr/local/lib/python3.10/dist-packages/xgboost/core.py:160: UserWarning: [01:14:50] WARNING: /workspace/src/learner.cc:742: \n",
            "Parameters: { \"colsample\" } are not used.\n",
            "\n",
            "  warnings.warn(smsg, UserWarning)\n"
          ]
        },
        {
          "output_type": "stream",
          "name": "stdout",
          "text": [
            "[CV 1/2] END learning_rate=0.02, max_depth=5, n_estimators=500;, score=(train=0.939, test=0.919) total time=   1.8s\n"
          ]
        },
        {
          "output_type": "stream",
          "name": "stderr",
          "text": [
            "/usr/local/lib/python3.10/dist-packages/xgboost/core.py:160: UserWarning: [01:14:52] WARNING: /workspace/src/learner.cc:742: \n",
            "Parameters: { \"colsample\" } are not used.\n",
            "\n",
            "  warnings.warn(smsg, UserWarning)\n"
          ]
        },
        {
          "output_type": "stream",
          "name": "stdout",
          "text": [
            "[CV 2/2] END learning_rate=0.02, max_depth=5, n_estimators=500;, score=(train=0.939, test=0.919) total time=   5.5s\n"
          ]
        },
        {
          "output_type": "stream",
          "name": "stderr",
          "text": [
            "/usr/local/lib/python3.10/dist-packages/xgboost/core.py:160: UserWarning: [01:14:58] WARNING: /workspace/src/learner.cc:742: \n",
            "Parameters: { \"colsample\" } are not used.\n",
            "\n",
            "  warnings.warn(smsg, UserWarning)\n"
          ]
        },
        {
          "output_type": "stream",
          "name": "stdout",
          "text": [
            "[CV 1/2] END learning_rate=0.02, max_depth=5, n_estimators=1000;, score=(train=0.955, test=0.920) total time=   3.2s\n"
          ]
        },
        {
          "output_type": "stream",
          "name": "stderr",
          "text": [
            "/usr/local/lib/python3.10/dist-packages/xgboost/core.py:160: UserWarning: [01:15:01] WARNING: /workspace/src/learner.cc:742: \n",
            "Parameters: { \"colsample\" } are not used.\n",
            "\n",
            "  warnings.warn(smsg, UserWarning)\n"
          ]
        },
        {
          "output_type": "stream",
          "name": "stdout",
          "text": [
            "[CV 2/2] END learning_rate=0.02, max_depth=5, n_estimators=1000;, score=(train=0.955, test=0.920) total time=   3.2s\n"
          ]
        },
        {
          "output_type": "stream",
          "name": "stderr",
          "text": [
            "/usr/local/lib/python3.10/dist-packages/xgboost/core.py:160: UserWarning: [01:15:05] WARNING: /workspace/src/learner.cc:742: \n",
            "Parameters: { \"colsample\" } are not used.\n",
            "\n",
            "  warnings.warn(smsg, UserWarning)\n"
          ]
        },
        {
          "output_type": "stream",
          "name": "stdout",
          "text": [
            "[CV 1/2] END learning_rate=0.02, max_depth=5, n_estimators=2000;, score=(train=0.969, test=0.919) total time=  11.2s\n"
          ]
        },
        {
          "output_type": "stream",
          "name": "stderr",
          "text": [
            "/usr/local/lib/python3.10/dist-packages/xgboost/core.py:160: UserWarning: [01:15:17] WARNING: /workspace/src/learner.cc:742: \n",
            "Parameters: { \"colsample\" } are not used.\n",
            "\n",
            "  warnings.warn(smsg, UserWarning)\n"
          ]
        },
        {
          "output_type": "stream",
          "name": "stdout",
          "text": [
            "[CV 2/2] END learning_rate=0.02, max_depth=5, n_estimators=2000;, score=(train=0.969, test=0.919) total time=   7.3s\n"
          ]
        },
        {
          "output_type": "stream",
          "name": "stderr",
          "text": [
            "/usr/local/lib/python3.10/dist-packages/xgboost/core.py:160: UserWarning: [01:15:27] WARNING: /workspace/src/learner.cc:742: \n",
            "Parameters: { \"colsample\" } are not used.\n",
            "\n",
            "  warnings.warn(smsg, UserWarning)\n"
          ]
        },
        {
          "output_type": "stream",
          "name": "stdout",
          "text": [
            "[CV 1/2] END learning_rate=0.02, max_depth=7, n_estimators=10;, score=(train=0.918, test=0.912) total time=   0.7s\n"
          ]
        },
        {
          "output_type": "stream",
          "name": "stderr",
          "text": [
            "/usr/local/lib/python3.10/dist-packages/xgboost/core.py:160: UserWarning: [01:15:27] WARNING: /workspace/src/learner.cc:742: \n",
            "Parameters: { \"colsample\" } are not used.\n",
            "\n",
            "  warnings.warn(smsg, UserWarning)\n"
          ]
        },
        {
          "output_type": "stream",
          "name": "stdout",
          "text": [
            "[CV 2/2] END learning_rate=0.02, max_depth=7, n_estimators=10;, score=(train=0.919, test=0.913) total time=   0.2s\n"
          ]
        },
        {
          "output_type": "stream",
          "name": "stderr",
          "text": [
            "/usr/local/lib/python3.10/dist-packages/xgboost/core.py:160: UserWarning: [01:15:28] WARNING: /workspace/src/learner.cc:742: \n",
            "Parameters: { \"colsample\" } are not used.\n",
            "\n",
            "  warnings.warn(smsg, UserWarning)\n"
          ]
        },
        {
          "output_type": "stream",
          "name": "stdout",
          "text": [
            "[CV 1/2] END learning_rate=0.02, max_depth=7, n_estimators=200;, score=(train=0.935, test=0.918) total time=   2.3s\n"
          ]
        },
        {
          "output_type": "stream",
          "name": "stderr",
          "text": [
            "/usr/local/lib/python3.10/dist-packages/xgboost/core.py:160: UserWarning: [01:15:30] WARNING: /workspace/src/learner.cc:742: \n",
            "Parameters: { \"colsample\" } are not used.\n",
            "\n",
            "  warnings.warn(smsg, UserWarning)\n"
          ]
        },
        {
          "output_type": "stream",
          "name": "stdout",
          "text": [
            "[CV 2/2] END learning_rate=0.02, max_depth=7, n_estimators=200;, score=(train=0.936, test=0.918) total time=   0.7s\n"
          ]
        },
        {
          "output_type": "stream",
          "name": "stderr",
          "text": [
            "/usr/local/lib/python3.10/dist-packages/xgboost/core.py:160: UserWarning: [01:15:31] WARNING: /workspace/src/learner.cc:742: \n",
            "Parameters: { \"colsample\" } are not used.\n",
            "\n",
            "  warnings.warn(smsg, UserWarning)\n"
          ]
        },
        {
          "output_type": "stream",
          "name": "stdout",
          "text": [
            "[CV 1/2] END learning_rate=0.02, max_depth=7, n_estimators=500;, score=(train=0.959, test=0.920) total time=   2.0s\n"
          ]
        },
        {
          "output_type": "stream",
          "name": "stderr",
          "text": [
            "/usr/local/lib/python3.10/dist-packages/xgboost/core.py:160: UserWarning: [01:15:33] WARNING: /workspace/src/learner.cc:742: \n",
            "Parameters: { \"colsample\" } are not used.\n",
            "\n",
            "  warnings.warn(smsg, UserWarning)\n"
          ]
        },
        {
          "output_type": "stream",
          "name": "stdout",
          "text": [
            "[CV 2/2] END learning_rate=0.02, max_depth=7, n_estimators=500;, score=(train=0.959, test=0.920) total time=   2.0s\n"
          ]
        },
        {
          "output_type": "stream",
          "name": "stderr",
          "text": [
            "/usr/local/lib/python3.10/dist-packages/xgboost/core.py:160: UserWarning: [01:15:35] WARNING: /workspace/src/learner.cc:742: \n",
            "Parameters: { \"colsample\" } are not used.\n",
            "\n",
            "  warnings.warn(smsg, UserWarning)\n"
          ]
        },
        {
          "output_type": "stream",
          "name": "stdout",
          "text": [
            "[CV 1/2] END learning_rate=0.02, max_depth=7, n_estimators=1000;, score=(train=0.977, test=0.920) total time=   4.4s\n"
          ]
        },
        {
          "output_type": "stream",
          "name": "stderr",
          "text": [
            "/usr/local/lib/python3.10/dist-packages/xgboost/core.py:160: UserWarning: [01:15:41] WARNING: /workspace/src/learner.cc:742: \n",
            "Parameters: { \"colsample\" } are not used.\n",
            "\n",
            "  warnings.warn(smsg, UserWarning)\n"
          ]
        },
        {
          "output_type": "stream",
          "name": "stdout",
          "text": [
            "[CV 2/2] END learning_rate=0.02, max_depth=7, n_estimators=1000;, score=(train=0.977, test=0.919) total time=   8.2s\n"
          ]
        },
        {
          "output_type": "stream",
          "name": "stderr",
          "text": [
            "/usr/local/lib/python3.10/dist-packages/xgboost/core.py:160: UserWarning: [01:15:50] WARNING: /workspace/src/learner.cc:742: \n",
            "Parameters: { \"colsample\" } are not used.\n",
            "\n",
            "  warnings.warn(smsg, UserWarning)\n"
          ]
        },
        {
          "output_type": "stream",
          "name": "stdout",
          "text": [
            "[CV 1/2] END learning_rate=0.02, max_depth=7, n_estimators=2000;, score=(train=0.991, test=0.918) total time=  13.9s\n"
          ]
        },
        {
          "output_type": "stream",
          "name": "stderr",
          "text": [
            "/usr/local/lib/python3.10/dist-packages/xgboost/core.py:160: UserWarning: [01:16:06] WARNING: /workspace/src/learner.cc:742: \n",
            "Parameters: { \"colsample\" } are not used.\n",
            "\n",
            "  warnings.warn(smsg, UserWarning)\n"
          ]
        },
        {
          "output_type": "stream",
          "name": "stdout",
          "text": [
            "[CV 2/2] END learning_rate=0.02, max_depth=7, n_estimators=2000;, score=(train=0.991, test=0.917) total time=  14.1s\n",
            "[CV 1/2] END learning_rate=0.02, max_depth=10, n_estimators=10;, score=(train=0.931, test=0.914) total time=   0.1s\n"
          ]
        },
        {
          "output_type": "stream",
          "name": "stderr",
          "text": [
            "/usr/local/lib/python3.10/dist-packages/xgboost/core.py:160: UserWarning: [01:16:22] WARNING: /workspace/src/learner.cc:742: \n",
            "Parameters: { \"colsample\" } are not used.\n",
            "\n",
            "  warnings.warn(smsg, UserWarning)\n",
            "/usr/local/lib/python3.10/dist-packages/xgboost/core.py:160: UserWarning: [01:16:22] WARNING: /workspace/src/learner.cc:742: \n",
            "Parameters: { \"colsample\" } are not used.\n",
            "\n",
            "  warnings.warn(smsg, UserWarning)\n"
          ]
        },
        {
          "output_type": "stream",
          "name": "stdout",
          "text": [
            "[CV 2/2] END learning_rate=0.02, max_depth=10, n_estimators=10;, score=(train=0.932, test=0.914) total time=   0.1s\n"
          ]
        },
        {
          "output_type": "stream",
          "name": "stderr",
          "text": [
            "/usr/local/lib/python3.10/dist-packages/xgboost/core.py:160: UserWarning: [01:16:22] WARNING: /workspace/src/learner.cc:742: \n",
            "Parameters: { \"colsample\" } are not used.\n",
            "\n",
            "  warnings.warn(smsg, UserWarning)\n"
          ]
        },
        {
          "output_type": "stream",
          "name": "stdout",
          "text": [
            "[CV 1/2] END learning_rate=0.02, max_depth=10, n_estimators=200;, score=(train=0.960, test=0.920) total time=   1.1s\n"
          ]
        },
        {
          "output_type": "stream",
          "name": "stderr",
          "text": [
            "/usr/local/lib/python3.10/dist-packages/xgboost/core.py:160: UserWarning: [01:16:23] WARNING: /workspace/src/learner.cc:742: \n",
            "Parameters: { \"colsample\" } are not used.\n",
            "\n",
            "  warnings.warn(smsg, UserWarning)\n"
          ]
        },
        {
          "output_type": "stream",
          "name": "stdout",
          "text": [
            "[CV 2/2] END learning_rate=0.02, max_depth=10, n_estimators=200;, score=(train=0.959, test=0.919) total time=   1.1s\n"
          ]
        },
        {
          "output_type": "stream",
          "name": "stderr",
          "text": [
            "/usr/local/lib/python3.10/dist-packages/xgboost/core.py:160: UserWarning: [01:16:24] WARNING: /workspace/src/learner.cc:742: \n",
            "Parameters: { \"colsample\" } are not used.\n",
            "\n",
            "  warnings.warn(smsg, UserWarning)\n"
          ]
        },
        {
          "output_type": "stream",
          "name": "stdout",
          "text": [
            "[CV 1/2] END learning_rate=0.02, max_depth=10, n_estimators=500;, score=(train=0.982, test=0.919) total time=   2.9s\n"
          ]
        },
        {
          "output_type": "stream",
          "name": "stderr",
          "text": [
            "/usr/local/lib/python3.10/dist-packages/xgboost/core.py:160: UserWarning: [01:16:28] WARNING: /workspace/src/learner.cc:742: \n",
            "Parameters: { \"colsample\" } are not used.\n",
            "\n",
            "  warnings.warn(smsg, UserWarning)\n"
          ]
        },
        {
          "output_type": "stream",
          "name": "stdout",
          "text": [
            "[CV 2/2] END learning_rate=0.02, max_depth=10, n_estimators=500;, score=(train=0.982, test=0.918) total time=   7.3s\n"
          ]
        },
        {
          "output_type": "stream",
          "name": "stderr",
          "text": [
            "/usr/local/lib/python3.10/dist-packages/xgboost/core.py:160: UserWarning: [01:16:36] WARNING: /workspace/src/learner.cc:742: \n",
            "Parameters: { \"colsample\" } are not used.\n",
            "\n",
            "  warnings.warn(smsg, UserWarning)\n"
          ]
        },
        {
          "output_type": "stream",
          "name": "stdout",
          "text": [
            "[CV 1/2] END learning_rate=0.02, max_depth=10, n_estimators=1000;, score=(train=0.995, test=0.918) total time=   6.8s\n"
          ]
        },
        {
          "output_type": "stream",
          "name": "stderr",
          "text": [
            "/usr/local/lib/python3.10/dist-packages/xgboost/core.py:160: UserWarning: [01:16:44] WARNING: /workspace/src/learner.cc:742: \n",
            "Parameters: { \"colsample\" } are not used.\n",
            "\n",
            "  warnings.warn(smsg, UserWarning)\n"
          ]
        },
        {
          "output_type": "stream",
          "name": "stdout",
          "text": [
            "[CV 2/2] END learning_rate=0.02, max_depth=10, n_estimators=1000;, score=(train=0.995, test=0.917) total time=  11.2s\n"
          ]
        },
        {
          "output_type": "stream",
          "name": "stderr",
          "text": [
            "/usr/local/lib/python3.10/dist-packages/xgboost/core.py:160: UserWarning: [01:16:56] WARNING: /workspace/src/learner.cc:742: \n",
            "Parameters: { \"colsample\" } are not used.\n",
            "\n",
            "  warnings.warn(smsg, UserWarning)\n"
          ]
        },
        {
          "output_type": "stream",
          "name": "stdout",
          "text": [
            "[CV 1/2] END learning_rate=0.02, max_depth=10, n_estimators=2000;, score=(train=1.000, test=0.916) total time=  19.8s\n"
          ]
        },
        {
          "output_type": "stream",
          "name": "stderr",
          "text": [
            "/usr/local/lib/python3.10/dist-packages/xgboost/core.py:160: UserWarning: [01:17:22] WARNING: /workspace/src/learner.cc:742: \n",
            "Parameters: { \"colsample\" } are not used.\n",
            "\n",
            "  warnings.warn(smsg, UserWarning)\n"
          ]
        },
        {
          "output_type": "stream",
          "name": "stdout",
          "text": [
            "[CV 2/2] END learning_rate=0.02, max_depth=10, n_estimators=2000;, score=(train=1.000, test=0.915) total time=  19.6s\n",
            "[CV 1/2] END learning_rate=0.05, max_depth=2, n_estimators=10;, score=(train=0.897, test=0.897) total time=   0.1s\n"
          ]
        },
        {
          "output_type": "stream",
          "name": "stderr",
          "text": [
            "/usr/local/lib/python3.10/dist-packages/xgboost/core.py:160: UserWarning: [01:17:45] WARNING: /workspace/src/learner.cc:742: \n",
            "Parameters: { \"colsample\" } are not used.\n",
            "\n",
            "  warnings.warn(smsg, UserWarning)\n",
            "/usr/local/lib/python3.10/dist-packages/xgboost/core.py:160: UserWarning: [01:17:45] WARNING: /workspace/src/learner.cc:742: \n",
            "Parameters: { \"colsample\" } are not used.\n",
            "\n",
            "  warnings.warn(smsg, UserWarning)\n"
          ]
        },
        {
          "output_type": "stream",
          "name": "stdout",
          "text": [
            "[CV 2/2] END learning_rate=0.05, max_depth=2, n_estimators=10;, score=(train=0.896, test=0.895) total time=   0.1s\n"
          ]
        },
        {
          "output_type": "stream",
          "name": "stderr",
          "text": [
            "/usr/local/lib/python3.10/dist-packages/xgboost/core.py:160: UserWarning: [01:17:45] WARNING: /workspace/src/learner.cc:742: \n",
            "Parameters: { \"colsample\" } are not used.\n",
            "\n",
            "  warnings.warn(smsg, UserWarning)\n"
          ]
        },
        {
          "output_type": "stream",
          "name": "stdout",
          "text": [
            "[CV 1/2] END learning_rate=0.05, max_depth=2, n_estimators=200;, score=(train=0.916, test=0.912) total time=   0.5s\n"
          ]
        },
        {
          "output_type": "stream",
          "name": "stderr",
          "text": [
            "/usr/local/lib/python3.10/dist-packages/xgboost/core.py:160: UserWarning: [01:17:46] WARNING: /workspace/src/learner.cc:742: \n",
            "Parameters: { \"colsample\" } are not used.\n",
            "\n",
            "  warnings.warn(smsg, UserWarning)\n"
          ]
        },
        {
          "output_type": "stream",
          "name": "stdout",
          "text": [
            "[CV 2/2] END learning_rate=0.05, max_depth=2, n_estimators=200;, score=(train=0.917, test=0.913) total time=   0.5s\n"
          ]
        },
        {
          "output_type": "stream",
          "name": "stderr",
          "text": [
            "/usr/local/lib/python3.10/dist-packages/xgboost/core.py:160: UserWarning: [01:17:46] WARNING: /workspace/src/learner.cc:742: \n",
            "Parameters: { \"colsample\" } are not used.\n",
            "\n",
            "  warnings.warn(smsg, UserWarning)\n"
          ]
        },
        {
          "output_type": "stream",
          "name": "stdout",
          "text": [
            "[CV 1/2] END learning_rate=0.05, max_depth=2, n_estimators=500;, score=(train=0.925, test=0.916) total time=   1.1s\n"
          ]
        },
        {
          "output_type": "stream",
          "name": "stderr",
          "text": [
            "/usr/local/lib/python3.10/dist-packages/xgboost/core.py:160: UserWarning: [01:17:47] WARNING: /workspace/src/learner.cc:742: \n",
            "Parameters: { \"colsample\" } are not used.\n",
            "\n",
            "  warnings.warn(smsg, UserWarning)\n"
          ]
        },
        {
          "output_type": "stream",
          "name": "stdout",
          "text": [
            "[CV 2/2] END learning_rate=0.05, max_depth=2, n_estimators=500;, score=(train=0.924, test=0.916) total time=   4.9s\n"
          ]
        },
        {
          "output_type": "stream",
          "name": "stderr",
          "text": [
            "/usr/local/lib/python3.10/dist-packages/xgboost/core.py:160: UserWarning: [01:17:52] WARNING: /workspace/src/learner.cc:742: \n",
            "Parameters: { \"colsample\" } are not used.\n",
            "\n",
            "  warnings.warn(smsg, UserWarning)\n"
          ]
        },
        {
          "output_type": "stream",
          "name": "stdout",
          "text": [
            "[CV 1/2] END learning_rate=0.05, max_depth=2, n_estimators=1000;, score=(train=0.931, test=0.918) total time=   2.5s\n"
          ]
        },
        {
          "output_type": "stream",
          "name": "stderr",
          "text": [
            "/usr/local/lib/python3.10/dist-packages/xgboost/core.py:160: UserWarning: [01:17:55] WARNING: /workspace/src/learner.cc:742: \n",
            "Parameters: { \"colsample\" } are not used.\n",
            "\n",
            "  warnings.warn(smsg, UserWarning)\n"
          ]
        },
        {
          "output_type": "stream",
          "name": "stdout",
          "text": [
            "[CV 2/2] END learning_rate=0.05, max_depth=2, n_estimators=1000;, score=(train=0.930, test=0.918) total time=   2.0s\n"
          ]
        },
        {
          "output_type": "stream",
          "name": "stderr",
          "text": [
            "/usr/local/lib/python3.10/dist-packages/xgboost/core.py:160: UserWarning: [01:17:57] WARNING: /workspace/src/learner.cc:742: \n",
            "Parameters: { \"colsample\" } are not used.\n",
            "\n",
            "  warnings.warn(smsg, UserWarning)\n"
          ]
        },
        {
          "output_type": "stream",
          "name": "stdout",
          "text": [
            "[CV 1/2] END learning_rate=0.05, max_depth=2, n_estimators=2000;, score=(train=0.936, test=0.918) total time=   3.8s\n"
          ]
        },
        {
          "output_type": "stream",
          "name": "stderr",
          "text": [
            "/usr/local/lib/python3.10/dist-packages/xgboost/core.py:160: UserWarning: [01:18:02] WARNING: /workspace/src/learner.cc:742: \n",
            "Parameters: { \"colsample\" } are not used.\n",
            "\n",
            "  warnings.warn(smsg, UserWarning)\n"
          ]
        },
        {
          "output_type": "stream",
          "name": "stdout",
          "text": [
            "[CV 2/2] END learning_rate=0.05, max_depth=2, n_estimators=2000;, score=(train=0.935, test=0.918) total time=   8.5s\n",
            "[CV 1/2] END learning_rate=0.05, max_depth=5, n_estimators=10;, score=(train=0.913, test=0.910) total time=   0.1s\n"
          ]
        },
        {
          "output_type": "stream",
          "name": "stderr",
          "text": [
            "/usr/local/lib/python3.10/dist-packages/xgboost/core.py:160: UserWarning: [01:18:10] WARNING: /workspace/src/learner.cc:742: \n",
            "Parameters: { \"colsample\" } are not used.\n",
            "\n",
            "  warnings.warn(smsg, UserWarning)\n",
            "/usr/local/lib/python3.10/dist-packages/xgboost/core.py:160: UserWarning: [01:18:11] WARNING: /workspace/src/learner.cc:742: \n",
            "Parameters: { \"colsample\" } are not used.\n",
            "\n",
            "  warnings.warn(smsg, UserWarning)\n"
          ]
        },
        {
          "output_type": "stream",
          "name": "stdout",
          "text": [
            "[CV 2/2] END learning_rate=0.05, max_depth=5, n_estimators=10;, score=(train=0.913, test=0.912) total time=   0.1s\n"
          ]
        },
        {
          "output_type": "stream",
          "name": "stderr",
          "text": [
            "/usr/local/lib/python3.10/dist-packages/xgboost/core.py:160: UserWarning: [01:18:11] WARNING: /workspace/src/learner.cc:742: \n",
            "Parameters: { \"colsample\" } are not used.\n",
            "\n",
            "  warnings.warn(smsg, UserWarning)\n"
          ]
        },
        {
          "output_type": "stream",
          "name": "stdout",
          "text": [
            "[CV 1/2] END learning_rate=0.05, max_depth=5, n_estimators=200;, score=(train=0.939, test=0.919) total time=   0.7s\n"
          ]
        },
        {
          "output_type": "stream",
          "name": "stderr",
          "text": [
            "/usr/local/lib/python3.10/dist-packages/xgboost/core.py:160: UserWarning: [01:18:11] WARNING: /workspace/src/learner.cc:742: \n",
            "Parameters: { \"colsample\" } are not used.\n",
            "\n",
            "  warnings.warn(smsg, UserWarning)\n"
          ]
        },
        {
          "output_type": "stream",
          "name": "stdout",
          "text": [
            "[CV 2/2] END learning_rate=0.05, max_depth=5, n_estimators=200;, score=(train=0.939, test=0.918) total time=   0.6s\n"
          ]
        },
        {
          "output_type": "stream",
          "name": "stderr",
          "text": [
            "/usr/local/lib/python3.10/dist-packages/xgboost/core.py:160: UserWarning: [01:18:12] WARNING: /workspace/src/learner.cc:742: \n",
            "Parameters: { \"colsample\" } are not used.\n",
            "\n",
            "  warnings.warn(smsg, UserWarning)\n"
          ]
        },
        {
          "output_type": "stream",
          "name": "stdout",
          "text": [
            "[CV 1/2] END learning_rate=0.05, max_depth=5, n_estimators=500;, score=(train=0.959, test=0.919) total time=   1.7s\n"
          ]
        },
        {
          "output_type": "stream",
          "name": "stderr",
          "text": [
            "/usr/local/lib/python3.10/dist-packages/xgboost/core.py:160: UserWarning: [01:18:14] WARNING: /workspace/src/learner.cc:742: \n",
            "Parameters: { \"colsample\" } are not used.\n",
            "\n",
            "  warnings.warn(smsg, UserWarning)\n"
          ]
        },
        {
          "output_type": "stream",
          "name": "stdout",
          "text": [
            "[CV 2/2] END learning_rate=0.05, max_depth=5, n_estimators=500;, score=(train=0.958, test=0.919) total time=   1.7s\n"
          ]
        },
        {
          "output_type": "stream",
          "name": "stderr",
          "text": [
            "/usr/local/lib/python3.10/dist-packages/xgboost/core.py:160: UserWarning: [01:18:16] WARNING: /workspace/src/learner.cc:742: \n",
            "Parameters: { \"colsample\" } are not used.\n",
            "\n",
            "  warnings.warn(smsg, UserWarning)\n"
          ]
        },
        {
          "output_type": "stream",
          "name": "stdout",
          "text": [
            "[CV 1/2] END learning_rate=0.05, max_depth=5, n_estimators=1000;, score=(train=0.973, test=0.919) total time=   3.6s\n"
          ]
        },
        {
          "output_type": "stream",
          "name": "stderr",
          "text": [
            "/usr/local/lib/python3.10/dist-packages/xgboost/core.py:160: UserWarning: [01:18:21] WARNING: /workspace/src/learner.cc:742: \n",
            "Parameters: { \"colsample\" } are not used.\n",
            "\n",
            "  warnings.warn(smsg, UserWarning)\n"
          ]
        },
        {
          "output_type": "stream",
          "name": "stdout",
          "text": [
            "[CV 2/2] END learning_rate=0.05, max_depth=5, n_estimators=1000;, score=(train=0.972, test=0.919) total time=   7.0s\n"
          ]
        },
        {
          "output_type": "stream",
          "name": "stderr",
          "text": [
            "/usr/local/lib/python3.10/dist-packages/xgboost/core.py:160: UserWarning: [01:18:28] WARNING: /workspace/src/learner.cc:742: \n",
            "Parameters: { \"colsample\" } are not used.\n",
            "\n",
            "  warnings.warn(smsg, UserWarning)\n"
          ]
        },
        {
          "output_type": "stream",
          "name": "stdout",
          "text": [
            "[CV 1/2] END learning_rate=0.05, max_depth=5, n_estimators=2000;, score=(train=0.986, test=0.918) total time=   6.6s\n"
          ]
        },
        {
          "output_type": "stream",
          "name": "stderr",
          "text": [
            "/usr/local/lib/python3.10/dist-packages/xgboost/core.py:160: UserWarning: [01:18:37] WARNING: /workspace/src/learner.cc:742: \n",
            "Parameters: { \"colsample\" } are not used.\n",
            "\n",
            "  warnings.warn(smsg, UserWarning)\n"
          ]
        },
        {
          "output_type": "stream",
          "name": "stdout",
          "text": [
            "[CV 2/2] END learning_rate=0.05, max_depth=5, n_estimators=2000;, score=(train=0.986, test=0.917) total time=  10.6s\n",
            "[CV 1/2] END learning_rate=0.05, max_depth=7, n_estimators=10;, score=(train=0.919, test=0.912) total time=   0.1s\n"
          ]
        },
        {
          "output_type": "stream",
          "name": "stderr",
          "text": [
            "/usr/local/lib/python3.10/dist-packages/xgboost/core.py:160: UserWarning: [01:18:48] WARNING: /workspace/src/learner.cc:742: \n",
            "Parameters: { \"colsample\" } are not used.\n",
            "\n",
            "  warnings.warn(smsg, UserWarning)\n",
            "/usr/local/lib/python3.10/dist-packages/xgboost/core.py:160: UserWarning: [01:18:48] WARNING: /workspace/src/learner.cc:742: \n",
            "Parameters: { \"colsample\" } are not used.\n",
            "\n",
            "  warnings.warn(smsg, UserWarning)\n"
          ]
        },
        {
          "output_type": "stream",
          "name": "stdout",
          "text": [
            "[CV 2/2] END learning_rate=0.05, max_depth=7, n_estimators=10;, score=(train=0.920, test=0.914) total time=   0.1s\n"
          ]
        },
        {
          "output_type": "stream",
          "name": "stderr",
          "text": [
            "/usr/local/lib/python3.10/dist-packages/xgboost/core.py:160: UserWarning: [01:18:48] WARNING: /workspace/src/learner.cc:742: \n",
            "Parameters: { \"colsample\" } are not used.\n",
            "\n",
            "  warnings.warn(smsg, UserWarning)\n"
          ]
        },
        {
          "output_type": "stream",
          "name": "stdout",
          "text": [
            "[CV 1/2] END learning_rate=0.05, max_depth=7, n_estimators=200;, score=(train=0.958, test=0.919) total time=   0.8s\n"
          ]
        },
        {
          "output_type": "stream",
          "name": "stderr",
          "text": [
            "/usr/local/lib/python3.10/dist-packages/xgboost/core.py:160: UserWarning: [01:18:49] WARNING: /workspace/src/learner.cc:742: \n",
            "Parameters: { \"colsample\" } are not used.\n",
            "\n",
            "  warnings.warn(smsg, UserWarning)\n"
          ]
        },
        {
          "output_type": "stream",
          "name": "stdout",
          "text": [
            "[CV 2/2] END learning_rate=0.05, max_depth=7, n_estimators=200;, score=(train=0.957, test=0.919) total time=   0.8s\n"
          ]
        },
        {
          "output_type": "stream",
          "name": "stderr",
          "text": [
            "/usr/local/lib/python3.10/dist-packages/xgboost/core.py:160: UserWarning: [01:18:50] WARNING: /workspace/src/learner.cc:742: \n",
            "Parameters: { \"colsample\" } are not used.\n",
            "\n",
            "  warnings.warn(smsg, UserWarning)\n"
          ]
        },
        {
          "output_type": "stream",
          "name": "stdout",
          "text": [
            "[CV 1/2] END learning_rate=0.05, max_depth=7, n_estimators=500;, score=(train=0.980, test=0.918) total time=   6.9s\n"
          ]
        },
        {
          "output_type": "stream",
          "name": "stderr",
          "text": [
            "/usr/local/lib/python3.10/dist-packages/xgboost/core.py:160: UserWarning: [01:18:58] WARNING: /workspace/src/learner.cc:742: \n",
            "Parameters: { \"colsample\" } are not used.\n",
            "\n",
            "  warnings.warn(smsg, UserWarning)\n"
          ]
        },
        {
          "output_type": "stream",
          "name": "stdout",
          "text": [
            "[CV 2/2] END learning_rate=0.05, max_depth=7, n_estimators=500;, score=(train=0.981, test=0.918) total time=   2.3s\n"
          ]
        },
        {
          "output_type": "stream",
          "name": "stderr",
          "text": [
            "/usr/local/lib/python3.10/dist-packages/xgboost/core.py:160: UserWarning: [01:19:00] WARNING: /workspace/src/learner.cc:742: \n",
            "Parameters: { \"colsample\" } are not used.\n",
            "\n",
            "  warnings.warn(smsg, UserWarning)\n"
          ]
        },
        {
          "output_type": "stream",
          "name": "stdout",
          "text": [
            "[CV 1/2] END learning_rate=0.05, max_depth=7, n_estimators=1000;, score=(train=0.993, test=0.917) total time=   4.7s\n"
          ]
        },
        {
          "output_type": "stream",
          "name": "stderr",
          "text": [
            "/usr/local/lib/python3.10/dist-packages/xgboost/core.py:160: UserWarning: [01:19:06] WARNING: /workspace/src/learner.cc:742: \n",
            "Parameters: { \"colsample\" } are not used.\n",
            "\n",
            "  warnings.warn(smsg, UserWarning)\n"
          ]
        },
        {
          "output_type": "stream",
          "name": "stdout",
          "text": [
            "[CV 2/2] END learning_rate=0.05, max_depth=7, n_estimators=1000;, score=(train=0.994, test=0.916) total time=   9.4s\n"
          ]
        },
        {
          "output_type": "stream",
          "name": "stderr",
          "text": [
            "/usr/local/lib/python3.10/dist-packages/xgboost/core.py:160: UserWarning: [01:19:16] WARNING: /workspace/src/learner.cc:742: \n",
            "Parameters: { \"colsample\" } are not used.\n",
            "\n",
            "  warnings.warn(smsg, UserWarning)\n"
          ]
        },
        {
          "output_type": "stream",
          "name": "stdout",
          "text": [
            "[CV 1/2] END learning_rate=0.05, max_depth=7, n_estimators=2000;, score=(train=0.999, test=0.916) total time=  14.5s\n"
          ]
        },
        {
          "output_type": "stream",
          "name": "stderr",
          "text": [
            "/usr/local/lib/python3.10/dist-packages/xgboost/core.py:160: UserWarning: [01:19:32] WARNING: /workspace/src/learner.cc:742: \n",
            "Parameters: { \"colsample\" } are not used.\n",
            "\n",
            "  warnings.warn(smsg, UserWarning)\n"
          ]
        },
        {
          "output_type": "stream",
          "name": "stdout",
          "text": [
            "[CV 2/2] END learning_rate=0.05, max_depth=7, n_estimators=2000;, score=(train=0.999, test=0.914) total time=  14.7s\n",
            "[CV 1/2] END learning_rate=0.05, max_depth=10, n_estimators=10;, score=(train=0.933, test=0.914) total time=   0.1s\n"
          ]
        },
        {
          "output_type": "stream",
          "name": "stderr",
          "text": [
            "/usr/local/lib/python3.10/dist-packages/xgboost/core.py:160: UserWarning: [01:19:49] WARNING: /workspace/src/learner.cc:742: \n",
            "Parameters: { \"colsample\" } are not used.\n",
            "\n",
            "  warnings.warn(smsg, UserWarning)\n",
            "/usr/local/lib/python3.10/dist-packages/xgboost/core.py:160: UserWarning: [01:19:49] WARNING: /workspace/src/learner.cc:742: \n",
            "Parameters: { \"colsample\" } are not used.\n",
            "\n",
            "  warnings.warn(smsg, UserWarning)\n"
          ]
        },
        {
          "output_type": "stream",
          "name": "stdout",
          "text": [
            "[CV 2/2] END learning_rate=0.05, max_depth=10, n_estimators=10;, score=(train=0.934, test=0.915) total time=   0.1s\n"
          ]
        },
        {
          "output_type": "stream",
          "name": "stderr",
          "text": [
            "/usr/local/lib/python3.10/dist-packages/xgboost/core.py:160: UserWarning: [01:19:49] WARNING: /workspace/src/learner.cc:742: \n",
            "Parameters: { \"colsample\" } are not used.\n",
            "\n",
            "  warnings.warn(smsg, UserWarning)\n"
          ]
        },
        {
          "output_type": "stream",
          "name": "stdout",
          "text": [
            "[CV 1/2] END learning_rate=0.05, max_depth=10, n_estimators=200;, score=(train=0.981, test=0.920) total time=   1.2s\n"
          ]
        },
        {
          "output_type": "stream",
          "name": "stderr",
          "text": [
            "/usr/local/lib/python3.10/dist-packages/xgboost/core.py:160: UserWarning: [01:19:51] WARNING: /workspace/src/learner.cc:742: \n",
            "Parameters: { \"colsample\" } are not used.\n",
            "\n",
            "  warnings.warn(smsg, UserWarning)\n"
          ]
        },
        {
          "output_type": "stream",
          "name": "stdout",
          "text": [
            "[CV 2/2] END learning_rate=0.05, max_depth=10, n_estimators=200;, score=(train=0.981, test=0.918) total time=   1.3s\n"
          ]
        },
        {
          "output_type": "stream",
          "name": "stderr",
          "text": [
            "/usr/local/lib/python3.10/dist-packages/xgboost/core.py:160: UserWarning: [01:19:52] WARNING: /workspace/src/learner.cc:742: \n",
            "Parameters: { \"colsample\" } are not used.\n",
            "\n",
            "  warnings.warn(smsg, UserWarning)\n"
          ]
        },
        {
          "output_type": "stream",
          "name": "stdout",
          "text": [
            "[CV 1/2] END learning_rate=0.05, max_depth=10, n_estimators=500;, score=(train=0.997, test=0.917) total time=   8.0s\n"
          ]
        },
        {
          "output_type": "stream",
          "name": "stderr",
          "text": [
            "/usr/local/lib/python3.10/dist-packages/xgboost/core.py:160: UserWarning: [01:20:01] WARNING: /workspace/src/learner.cc:742: \n",
            "Parameters: { \"colsample\" } are not used.\n",
            "\n",
            "  warnings.warn(smsg, UserWarning)\n"
          ]
        },
        {
          "output_type": "stream",
          "name": "stdout",
          "text": [
            "[CV 2/2] END learning_rate=0.05, max_depth=10, n_estimators=500;, score=(train=0.997, test=0.916) total time=   3.6s\n"
          ]
        },
        {
          "output_type": "stream",
          "name": "stderr",
          "text": [
            "/usr/local/lib/python3.10/dist-packages/xgboost/core.py:160: UserWarning: [01:20:05] WARNING: /workspace/src/learner.cc:742: \n",
            "Parameters: { \"colsample\" } are not used.\n",
            "\n",
            "  warnings.warn(smsg, UserWarning)\n"
          ]
        },
        {
          "output_type": "stream",
          "name": "stdout",
          "text": [
            "[CV 1/2] END learning_rate=0.05, max_depth=10, n_estimators=1000;, score=(train=1.000, test=0.916) total time=  12.2s\n"
          ]
        },
        {
          "output_type": "stream",
          "name": "stderr",
          "text": [
            "/usr/local/lib/python3.10/dist-packages/xgboost/core.py:160: UserWarning: [01:20:19] WARNING: /workspace/src/learner.cc:742: \n",
            "Parameters: { \"colsample\" } are not used.\n",
            "\n",
            "  warnings.warn(smsg, UserWarning)\n"
          ]
        },
        {
          "output_type": "stream",
          "name": "stdout",
          "text": [
            "[CV 2/2] END learning_rate=0.05, max_depth=10, n_estimators=1000;, score=(train=1.000, test=0.914) total time=   7.9s\n"
          ]
        },
        {
          "output_type": "stream",
          "name": "stderr",
          "text": [
            "/usr/local/lib/python3.10/dist-packages/xgboost/core.py:160: UserWarning: [01:20:30] WARNING: /workspace/src/learner.cc:742: \n",
            "Parameters: { \"colsample\" } are not used.\n",
            "\n",
            "  warnings.warn(smsg, UserWarning)\n"
          ]
        },
        {
          "output_type": "stream",
          "name": "stdout",
          "text": [
            "[CV 1/2] END learning_rate=0.05, max_depth=10, n_estimators=2000;, score=(train=1.000, test=0.915) total time=  22.1s\n"
          ]
        },
        {
          "output_type": "stream",
          "name": "stderr",
          "text": [
            "/usr/local/lib/python3.10/dist-packages/xgboost/core.py:160: UserWarning: [01:20:55] WARNING: /workspace/src/learner.cc:742: \n",
            "Parameters: { \"colsample\" } are not used.\n",
            "\n",
            "  warnings.warn(smsg, UserWarning)\n"
          ]
        },
        {
          "output_type": "stream",
          "name": "stdout",
          "text": [
            "[CV 2/2] END learning_rate=0.05, max_depth=10, n_estimators=2000;, score=(train=1.000, test=0.912) total time=  21.8s\n",
            "[CV 1/2] END learning_rate=0.1, max_depth=2, n_estimators=10;, score=(train=0.905, test=0.904) total time=   0.1s\n",
            "[CV 2/2] END learning_rate=0.1, max_depth=2, n_estimators=10;, score=(train=0.903, test=0.902) total time=   0.1s"
          ]
        },
        {
          "output_type": "stream",
          "name": "stderr",
          "text": [
            "/usr/local/lib/python3.10/dist-packages/xgboost/core.py:160: UserWarning: [01:21:22] WARNING: /workspace/src/learner.cc:742: \n",
            "Parameters: { \"colsample\" } are not used.\n",
            "\n",
            "  warnings.warn(smsg, UserWarning)\n",
            "/usr/local/lib/python3.10/dist-packages/xgboost/core.py:160: UserWarning: [01:21:22] WARNING: /workspace/src/learner.cc:742: \n",
            "Parameters: { \"colsample\" } are not used.\n",
            "\n",
            "  warnings.warn(smsg, UserWarning)\n"
          ]
        },
        {
          "output_type": "stream",
          "name": "stdout",
          "text": [
            "\n"
          ]
        },
        {
          "output_type": "stream",
          "name": "stderr",
          "text": [
            "/usr/local/lib/python3.10/dist-packages/xgboost/core.py:160: UserWarning: [01:21:22] WARNING: /workspace/src/learner.cc:742: \n",
            "Parameters: { \"colsample\" } are not used.\n",
            "\n",
            "  warnings.warn(smsg, UserWarning)\n"
          ]
        },
        {
          "output_type": "stream",
          "name": "stdout",
          "text": [
            "[CV 1/2] END learning_rate=0.1, max_depth=2, n_estimators=200;, score=(train=0.921, test=0.914) total time=   0.5s\n"
          ]
        },
        {
          "output_type": "stream",
          "name": "stderr",
          "text": [
            "/usr/local/lib/python3.10/dist-packages/xgboost/core.py:160: UserWarning: [01:21:23] WARNING: /workspace/src/learner.cc:742: \n",
            "Parameters: { \"colsample\" } are not used.\n",
            "\n",
            "  warnings.warn(smsg, UserWarning)\n"
          ]
        },
        {
          "output_type": "stream",
          "name": "stdout",
          "text": [
            "[CV 2/2] END learning_rate=0.1, max_depth=2, n_estimators=200;, score=(train=0.922, test=0.915) total time=   0.5s\n"
          ]
        },
        {
          "output_type": "stream",
          "name": "stderr",
          "text": [
            "/usr/local/lib/python3.10/dist-packages/xgboost/core.py:160: UserWarning: [01:21:23] WARNING: /workspace/src/learner.cc:742: \n",
            "Parameters: { \"colsample\" } are not used.\n",
            "\n",
            "  warnings.warn(smsg, UserWarning)\n"
          ]
        },
        {
          "output_type": "stream",
          "name": "stdout",
          "text": [
            "[CV 1/2] END learning_rate=0.1, max_depth=2, n_estimators=500;, score=(train=0.930, test=0.917) total time=   1.0s\n"
          ]
        },
        {
          "output_type": "stream",
          "name": "stderr",
          "text": [
            "/usr/local/lib/python3.10/dist-packages/xgboost/core.py:160: UserWarning: [01:21:24] WARNING: /workspace/src/learner.cc:742: \n",
            "Parameters: { \"colsample\" } are not used.\n",
            "\n",
            "  warnings.warn(smsg, UserWarning)\n"
          ]
        },
        {
          "output_type": "stream",
          "name": "stdout",
          "text": [
            "[CV 2/2] END learning_rate=0.1, max_depth=2, n_estimators=500;, score=(train=0.929, test=0.918) total time=   1.0s\n"
          ]
        },
        {
          "output_type": "stream",
          "name": "stderr",
          "text": [
            "/usr/local/lib/python3.10/dist-packages/xgboost/core.py:160: UserWarning: [01:21:26] WARNING: /workspace/src/learner.cc:742: \n",
            "Parameters: { \"colsample\" } are not used.\n",
            "\n",
            "  warnings.warn(smsg, UserWarning)\n"
          ]
        },
        {
          "output_type": "stream",
          "name": "stdout",
          "text": [
            "[CV 1/2] END learning_rate=0.1, max_depth=2, n_estimators=1000;, score=(train=0.936, test=0.918) total time=   1.9s\n"
          ]
        },
        {
          "output_type": "stream",
          "name": "stderr",
          "text": [
            "/usr/local/lib/python3.10/dist-packages/xgboost/core.py:160: UserWarning: [01:21:28] WARNING: /workspace/src/learner.cc:742: \n",
            "Parameters: { \"colsample\" } are not used.\n",
            "\n",
            "  warnings.warn(smsg, UserWarning)\n"
          ]
        },
        {
          "output_type": "stream",
          "name": "stdout",
          "text": [
            "[CV 2/2] END learning_rate=0.1, max_depth=2, n_estimators=1000;, score=(train=0.935, test=0.919) total time=   2.0s\n"
          ]
        },
        {
          "output_type": "stream",
          "name": "stderr",
          "text": [
            "/usr/local/lib/python3.10/dist-packages/xgboost/core.py:160: UserWarning: [01:21:30] WARNING: /workspace/src/learner.cc:742: \n",
            "Parameters: { \"colsample\" } are not used.\n",
            "\n",
            "  warnings.warn(smsg, UserWarning)\n"
          ]
        },
        {
          "output_type": "stream",
          "name": "stdout",
          "text": [
            "[CV 1/2] END learning_rate=0.1, max_depth=2, n_estimators=2000;, score=(train=0.942, test=0.918) total time=   8.4s\n"
          ]
        },
        {
          "output_type": "stream",
          "name": "stderr",
          "text": [
            "/usr/local/lib/python3.10/dist-packages/xgboost/core.py:160: UserWarning: [01:21:39] WARNING: /workspace/src/learner.cc:742: \n",
            "Parameters: { \"colsample\" } are not used.\n",
            "\n",
            "  warnings.warn(smsg, UserWarning)\n"
          ]
        },
        {
          "output_type": "stream",
          "name": "stdout",
          "text": [
            "[CV 2/2] END learning_rate=0.1, max_depth=2, n_estimators=2000;, score=(train=0.941, test=0.919) total time=   3.8s\n",
            "[CV 1/2] END learning_rate=0.1, max_depth=5, n_estimators=10;, score=(train=0.914, test=0.910) total time=   0.1s\n"
          ]
        },
        {
          "output_type": "stream",
          "name": "stderr",
          "text": [
            "/usr/local/lib/python3.10/dist-packages/xgboost/core.py:160: UserWarning: [01:21:43] WARNING: /workspace/src/learner.cc:742: \n",
            "Parameters: { \"colsample\" } are not used.\n",
            "\n",
            "  warnings.warn(smsg, UserWarning)\n",
            "/usr/local/lib/python3.10/dist-packages/xgboost/core.py:160: UserWarning: [01:21:43] WARNING: /workspace/src/learner.cc:742: \n",
            "Parameters: { \"colsample\" } are not used.\n",
            "\n",
            "  warnings.warn(smsg, UserWarning)\n"
          ]
        },
        {
          "output_type": "stream",
          "name": "stdout",
          "text": [
            "[CV 2/2] END learning_rate=0.1, max_depth=5, n_estimators=10;, score=(train=0.915, test=0.913) total time=   0.1s\n"
          ]
        },
        {
          "output_type": "stream",
          "name": "stderr",
          "text": [
            "/usr/local/lib/python3.10/dist-packages/xgboost/core.py:160: UserWarning: [01:21:43] WARNING: /workspace/src/learner.cc:742: \n",
            "Parameters: { \"colsample\" } are not used.\n",
            "\n",
            "  warnings.warn(smsg, UserWarning)\n"
          ]
        },
        {
          "output_type": "stream",
          "name": "stdout",
          "text": [
            "[CV 1/2] END learning_rate=0.1, max_depth=5, n_estimators=200;, score=(train=0.953, test=0.918) total time=   0.7s\n"
          ]
        },
        {
          "output_type": "stream",
          "name": "stderr",
          "text": [
            "/usr/local/lib/python3.10/dist-packages/xgboost/core.py:160: UserWarning: [01:21:44] WARNING: /workspace/src/learner.cc:742: \n",
            "Parameters: { \"colsample\" } are not used.\n",
            "\n",
            "  warnings.warn(smsg, UserWarning)\n"
          ]
        },
        {
          "output_type": "stream",
          "name": "stdout",
          "text": [
            "[CV 2/2] END learning_rate=0.1, max_depth=5, n_estimators=200;, score=(train=0.952, test=0.919) total time=   0.7s\n"
          ]
        },
        {
          "output_type": "stream",
          "name": "stderr",
          "text": [
            "/usr/local/lib/python3.10/dist-packages/xgboost/core.py:160: UserWarning: [01:21:45] WARNING: /workspace/src/learner.cc:742: \n",
            "Parameters: { \"colsample\" } are not used.\n",
            "\n",
            "  warnings.warn(smsg, UserWarning)\n"
          ]
        },
        {
          "output_type": "stream",
          "name": "stdout",
          "text": [
            "[CV 1/2] END learning_rate=0.1, max_depth=5, n_estimators=500;, score=(train=0.971, test=0.917) total time=   1.8s\n"
          ]
        },
        {
          "output_type": "stream",
          "name": "stderr",
          "text": [
            "/usr/local/lib/python3.10/dist-packages/xgboost/core.py:160: UserWarning: [01:21:47] WARNING: /workspace/src/learner.cc:742: \n",
            "Parameters: { \"colsample\" } are not used.\n",
            "\n",
            "  warnings.warn(smsg, UserWarning)\n"
          ]
        },
        {
          "output_type": "stream",
          "name": "stdout",
          "text": [
            "[CV 2/2] END learning_rate=0.1, max_depth=5, n_estimators=500;, score=(train=0.971, test=0.918) total time=   5.9s\n"
          ]
        },
        {
          "output_type": "stream",
          "name": "stderr",
          "text": [
            "/usr/local/lib/python3.10/dist-packages/xgboost/core.py:160: UserWarning: [01:21:53] WARNING: /workspace/src/learner.cc:742: \n",
            "Parameters: { \"colsample\" } are not used.\n",
            "\n",
            "  warnings.warn(smsg, UserWarning)\n"
          ]
        },
        {
          "output_type": "stream",
          "name": "stdout",
          "text": [
            "[CV 1/2] END learning_rate=0.1, max_depth=5, n_estimators=1000;, score=(train=0.985, test=0.917) total time=   3.4s\n"
          ]
        },
        {
          "output_type": "stream",
          "name": "stderr",
          "text": [
            "/usr/local/lib/python3.10/dist-packages/xgboost/core.py:160: UserWarning: [01:21:57] WARNING: /workspace/src/learner.cc:742: \n",
            "Parameters: { \"colsample\" } are not used.\n",
            "\n",
            "  warnings.warn(smsg, UserWarning)\n"
          ]
        },
        {
          "output_type": "stream",
          "name": "stdout",
          "text": [
            "[CV 2/2] END learning_rate=0.1, max_depth=5, n_estimators=1000;, score=(train=0.985, test=0.916) total time=   3.4s\n"
          ]
        },
        {
          "output_type": "stream",
          "name": "stderr",
          "text": [
            "/usr/local/lib/python3.10/dist-packages/xgboost/core.py:160: UserWarning: [01:22:01] WARNING: /workspace/src/learner.cc:742: \n",
            "Parameters: { \"colsample\" } are not used.\n",
            "\n",
            "  warnings.warn(smsg, UserWarning)\n"
          ]
        },
        {
          "output_type": "stream",
          "name": "stdout",
          "text": [
            "[CV 1/2] END learning_rate=0.1, max_depth=5, n_estimators=2000;, score=(train=0.995, test=0.916) total time=  11.7s\n"
          ]
        },
        {
          "output_type": "stream",
          "name": "stderr",
          "text": [
            "/usr/local/lib/python3.10/dist-packages/xgboost/core.py:160: UserWarning: [01:22:14] WARNING: /workspace/src/learner.cc:742: \n",
            "Parameters: { \"colsample\" } are not used.\n",
            "\n",
            "  warnings.warn(smsg, UserWarning)\n"
          ]
        },
        {
          "output_type": "stream",
          "name": "stdout",
          "text": [
            "[CV 2/2] END learning_rate=0.1, max_depth=5, n_estimators=2000;, score=(train=0.995, test=0.915) total time=  11.6s\n",
            "[CV 1/2] END learning_rate=0.1, max_depth=7, n_estimators=10;, score=(train=0.921, test=0.913) total time=   0.1s\n"
          ]
        },
        {
          "output_type": "stream",
          "name": "stderr",
          "text": [
            "/usr/local/lib/python3.10/dist-packages/xgboost/core.py:160: UserWarning: [01:22:27] WARNING: /workspace/src/learner.cc:742: \n",
            "Parameters: { \"colsample\" } are not used.\n",
            "\n",
            "  warnings.warn(smsg, UserWarning)\n",
            "/usr/local/lib/python3.10/dist-packages/xgboost/core.py:160: UserWarning: [01:22:27] WARNING: /workspace/src/learner.cc:742: \n",
            "Parameters: { \"colsample\" } are not used.\n",
            "\n",
            "  warnings.warn(smsg, UserWarning)\n"
          ]
        },
        {
          "output_type": "stream",
          "name": "stdout",
          "text": [
            "[CV 2/2] END learning_rate=0.1, max_depth=7, n_estimators=10;, score=(train=0.922, test=0.914) total time=   0.1s\n"
          ]
        },
        {
          "output_type": "stream",
          "name": "stderr",
          "text": [
            "/usr/local/lib/python3.10/dist-packages/xgboost/core.py:160: UserWarning: [01:22:27] WARNING: /workspace/src/learner.cc:742: \n",
            "Parameters: { \"colsample\" } are not used.\n",
            "\n",
            "  warnings.warn(smsg, UserWarning)\n"
          ]
        },
        {
          "output_type": "stream",
          "name": "stdout",
          "text": [
            "[CV 1/2] END learning_rate=0.1, max_depth=7, n_estimators=200;, score=(train=0.974, test=0.918) total time=   0.9s\n"
          ]
        },
        {
          "output_type": "stream",
          "name": "stderr",
          "text": [
            "/usr/local/lib/python3.10/dist-packages/xgboost/core.py:160: UserWarning: [01:22:28] WARNING: /workspace/src/learner.cc:742: \n",
            "Parameters: { \"colsample\" } are not used.\n",
            "\n",
            "  warnings.warn(smsg, UserWarning)\n"
          ]
        },
        {
          "output_type": "stream",
          "name": "stdout",
          "text": [
            "[CV 2/2] END learning_rate=0.1, max_depth=7, n_estimators=200;, score=(train=0.973, test=0.918) total time=   0.9s\n"
          ]
        },
        {
          "output_type": "stream",
          "name": "stderr",
          "text": [
            "/usr/local/lib/python3.10/dist-packages/xgboost/core.py:160: UserWarning: [01:22:29] WARNING: /workspace/src/learner.cc:742: \n",
            "Parameters: { \"colsample\" } are not used.\n",
            "\n",
            "  warnings.warn(smsg, UserWarning)\n"
          ]
        },
        {
          "output_type": "stream",
          "name": "stdout",
          "text": [
            "[CV 1/2] END learning_rate=0.1, max_depth=7, n_estimators=500;, score=(train=0.992, test=0.916) total time=   2.3s\n"
          ]
        },
        {
          "output_type": "stream",
          "name": "stderr",
          "text": [
            "/usr/local/lib/python3.10/dist-packages/xgboost/core.py:160: UserWarning: [01:22:32] WARNING: /workspace/src/learner.cc:742: \n",
            "Parameters: { \"colsample\" } are not used.\n",
            "\n",
            "  warnings.warn(smsg, UserWarning)\n"
          ]
        },
        {
          "output_type": "stream",
          "name": "stdout",
          "text": [
            "[CV 2/2] END learning_rate=0.1, max_depth=7, n_estimators=500;, score=(train=0.993, test=0.915) total time=   2.7s\n"
          ]
        },
        {
          "output_type": "stream",
          "name": "stderr",
          "text": [
            "/usr/local/lib/python3.10/dist-packages/xgboost/core.py:160: UserWarning: [01:22:36] WARNING: /workspace/src/learner.cc:742: \n",
            "Parameters: { \"colsample\" } are not used.\n",
            "\n",
            "  warnings.warn(smsg, UserWarning)\n"
          ]
        },
        {
          "output_type": "stream",
          "name": "stdout",
          "text": [
            "[CV 1/2] END learning_rate=0.1, max_depth=7, n_estimators=1000;, score=(train=0.999, test=0.915) total time=   8.6s\n"
          ]
        },
        {
          "output_type": "stream",
          "name": "stderr",
          "text": [
            "/usr/local/lib/python3.10/dist-packages/xgboost/core.py:160: UserWarning: [01:22:45] WARNING: /workspace/src/learner.cc:742: \n",
            "Parameters: { \"colsample\" } are not used.\n",
            "\n",
            "  warnings.warn(smsg, UserWarning)\n"
          ]
        },
        {
          "output_type": "stream",
          "name": "stdout",
          "text": [
            "[CV 2/2] END learning_rate=0.1, max_depth=7, n_estimators=1000;, score=(train=0.999, test=0.914) total time=   5.0s\n"
          ]
        },
        {
          "output_type": "stream",
          "name": "stderr",
          "text": [
            "/usr/local/lib/python3.10/dist-packages/xgboost/core.py:160: UserWarning: [01:22:51] WARNING: /workspace/src/learner.cc:742: \n",
            "Parameters: { \"colsample\" } are not used.\n",
            "\n",
            "  warnings.warn(smsg, UserWarning)\n"
          ]
        },
        {
          "output_type": "stream",
          "name": "stdout",
          "text": [
            "[CV 1/2] END learning_rate=0.1, max_depth=7, n_estimators=2000;, score=(train=1.000, test=0.914) total time=  14.5s\n"
          ]
        },
        {
          "output_type": "stream",
          "name": "stderr",
          "text": [
            "/usr/local/lib/python3.10/dist-packages/xgboost/core.py:160: UserWarning: [01:23:09] WARNING: /workspace/src/learner.cc:742: \n",
            "Parameters: { \"colsample\" } are not used.\n",
            "\n",
            "  warnings.warn(smsg, UserWarning)\n"
          ]
        },
        {
          "output_type": "stream",
          "name": "stdout",
          "text": [
            "[CV 2/2] END learning_rate=0.1, max_depth=7, n_estimators=2000;, score=(train=1.000, test=0.912) total time=  13.3s\n"
          ]
        },
        {
          "output_type": "stream",
          "name": "stderr",
          "text": [
            "/usr/local/lib/python3.10/dist-packages/xgboost/core.py:160: UserWarning: [01:23:25] WARNING: /workspace/src/learner.cc:742: \n",
            "Parameters: { \"colsample\" } are not used.\n",
            "\n",
            "  warnings.warn(smsg, UserWarning)\n"
          ]
        },
        {
          "output_type": "stream",
          "name": "stdout",
          "text": [
            "[CV 1/2] END learning_rate=0.1, max_depth=10, n_estimators=10;, score=(train=0.936, test=0.913) total time=   0.5s\n"
          ]
        },
        {
          "output_type": "stream",
          "name": "stderr",
          "text": [
            "/usr/local/lib/python3.10/dist-packages/xgboost/core.py:160: UserWarning: [01:23:26] WARNING: /workspace/src/learner.cc:742: \n",
            "Parameters: { \"colsample\" } are not used.\n",
            "\n",
            "  warnings.warn(smsg, UserWarning)\n"
          ]
        },
        {
          "output_type": "stream",
          "name": "stdout",
          "text": [
            "[CV 2/2] END learning_rate=0.1, max_depth=10, n_estimators=10;, score=(train=0.938, test=0.916) total time=   0.8s\n"
          ]
        },
        {
          "output_type": "stream",
          "name": "stderr",
          "text": [
            "/usr/local/lib/python3.10/dist-packages/xgboost/core.py:160: UserWarning: [01:23:27] WARNING: /workspace/src/learner.cc:742: \n",
            "Parameters: { \"colsample\" } are not used.\n",
            "\n",
            "  warnings.warn(smsg, UserWarning)\n"
          ]
        },
        {
          "output_type": "stream",
          "name": "stdout",
          "text": [
            "[CV 1/2] END learning_rate=0.1, max_depth=10, n_estimators=200;, score=(train=0.994, test=0.916) total time=   3.2s\n"
          ]
        },
        {
          "output_type": "stream",
          "name": "stderr",
          "text": [
            "/usr/local/lib/python3.10/dist-packages/xgboost/core.py:160: UserWarning: [01:23:30] WARNING: /workspace/src/learner.cc:742: \n",
            "Parameters: { \"colsample\" } are not used.\n",
            "\n",
            "  warnings.warn(smsg, UserWarning)\n"
          ]
        },
        {
          "output_type": "stream",
          "name": "stdout",
          "text": [
            "[CV 2/2] END learning_rate=0.1, max_depth=10, n_estimators=200;, score=(train=0.994, test=0.915) total time=   1.4s\n"
          ]
        },
        {
          "output_type": "stream",
          "name": "stderr",
          "text": [
            "/usr/local/lib/python3.10/dist-packages/xgboost/core.py:160: UserWarning: [01:23:32] WARNING: /workspace/src/learner.cc:742: \n",
            "Parameters: { \"colsample\" } are not used.\n",
            "\n",
            "  warnings.warn(smsg, UserWarning)\n"
          ]
        },
        {
          "output_type": "stream",
          "name": "stdout",
          "text": [
            "[CV 1/2] END learning_rate=0.1, max_depth=10, n_estimators=500;, score=(train=1.000, test=0.915) total time=   3.7s\n"
          ]
        },
        {
          "output_type": "stream",
          "name": "stderr",
          "text": [
            "/usr/local/lib/python3.10/dist-packages/xgboost/core.py:160: UserWarning: [01:23:36] WARNING: /workspace/src/learner.cc:742: \n",
            "Parameters: { \"colsample\" } are not used.\n",
            "\n",
            "  warnings.warn(smsg, UserWarning)\n"
          ]
        },
        {
          "output_type": "stream",
          "name": "stdout",
          "text": [
            "[CV 2/2] END learning_rate=0.1, max_depth=10, n_estimators=500;, score=(train=1.000, test=0.913) total time=   4.3s\n"
          ]
        },
        {
          "output_type": "stream",
          "name": "stderr",
          "text": [
            "/usr/local/lib/python3.10/dist-packages/xgboost/core.py:160: UserWarning: [01:23:42] WARNING: /workspace/src/learner.cc:742: \n",
            "Parameters: { \"colsample\" } are not used.\n",
            "\n",
            "  warnings.warn(smsg, UserWarning)\n"
          ]
        },
        {
          "output_type": "stream",
          "name": "stdout",
          "text": [
            "[CV 1/2] END learning_rate=0.1, max_depth=10, n_estimators=1000;, score=(train=1.000, test=0.914) total time=  10.6s\n"
          ]
        },
        {
          "output_type": "stream",
          "name": "stderr",
          "text": [
            "/usr/local/lib/python3.10/dist-packages/xgboost/core.py:160: UserWarning: [01:23:54] WARNING: /workspace/src/learner.cc:742: \n",
            "Parameters: { \"colsample\" } are not used.\n",
            "\n",
            "  warnings.warn(smsg, UserWarning)\n"
          ]
        },
        {
          "output_type": "stream",
          "name": "stdout",
          "text": [
            "[CV 2/2] END learning_rate=0.1, max_depth=10, n_estimators=1000;, score=(train=1.000, test=0.912) total time=  12.2s\n"
          ]
        },
        {
          "output_type": "stream",
          "name": "stderr",
          "text": [
            "/usr/local/lib/python3.10/dist-packages/xgboost/core.py:160: UserWarning: [01:24:07] WARNING: /workspace/src/learner.cc:742: \n",
            "Parameters: { \"colsample\" } are not used.\n",
            "\n",
            "  warnings.warn(smsg, UserWarning)\n"
          ]
        },
        {
          "output_type": "stream",
          "name": "stdout",
          "text": [
            "[CV 1/2] END learning_rate=0.1, max_depth=10, n_estimators=2000;, score=(train=1.000, test=0.913) total time=  19.7s\n"
          ]
        },
        {
          "output_type": "stream",
          "name": "stderr",
          "text": [
            "/usr/local/lib/python3.10/dist-packages/xgboost/core.py:160: UserWarning: [01:24:33] WARNING: /workspace/src/learner.cc:742: \n",
            "Parameters: { \"colsample\" } are not used.\n",
            "\n",
            "  warnings.warn(smsg, UserWarning)\n"
          ]
        },
        {
          "output_type": "stream",
          "name": "stdout",
          "text": [
            "[CV 2/2] END learning_rate=0.1, max_depth=10, n_estimators=2000;, score=(train=1.000, test=0.911) total time=  20.0s\n",
            "[CV 1/2] END learning_rate=0.5, max_depth=2, n_estimators=10;, score=(train=0.912, test=0.910) total time=   0.1s\n"
          ]
        },
        {
          "output_type": "stream",
          "name": "stderr",
          "text": [
            "/usr/local/lib/python3.10/dist-packages/xgboost/core.py:160: UserWarning: [01:24:56] WARNING: /workspace/src/learner.cc:742: \n",
            "Parameters: { \"colsample\" } are not used.\n",
            "\n",
            "  warnings.warn(smsg, UserWarning)\n",
            "/usr/local/lib/python3.10/dist-packages/xgboost/core.py:160: UserWarning: [01:24:57] WARNING: /workspace/src/learner.cc:742: \n",
            "Parameters: { \"colsample\" } are not used.\n",
            "\n",
            "  warnings.warn(smsg, UserWarning)\n"
          ]
        },
        {
          "output_type": "stream",
          "name": "stdout",
          "text": [
            "[CV 2/2] END learning_rate=0.5, max_depth=2, n_estimators=10;, score=(train=0.911, test=0.911) total time=   0.1s\n"
          ]
        },
        {
          "output_type": "stream",
          "name": "stderr",
          "text": [
            "/usr/local/lib/python3.10/dist-packages/xgboost/core.py:160: UserWarning: [01:24:57] WARNING: /workspace/src/learner.cc:742: \n",
            "Parameters: { \"colsample\" } are not used.\n",
            "\n",
            "  warnings.warn(smsg, UserWarning)\n"
          ]
        },
        {
          "output_type": "stream",
          "name": "stdout",
          "text": [
            "[CV 1/2] END learning_rate=0.5, max_depth=2, n_estimators=200;, score=(train=0.933, test=0.916) total time=   0.5s\n"
          ]
        },
        {
          "output_type": "stream",
          "name": "stderr",
          "text": [
            "/usr/local/lib/python3.10/dist-packages/xgboost/core.py:160: UserWarning: [01:24:57] WARNING: /workspace/src/learner.cc:742: \n",
            "Parameters: { \"colsample\" } are not used.\n",
            "\n",
            "  warnings.warn(smsg, UserWarning)\n"
          ]
        },
        {
          "output_type": "stream",
          "name": "stdout",
          "text": [
            "[CV 2/2] END learning_rate=0.5, max_depth=2, n_estimators=200;, score=(train=0.930, test=0.915) total time=   0.5s\n"
          ]
        },
        {
          "output_type": "stream",
          "name": "stderr",
          "text": [
            "/usr/local/lib/python3.10/dist-packages/xgboost/core.py:160: UserWarning: [01:24:58] WARNING: /workspace/src/learner.cc:742: \n",
            "Parameters: { \"colsample\" } are not used.\n",
            "\n",
            "  warnings.warn(smsg, UserWarning)\n"
          ]
        },
        {
          "output_type": "stream",
          "name": "stdout",
          "text": [
            "[CV 1/2] END learning_rate=0.5, max_depth=2, n_estimators=500;, score=(train=0.941, test=0.915) total time=   1.0s\n"
          ]
        },
        {
          "output_type": "stream",
          "name": "stderr",
          "text": [
            "/usr/local/lib/python3.10/dist-packages/xgboost/core.py:160: UserWarning: [01:24:59] WARNING: /workspace/src/learner.cc:742: \n",
            "Parameters: { \"colsample\" } are not used.\n",
            "\n",
            "  warnings.warn(smsg, UserWarning)\n"
          ]
        },
        {
          "output_type": "stream",
          "name": "stdout",
          "text": [
            "[CV 2/2] END learning_rate=0.5, max_depth=2, n_estimators=500;, score=(train=0.939, test=0.916) total time=   1.1s\n"
          ]
        },
        {
          "output_type": "stream",
          "name": "stderr",
          "text": [
            "/usr/local/lib/python3.10/dist-packages/xgboost/core.py:160: UserWarning: [01:25:00] WARNING: /workspace/src/learner.cc:742: \n",
            "Parameters: { \"colsample\" } are not used.\n",
            "\n",
            "  warnings.warn(smsg, UserWarning)\n"
          ]
        },
        {
          "output_type": "stream",
          "name": "stdout",
          "text": [
            "[CV 1/2] END learning_rate=0.5, max_depth=2, n_estimators=1000;, score=(train=0.947, test=0.914) total time=   8.0s\n"
          ]
        },
        {
          "output_type": "stream",
          "name": "stderr",
          "text": [
            "/usr/local/lib/python3.10/dist-packages/xgboost/core.py:160: UserWarning: [01:25:08] WARNING: /workspace/src/learner.cc:742: \n",
            "Parameters: { \"colsample\" } are not used.\n",
            "\n",
            "  warnings.warn(smsg, UserWarning)\n"
          ]
        },
        {
          "output_type": "stream",
          "name": "stdout",
          "text": [
            "[CV 2/2] END learning_rate=0.5, max_depth=2, n_estimators=1000;, score=(train=0.946, test=0.915) total time=   2.0s\n"
          ]
        },
        {
          "output_type": "stream",
          "name": "stderr",
          "text": [
            "/usr/local/lib/python3.10/dist-packages/xgboost/core.py:160: UserWarning: [01:25:10] WARNING: /workspace/src/learner.cc:742: \n",
            "Parameters: { \"colsample\" } are not used.\n",
            "\n",
            "  warnings.warn(smsg, UserWarning)\n"
          ]
        },
        {
          "output_type": "stream",
          "name": "stdout",
          "text": [
            "[CV 1/2] END learning_rate=0.5, max_depth=2, n_estimators=2000;, score=(train=0.954, test=0.914) total time=   3.9s\n"
          ]
        },
        {
          "output_type": "stream",
          "name": "stderr",
          "text": [
            "/usr/local/lib/python3.10/dist-packages/xgboost/core.py:160: UserWarning: [01:25:15] WARNING: /workspace/src/learner.cc:742: \n",
            "Parameters: { \"colsample\" } are not used.\n",
            "\n",
            "  warnings.warn(smsg, UserWarning)\n"
          ]
        },
        {
          "output_type": "stream",
          "name": "stdout",
          "text": [
            "[CV 2/2] END learning_rate=0.5, max_depth=2, n_estimators=2000;, score=(train=0.953, test=0.913) total time=   8.5s\n",
            "[CV 1/2] END learning_rate=0.5, max_depth=5, n_estimators=10;, score=(train=0.922, test=0.913) total time=   0.1s\n"
          ]
        },
        {
          "output_type": "stream",
          "name": "stderr",
          "text": [
            "/usr/local/lib/python3.10/dist-packages/xgboost/core.py:160: UserWarning: [01:25:24] WARNING: /workspace/src/learner.cc:742: \n",
            "Parameters: { \"colsample\" } are not used.\n",
            "\n",
            "  warnings.warn(smsg, UserWarning)\n",
            "/usr/local/lib/python3.10/dist-packages/xgboost/core.py:160: UserWarning: [01:25:24] WARNING: /workspace/src/learner.cc:742: \n",
            "Parameters: { \"colsample\" } are not used.\n",
            "\n",
            "  warnings.warn(smsg, UserWarning)\n"
          ]
        },
        {
          "output_type": "stream",
          "name": "stdout",
          "text": [
            "[CV 2/2] END learning_rate=0.5, max_depth=5, n_estimators=10;, score=(train=0.920, test=0.911) total time=   0.1s\n"
          ]
        },
        {
          "output_type": "stream",
          "name": "stderr",
          "text": [
            "/usr/local/lib/python3.10/dist-packages/xgboost/core.py:160: UserWarning: [01:25:24] WARNING: /workspace/src/learner.cc:742: \n",
            "Parameters: { \"colsample\" } are not used.\n",
            "\n",
            "  warnings.warn(smsg, UserWarning)\n"
          ]
        },
        {
          "output_type": "stream",
          "name": "stdout",
          "text": [
            "[CV 1/2] END learning_rate=0.5, max_depth=5, n_estimators=200;, score=(train=0.974, test=0.912) total time=   0.8s\n"
          ]
        },
        {
          "output_type": "stream",
          "name": "stderr",
          "text": [
            "/usr/local/lib/python3.10/dist-packages/xgboost/core.py:160: UserWarning: [01:25:25] WARNING: /workspace/src/learner.cc:742: \n",
            "Parameters: { \"colsample\" } are not used.\n",
            "\n",
            "  warnings.warn(smsg, UserWarning)\n"
          ]
        },
        {
          "output_type": "stream",
          "name": "stdout",
          "text": [
            "[CV 2/2] END learning_rate=0.5, max_depth=5, n_estimators=200;, score=(train=0.975, test=0.913) total time=   0.8s\n"
          ]
        },
        {
          "output_type": "stream",
          "name": "stderr",
          "text": [
            "/usr/local/lib/python3.10/dist-packages/xgboost/core.py:160: UserWarning: [01:25:26] WARNING: /workspace/src/learner.cc:742: \n",
            "Parameters: { \"colsample\" } are not used.\n",
            "\n",
            "  warnings.warn(smsg, UserWarning)\n"
          ]
        },
        {
          "output_type": "stream",
          "name": "stdout",
          "text": [
            "[CV 1/2] END learning_rate=0.5, max_depth=5, n_estimators=500;, score=(train=0.991, test=0.911) total time=   1.9s\n"
          ]
        },
        {
          "output_type": "stream",
          "name": "stderr",
          "text": [
            "/usr/local/lib/python3.10/dist-packages/xgboost/core.py:160: UserWarning: [01:25:28] WARNING: /workspace/src/learner.cc:742: \n",
            "Parameters: { \"colsample\" } are not used.\n",
            "\n",
            "  warnings.warn(smsg, UserWarning)\n"
          ]
        },
        {
          "output_type": "stream",
          "name": "stdout",
          "text": [
            "[CV 2/2] END learning_rate=0.5, max_depth=5, n_estimators=500;, score=(train=0.992, test=0.913) total time=   1.8s\n"
          ]
        },
        {
          "output_type": "stream",
          "name": "stderr",
          "text": [
            "/usr/local/lib/python3.10/dist-packages/xgboost/core.py:160: UserWarning: [01:25:30] WARNING: /workspace/src/learner.cc:742: \n",
            "Parameters: { \"colsample\" } are not used.\n",
            "\n",
            "  warnings.warn(smsg, UserWarning)\n"
          ]
        },
        {
          "output_type": "stream",
          "name": "stdout",
          "text": [
            "[CV 1/2] END learning_rate=0.5, max_depth=5, n_estimators=1000;, score=(train=0.999, test=0.911) total time=   8.4s\n"
          ]
        },
        {
          "output_type": "stream",
          "name": "stderr",
          "text": [
            "/usr/local/lib/python3.10/dist-packages/xgboost/core.py:160: UserWarning: [01:25:39] WARNING: /workspace/src/learner.cc:742: \n",
            "Parameters: { \"colsample\" } are not used.\n",
            "\n",
            "  warnings.warn(smsg, UserWarning)\n"
          ]
        },
        {
          "output_type": "stream",
          "name": "stdout",
          "text": [
            "[CV 2/2] END learning_rate=0.5, max_depth=5, n_estimators=1000;, score=(train=0.999, test=0.910) total time=   3.7s\n"
          ]
        },
        {
          "output_type": "stream",
          "name": "stderr",
          "text": [
            "/usr/local/lib/python3.10/dist-packages/xgboost/core.py:160: UserWarning: [01:25:43] WARNING: /workspace/src/learner.cc:742: \n",
            "Parameters: { \"colsample\" } are not used.\n",
            "\n",
            "  warnings.warn(smsg, UserWarning)\n"
          ]
        },
        {
          "output_type": "stream",
          "name": "stdout",
          "text": [
            "[CV 1/2] END learning_rate=0.5, max_depth=5, n_estimators=2000;, score=(train=1.000, test=0.909) total time=  12.2s\n"
          ]
        },
        {
          "output_type": "stream",
          "name": "stderr",
          "text": [
            "/usr/local/lib/python3.10/dist-packages/xgboost/core.py:160: UserWarning: [01:25:57] WARNING: /workspace/src/learner.cc:742: \n",
            "Parameters: { \"colsample\" } are not used.\n",
            "\n",
            "  warnings.warn(smsg, UserWarning)\n"
          ]
        },
        {
          "output_type": "stream",
          "name": "stdout",
          "text": [
            "[CV 2/2] END learning_rate=0.5, max_depth=5, n_estimators=2000;, score=(train=1.000, test=0.908) total time=   8.2s\n"
          ]
        },
        {
          "output_type": "stream",
          "name": "stderr",
          "text": [
            "/usr/local/lib/python3.10/dist-packages/xgboost/core.py:160: UserWarning: [01:26:07] WARNING: /workspace/src/learner.cc:742: \n",
            "Parameters: { \"colsample\" } are not used.\n",
            "\n",
            "  warnings.warn(smsg, UserWarning)\n"
          ]
        },
        {
          "output_type": "stream",
          "name": "stdout",
          "text": [
            "[CV 1/2] END learning_rate=0.5, max_depth=7, n_estimators=10;, score=(train=0.931, test=0.914) total time=   0.5s\n"
          ]
        },
        {
          "output_type": "stream",
          "name": "stderr",
          "text": [
            "/usr/local/lib/python3.10/dist-packages/xgboost/core.py:160: UserWarning: [01:26:07] WARNING: /workspace/src/learner.cc:742: \n",
            "Parameters: { \"colsample\" } are not used.\n",
            "\n",
            "  warnings.warn(smsg, UserWarning)\n"
          ]
        },
        {
          "output_type": "stream",
          "name": "stdout",
          "text": [
            "[CV 2/2] END learning_rate=0.5, max_depth=7, n_estimators=10;, score=(train=0.931, test=0.913) total time=   0.2s\n"
          ]
        },
        {
          "output_type": "stream",
          "name": "stderr",
          "text": [
            "/usr/local/lib/python3.10/dist-packages/xgboost/core.py:160: UserWarning: [01:26:08] WARNING: /workspace/src/learner.cc:742: \n",
            "Parameters: { \"colsample\" } are not used.\n",
            "\n",
            "  warnings.warn(smsg, UserWarning)\n"
          ]
        },
        {
          "output_type": "stream",
          "name": "stdout",
          "text": [
            "[CV 1/2] END learning_rate=0.5, max_depth=7, n_estimators=200;, score=(train=0.996, test=0.912) total time=   2.8s\n"
          ]
        },
        {
          "output_type": "stream",
          "name": "stderr",
          "text": [
            "/usr/local/lib/python3.10/dist-packages/xgboost/core.py:160: UserWarning: [01:26:11] WARNING: /workspace/src/learner.cc:742: \n",
            "Parameters: { \"colsample\" } are not used.\n",
            "\n",
            "  warnings.warn(smsg, UserWarning)\n"
          ]
        },
        {
          "output_type": "stream",
          "name": "stdout",
          "text": [
            "[CV 2/2] END learning_rate=0.5, max_depth=7, n_estimators=200;, score=(train=0.996, test=0.909) total time=   1.1s\n"
          ]
        },
        {
          "output_type": "stream",
          "name": "stderr",
          "text": [
            "/usr/local/lib/python3.10/dist-packages/xgboost/core.py:160: UserWarning: [01:26:12] WARNING: /workspace/src/learner.cc:742: \n",
            "Parameters: { \"colsample\" } are not used.\n",
            "\n",
            "  warnings.warn(smsg, UserWarning)\n"
          ]
        },
        {
          "output_type": "stream",
          "name": "stdout",
          "text": [
            "[CV 1/2] END learning_rate=0.5, max_depth=7, n_estimators=500;, score=(train=1.000, test=0.910) total time=   2.6s\n"
          ]
        },
        {
          "output_type": "stream",
          "name": "stderr",
          "text": [
            "/usr/local/lib/python3.10/dist-packages/xgboost/core.py:160: UserWarning: [01:26:15] WARNING: /workspace/src/learner.cc:742: \n",
            "Parameters: { \"colsample\" } are not used.\n",
            "\n",
            "  warnings.warn(smsg, UserWarning)\n"
          ]
        },
        {
          "output_type": "stream",
          "name": "stdout",
          "text": [
            "[CV 2/2] END learning_rate=0.5, max_depth=7, n_estimators=500;, score=(train=1.000, test=0.908) total time=   2.6s\n"
          ]
        },
        {
          "output_type": "stream",
          "name": "stderr",
          "text": [
            "/usr/local/lib/python3.10/dist-packages/xgboost/core.py:160: UserWarning: [01:26:18] WARNING: /workspace/src/learner.cc:742: \n",
            "Parameters: { \"colsample\" } are not used.\n",
            "\n",
            "  warnings.warn(smsg, UserWarning)\n"
          ]
        },
        {
          "output_type": "stream",
          "name": "stdout",
          "text": [
            "[CV 1/2] END learning_rate=0.5, max_depth=7, n_estimators=1000;, score=(train=1.000, test=0.909) total time=   9.9s\n"
          ]
        },
        {
          "output_type": "stream",
          "name": "stderr",
          "text": [
            "/usr/local/lib/python3.10/dist-packages/xgboost/core.py:160: UserWarning: [01:26:29] WARNING: /workspace/src/learner.cc:742: \n",
            "Parameters: { \"colsample\" } are not used.\n",
            "\n",
            "  warnings.warn(smsg, UserWarning)\n"
          ]
        },
        {
          "output_type": "stream",
          "name": "stdout",
          "text": [
            "[CV 2/2] END learning_rate=0.5, max_depth=7, n_estimators=1000;, score=(train=1.000, test=0.906) total time=   5.2s\n"
          ]
        },
        {
          "output_type": "stream",
          "name": "stderr",
          "text": [
            "/usr/local/lib/python3.10/dist-packages/xgboost/core.py:160: UserWarning: [01:26:35] WARNING: /workspace/src/learner.cc:742: \n",
            "Parameters: { \"colsample\" } are not used.\n",
            "\n",
            "  warnings.warn(smsg, UserWarning)\n"
          ]
        },
        {
          "output_type": "stream",
          "name": "stdout",
          "text": [
            "[CV 1/2] END learning_rate=0.5, max_depth=7, n_estimators=2000;, score=(train=1.000, test=0.905) total time=  14.9s\n"
          ]
        },
        {
          "output_type": "stream",
          "name": "stderr",
          "text": [
            "/usr/local/lib/python3.10/dist-packages/xgboost/core.py:160: UserWarning: [01:26:52] WARNING: /workspace/src/learner.cc:742: \n",
            "Parameters: { \"colsample\" } are not used.\n",
            "\n",
            "  warnings.warn(smsg, UserWarning)\n"
          ]
        },
        {
          "output_type": "stream",
          "name": "stdout",
          "text": [
            "[CV 2/2] END learning_rate=0.5, max_depth=7, n_estimators=2000;, score=(train=1.000, test=0.904) total time=  15.4s\n"
          ]
        },
        {
          "output_type": "stream",
          "name": "stderr",
          "text": [
            "/usr/local/lib/python3.10/dist-packages/xgboost/core.py:160: UserWarning: [01:27:10] WARNING: /workspace/src/learner.cc:742: \n",
            "Parameters: { \"colsample\" } are not used.\n",
            "\n",
            "  warnings.warn(smsg, UserWarning)\n"
          ]
        },
        {
          "output_type": "stream",
          "name": "stdout",
          "text": [
            "[CV 1/2] END learning_rate=0.5, max_depth=10, n_estimators=10;, score=(train=0.948, test=0.910) total time=   0.7s\n"
          ]
        },
        {
          "output_type": "stream",
          "name": "stderr",
          "text": [
            "/usr/local/lib/python3.10/dist-packages/xgboost/core.py:160: UserWarning: [01:27:11] WARNING: /workspace/src/learner.cc:742: \n",
            "Parameters: { \"colsample\" } are not used.\n",
            "\n",
            "  warnings.warn(smsg, UserWarning)\n"
          ]
        },
        {
          "output_type": "stream",
          "name": "stdout",
          "text": [
            "[CV 2/2] END learning_rate=0.5, max_depth=10, n_estimators=10;, score=(train=0.947, test=0.909) total time=   0.8s\n"
          ]
        },
        {
          "output_type": "stream",
          "name": "stderr",
          "text": [
            "/usr/local/lib/python3.10/dist-packages/xgboost/core.py:160: UserWarning: [01:27:12] WARNING: /workspace/src/learner.cc:742: \n",
            "Parameters: { \"colsample\" } are not used.\n",
            "\n",
            "  warnings.warn(smsg, UserWarning)\n"
          ]
        },
        {
          "output_type": "stream",
          "name": "stdout",
          "text": [
            "[CV 1/2] END learning_rate=0.5, max_depth=10, n_estimators=200;, score=(train=1.000, test=0.908) total time=   3.3s\n"
          ]
        },
        {
          "output_type": "stream",
          "name": "stderr",
          "text": [
            "/usr/local/lib/python3.10/dist-packages/xgboost/core.py:160: UserWarning: [01:27:15] WARNING: /workspace/src/learner.cc:742: \n",
            "Parameters: { \"colsample\" } are not used.\n",
            "\n",
            "  warnings.warn(smsg, UserWarning)\n"
          ]
        },
        {
          "output_type": "stream",
          "name": "stdout",
          "text": [
            "[CV 2/2] END learning_rate=0.5, max_depth=10, n_estimators=200;, score=(train=1.000, test=0.908) total time=   1.6s\n"
          ]
        },
        {
          "output_type": "stream",
          "name": "stderr",
          "text": [
            "/usr/local/lib/python3.10/dist-packages/xgboost/core.py:160: UserWarning: [01:27:17] WARNING: /workspace/src/learner.cc:742: \n",
            "Parameters: { \"colsample\" } are not used.\n",
            "\n",
            "  warnings.warn(smsg, UserWarning)\n"
          ]
        },
        {
          "output_type": "stream",
          "name": "stdout",
          "text": [
            "[CV 1/2] END learning_rate=0.5, max_depth=10, n_estimators=500;, score=(train=1.000, test=0.907) total time=   3.6s\n"
          ]
        },
        {
          "output_type": "stream",
          "name": "stderr",
          "text": [
            "/usr/local/lib/python3.10/dist-packages/xgboost/core.py:160: UserWarning: [01:27:21] WARNING: /workspace/src/learner.cc:742: \n",
            "Parameters: { \"colsample\" } are not used.\n",
            "\n",
            "  warnings.warn(smsg, UserWarning)\n"
          ]
        },
        {
          "output_type": "stream",
          "name": "stdout",
          "text": [
            "[CV 2/2] END learning_rate=0.5, max_depth=10, n_estimators=500;, score=(train=1.000, test=0.905) total time=   5.2s\n"
          ]
        },
        {
          "output_type": "stream",
          "name": "stderr",
          "text": [
            "/usr/local/lib/python3.10/dist-packages/xgboost/core.py:160: UserWarning: [01:27:28] WARNING: /workspace/src/learner.cc:742: \n",
            "Parameters: { \"colsample\" } are not used.\n",
            "\n",
            "  warnings.warn(smsg, UserWarning)\n"
          ]
        },
        {
          "output_type": "stream",
          "name": "stdout",
          "text": [
            "[CV 1/2] END learning_rate=0.5, max_depth=10, n_estimators=1000;, score=(train=1.000, test=0.905) total time=   8.6s\n"
          ]
        },
        {
          "output_type": "stream",
          "name": "stderr",
          "text": [
            "/usr/local/lib/python3.10/dist-packages/xgboost/core.py:160: UserWarning: [01:27:38] WARNING: /workspace/src/learner.cc:742: \n",
            "Parameters: { \"colsample\" } are not used.\n",
            "\n",
            "  warnings.warn(smsg, UserWarning)\n"
          ]
        },
        {
          "output_type": "stream",
          "name": "stdout",
          "text": [
            "[CV 2/2] END learning_rate=0.5, max_depth=10, n_estimators=1000;, score=(train=1.000, test=0.903) total time=  11.3s\n"
          ]
        },
        {
          "output_type": "stream",
          "name": "stderr",
          "text": [
            "/usr/local/lib/python3.10/dist-packages/xgboost/core.py:160: UserWarning: [01:27:50] WARNING: /workspace/src/learner.cc:742: \n",
            "Parameters: { \"colsample\" } are not used.\n",
            "\n",
            "  warnings.warn(smsg, UserWarning)\n"
          ]
        },
        {
          "output_type": "stream",
          "name": "stdout",
          "text": [
            "[CV 1/2] END learning_rate=0.5, max_depth=10, n_estimators=2000;, score=(train=1.000, test=0.902) total time=  16.8s\n"
          ]
        },
        {
          "output_type": "stream",
          "name": "stderr",
          "text": [
            "/usr/local/lib/python3.10/dist-packages/xgboost/core.py:160: UserWarning: [01:28:10] WARNING: /workspace/src/learner.cc:742: \n",
            "Parameters: { \"colsample\" } are not used.\n",
            "\n",
            "  warnings.warn(smsg, UserWarning)\n"
          ]
        },
        {
          "output_type": "stream",
          "name": "stdout",
          "text": [
            "[CV 2/2] END learning_rate=0.5, max_depth=10, n_estimators=2000;, score=(train=1.000, test=0.900) total time=  16.8s\n"
          ]
        },
        {
          "output_type": "stream",
          "name": "stderr",
          "text": [
            "/usr/local/lib/python3.10/dist-packages/xgboost/core.py:160: UserWarning: [01:28:31] WARNING: /workspace/src/learner.cc:742: \n",
            "Parameters: { \"colsample\" } are not used.\n",
            "\n",
            "  warnings.warn(smsg, UserWarning)\n"
          ]
        },
        {
          "output_type": "stream",
          "name": "stdout",
          "text": [
            "[CV 1/2] END learning_rate=1, max_depth=2, n_estimators=10;, score=(train=0.913, test=0.910) total time=   0.3s\n"
          ]
        },
        {
          "output_type": "stream",
          "name": "stderr",
          "text": [
            "/usr/local/lib/python3.10/dist-packages/xgboost/core.py:160: UserWarning: [01:28:31] WARNING: /workspace/src/learner.cc:742: \n",
            "Parameters: { \"colsample\" } are not used.\n",
            "\n",
            "  warnings.warn(smsg, UserWarning)\n"
          ]
        },
        {
          "output_type": "stream",
          "name": "stdout",
          "text": [
            "[CV 2/2] END learning_rate=1, max_depth=2, n_estimators=10;, score=(train=0.913, test=0.911) total time=   0.2s\n"
          ]
        },
        {
          "output_type": "stream",
          "name": "stderr",
          "text": [
            "/usr/local/lib/python3.10/dist-packages/xgboost/core.py:160: UserWarning: [01:28:31] WARNING: /workspace/src/learner.cc:742: \n",
            "Parameters: { \"colsample\" } are not used.\n",
            "\n",
            "  warnings.warn(smsg, UserWarning)\n"
          ]
        },
        {
          "output_type": "stream",
          "name": "stdout",
          "text": [
            "[CV 1/2] END learning_rate=1, max_depth=2, n_estimators=200;, score=(train=0.933, test=0.914) total time=   1.6s\n"
          ]
        },
        {
          "output_type": "stream",
          "name": "stderr",
          "text": [
            "/usr/local/lib/python3.10/dist-packages/xgboost/core.py:160: UserWarning: [01:28:33] WARNING: /workspace/src/learner.cc:742: \n",
            "Parameters: { \"colsample\" } are not used.\n",
            "\n",
            "  warnings.warn(smsg, UserWarning)\n"
          ]
        },
        {
          "output_type": "stream",
          "name": "stdout",
          "text": [
            "[CV 2/2] END learning_rate=1, max_depth=2, n_estimators=200;, score=(train=0.932, test=0.912) total time=   1.7s\n"
          ]
        },
        {
          "output_type": "stream",
          "name": "stderr",
          "text": [
            "/usr/local/lib/python3.10/dist-packages/xgboost/core.py:160: UserWarning: [01:28:35] WARNING: /workspace/src/learner.cc:742: \n",
            "Parameters: { \"colsample\" } are not used.\n",
            "\n",
            "  warnings.warn(smsg, UserWarning)\n"
          ]
        },
        {
          "output_type": "stream",
          "name": "stdout",
          "text": [
            "[CV 1/2] END learning_rate=1, max_depth=2, n_estimators=500;, score=(train=0.941, test=0.914) total time=   1.0s\n"
          ]
        },
        {
          "output_type": "stream",
          "name": "stderr",
          "text": [
            "/usr/local/lib/python3.10/dist-packages/xgboost/core.py:160: UserWarning: [01:28:36] WARNING: /workspace/src/learner.cc:742: \n",
            "Parameters: { \"colsample\" } are not used.\n",
            "\n",
            "  warnings.warn(smsg, UserWarning)\n"
          ]
        },
        {
          "output_type": "stream",
          "name": "stdout",
          "text": [
            "[CV 2/2] END learning_rate=1, max_depth=2, n_estimators=500;, score=(train=0.939, test=0.911) total time=   1.0s\n"
          ]
        },
        {
          "output_type": "stream",
          "name": "stderr",
          "text": [
            "/usr/local/lib/python3.10/dist-packages/xgboost/core.py:160: UserWarning: [01:28:37] WARNING: /workspace/src/learner.cc:742: \n",
            "Parameters: { \"colsample\" } are not used.\n",
            "\n",
            "  warnings.warn(smsg, UserWarning)\n"
          ]
        },
        {
          "output_type": "stream",
          "name": "stdout",
          "text": [
            "[CV 1/2] END learning_rate=1, max_depth=2, n_estimators=1000;, score=(train=0.948, test=0.913) total time=   2.0s\n"
          ]
        },
        {
          "output_type": "stream",
          "name": "stderr",
          "text": [
            "/usr/local/lib/python3.10/dist-packages/xgboost/core.py:160: UserWarning: [01:28:39] WARNING: /workspace/src/learner.cc:742: \n",
            "Parameters: { \"colsample\" } are not used.\n",
            "\n",
            "  warnings.warn(smsg, UserWarning)\n"
          ]
        },
        {
          "output_type": "stream",
          "name": "stdout",
          "text": [
            "[CV 2/2] END learning_rate=1, max_depth=2, n_estimators=1000;, score=(train=0.948, test=0.910) total time=   2.9s\n"
          ]
        },
        {
          "output_type": "stream",
          "name": "stderr",
          "text": [
            "/usr/local/lib/python3.10/dist-packages/xgboost/core.py:160: UserWarning: [01:28:42] WARNING: /workspace/src/learner.cc:742: \n",
            "Parameters: { \"colsample\" } are not used.\n",
            "\n",
            "  warnings.warn(smsg, UserWarning)\n"
          ]
        },
        {
          "output_type": "stream",
          "name": "stdout",
          "text": [
            "[CV 1/2] END learning_rate=1, max_depth=2, n_estimators=2000;, score=(train=0.957, test=0.911) total time=   9.1s\n"
          ]
        },
        {
          "output_type": "stream",
          "name": "stderr",
          "text": [
            "/usr/local/lib/python3.10/dist-packages/xgboost/core.py:160: UserWarning: [01:28:52] WARNING: /workspace/src/learner.cc:742: \n",
            "Parameters: { \"colsample\" } are not used.\n",
            "\n",
            "  warnings.warn(smsg, UserWarning)\n"
          ]
        },
        {
          "output_type": "stream",
          "name": "stdout",
          "text": [
            "[CV 2/2] END learning_rate=1, max_depth=2, n_estimators=2000;, score=(train=0.957, test=0.908) total time=   3.9s\n",
            "[CV 1/2] END learning_rate=1, max_depth=5, n_estimators=10;, score=(train=0.923, test=0.907) total time=   0.1s\n"
          ]
        },
        {
          "output_type": "stream",
          "name": "stderr",
          "text": [
            "/usr/local/lib/python3.10/dist-packages/xgboost/core.py:160: UserWarning: [01:28:56] WARNING: /workspace/src/learner.cc:742: \n",
            "Parameters: { \"colsample\" } are not used.\n",
            "\n",
            "  warnings.warn(smsg, UserWarning)\n",
            "/usr/local/lib/python3.10/dist-packages/xgboost/core.py:160: UserWarning: [01:28:56] WARNING: /workspace/src/learner.cc:742: \n",
            "Parameters: { \"colsample\" } are not used.\n",
            "\n",
            "  warnings.warn(smsg, UserWarning)\n"
          ]
        },
        {
          "output_type": "stream",
          "name": "stdout",
          "text": [
            "[CV 2/2] END learning_rate=1, max_depth=5, n_estimators=10;, score=(train=0.925, test=0.909) total time=   0.1s\n"
          ]
        },
        {
          "output_type": "stream",
          "name": "stderr",
          "text": [
            "/usr/local/lib/python3.10/dist-packages/xgboost/core.py:160: UserWarning: [01:28:56] WARNING: /workspace/src/learner.cc:742: \n",
            "Parameters: { \"colsample\" } are not used.\n",
            "\n",
            "  warnings.warn(smsg, UserWarning)\n"
          ]
        },
        {
          "output_type": "stream",
          "name": "stdout",
          "text": [
            "[CV 1/2] END learning_rate=1, max_depth=5, n_estimators=200;, score=(train=0.975, test=0.905) total time=   0.8s\n"
          ]
        },
        {
          "output_type": "stream",
          "name": "stderr",
          "text": [
            "/usr/local/lib/python3.10/dist-packages/xgboost/core.py:160: UserWarning: [01:28:57] WARNING: /workspace/src/learner.cc:742: \n",
            "Parameters: { \"colsample\" } are not used.\n",
            "\n",
            "  warnings.warn(smsg, UserWarning)\n"
          ]
        },
        {
          "output_type": "stream",
          "name": "stdout",
          "text": [
            "[CV 2/2] END learning_rate=1, max_depth=5, n_estimators=200;, score=(train=0.974, test=0.905) total time=   0.8s\n"
          ]
        },
        {
          "output_type": "stream",
          "name": "stderr",
          "text": [
            "/usr/local/lib/python3.10/dist-packages/xgboost/core.py:160: UserWarning: [01:28:58] WARNING: /workspace/src/learner.cc:742: \n",
            "Parameters: { \"colsample\" } are not used.\n",
            "\n",
            "  warnings.warn(smsg, UserWarning)\n"
          ]
        },
        {
          "output_type": "stream",
          "name": "stdout",
          "text": [
            "[CV 1/2] END learning_rate=1, max_depth=5, n_estimators=500;, score=(train=0.993, test=0.904) total time=   1.9s\n"
          ]
        },
        {
          "output_type": "stream",
          "name": "stderr",
          "text": [
            "/usr/local/lib/python3.10/dist-packages/xgboost/core.py:160: UserWarning: [01:29:00] WARNING: /workspace/src/learner.cc:742: \n",
            "Parameters: { \"colsample\" } are not used.\n",
            "\n",
            "  warnings.warn(smsg, UserWarning)\n"
          ]
        },
        {
          "output_type": "stream",
          "name": "stdout",
          "text": [
            "[CV 2/2] END learning_rate=1, max_depth=5, n_estimators=500;, score=(train=0.994, test=0.901) total time=   6.6s\n"
          ]
        },
        {
          "output_type": "stream",
          "name": "stderr",
          "text": [
            "/usr/local/lib/python3.10/dist-packages/xgboost/core.py:160: UserWarning: [01:29:07] WARNING: /workspace/src/learner.cc:742: \n",
            "Parameters: { \"colsample\" } are not used.\n",
            "\n",
            "  warnings.warn(smsg, UserWarning)\n"
          ]
        },
        {
          "output_type": "stream",
          "name": "stdout",
          "text": [
            "[CV 1/2] END learning_rate=1, max_depth=5, n_estimators=1000;, score=(train=1.000, test=0.899) total time=   3.8s\n"
          ]
        },
        {
          "output_type": "stream",
          "name": "stderr",
          "text": [
            "/usr/local/lib/python3.10/dist-packages/xgboost/core.py:160: UserWarning: [01:29:12] WARNING: /workspace/src/learner.cc:742: \n",
            "Parameters: { \"colsample\" } are not used.\n",
            "\n",
            "  warnings.warn(smsg, UserWarning)\n"
          ]
        },
        {
          "output_type": "stream",
          "name": "stdout",
          "text": [
            "[CV 2/2] END learning_rate=1, max_depth=5, n_estimators=1000;, score=(train=1.000, test=0.904) total time=   3.8s\n"
          ]
        },
        {
          "output_type": "stream",
          "name": "stderr",
          "text": [
            "/usr/local/lib/python3.10/dist-packages/xgboost/core.py:160: UserWarning: [01:29:16] WARNING: /workspace/src/learner.cc:742: \n",
            "Parameters: { \"colsample\" } are not used.\n",
            "\n",
            "  warnings.warn(smsg, UserWarning)\n"
          ]
        },
        {
          "output_type": "stream",
          "name": "stdout",
          "text": [
            "[CV 1/2] END learning_rate=1, max_depth=5, n_estimators=2000;, score=(train=1.000, test=0.898) total time=  12.1s\n"
          ]
        },
        {
          "output_type": "stream",
          "name": "stderr",
          "text": [
            "/usr/local/lib/python3.10/dist-packages/xgboost/core.py:160: UserWarning: [01:29:29] WARNING: /workspace/src/learner.cc:742: \n",
            "Parameters: { \"colsample\" } are not used.\n",
            "\n",
            "  warnings.warn(smsg, UserWarning)\n"
          ]
        },
        {
          "output_type": "stream",
          "name": "stdout",
          "text": [
            "[CV 2/2] END learning_rate=1, max_depth=5, n_estimators=2000;, score=(train=1.000, test=0.900) total time=  12.2s\n",
            "[CV 1/2] END learning_rate=1, max_depth=7, n_estimators=10;, score=(train=0.934, test=0.906) total time=   0.1s\n"
          ]
        },
        {
          "output_type": "stream",
          "name": "stderr",
          "text": [
            "/usr/local/lib/python3.10/dist-packages/xgboost/core.py:160: UserWarning: [01:29:43] WARNING: /workspace/src/learner.cc:742: \n",
            "Parameters: { \"colsample\" } are not used.\n",
            "\n",
            "  warnings.warn(smsg, UserWarning)\n",
            "/usr/local/lib/python3.10/dist-packages/xgboost/core.py:160: UserWarning: [01:29:43] WARNING: /workspace/src/learner.cc:742: \n",
            "Parameters: { \"colsample\" } are not used.\n",
            "\n",
            "  warnings.warn(smsg, UserWarning)\n"
          ]
        },
        {
          "output_type": "stream",
          "name": "stdout",
          "text": [
            "[CV 2/2] END learning_rate=1, max_depth=7, n_estimators=10;, score=(train=0.933, test=0.907) total time=   0.1s\n"
          ]
        },
        {
          "output_type": "stream",
          "name": "stderr",
          "text": [
            "/usr/local/lib/python3.10/dist-packages/xgboost/core.py:160: UserWarning: [01:29:43] WARNING: /workspace/src/learner.cc:742: \n",
            "Parameters: { \"colsample\" } are not used.\n",
            "\n",
            "  warnings.warn(smsg, UserWarning)\n"
          ]
        },
        {
          "output_type": "stream",
          "name": "stdout",
          "text": [
            "[CV 1/2] END learning_rate=1, max_depth=7, n_estimators=200;, score=(train=0.997, test=0.900) total time=   1.2s\n"
          ]
        },
        {
          "output_type": "stream",
          "name": "stderr",
          "text": [
            "/usr/local/lib/python3.10/dist-packages/xgboost/core.py:160: UserWarning: [01:29:44] WARNING: /workspace/src/learner.cc:742: \n",
            "Parameters: { \"colsample\" } are not used.\n",
            "\n",
            "  warnings.warn(smsg, UserWarning)\n"
          ]
        },
        {
          "output_type": "stream",
          "name": "stdout",
          "text": [
            "[CV 2/2] END learning_rate=1, max_depth=7, n_estimators=200;, score=(train=0.998, test=0.896) total time=   1.2s\n"
          ]
        },
        {
          "output_type": "stream",
          "name": "stderr",
          "text": [
            "/usr/local/lib/python3.10/dist-packages/xgboost/core.py:160: UserWarning: [01:29:46] WARNING: /workspace/src/learner.cc:742: \n",
            "Parameters: { \"colsample\" } are not used.\n",
            "\n",
            "  warnings.warn(smsg, UserWarning)\n"
          ]
        },
        {
          "output_type": "stream",
          "name": "stdout",
          "text": [
            "[CV 1/2] END learning_rate=1, max_depth=7, n_estimators=500;, score=(train=1.000, test=0.898) total time=   5.7s\n"
          ]
        },
        {
          "output_type": "stream",
          "name": "stderr",
          "text": [
            "/usr/local/lib/python3.10/dist-packages/xgboost/core.py:160: UserWarning: [01:29:52] WARNING: /workspace/src/learner.cc:742: \n",
            "Parameters: { \"colsample\" } are not used.\n",
            "\n",
            "  warnings.warn(smsg, UserWarning)\n"
          ]
        },
        {
          "output_type": "stream",
          "name": "stdout",
          "text": [
            "[CV 2/2] END learning_rate=1, max_depth=7, n_estimators=500;, score=(train=1.000, test=0.896) total time=   3.7s\n"
          ]
        },
        {
          "output_type": "stream",
          "name": "stderr",
          "text": [
            "/usr/local/lib/python3.10/dist-packages/xgboost/core.py:160: UserWarning: [01:29:56] WARNING: /workspace/src/learner.cc:742: \n",
            "Parameters: { \"colsample\" } are not used.\n",
            "\n",
            "  warnings.warn(smsg, UserWarning)\n"
          ]
        },
        {
          "output_type": "stream",
          "name": "stdout",
          "text": [
            "[CV 1/2] END learning_rate=1, max_depth=7, n_estimators=1000;, score=(train=1.000, test=0.898) total time=   5.1s\n"
          ]
        },
        {
          "output_type": "stream",
          "name": "stderr",
          "text": [
            "/usr/local/lib/python3.10/dist-packages/xgboost/core.py:160: UserWarning: [01:30:02] WARNING: /workspace/src/learner.cc:742: \n",
            "Parameters: { \"colsample\" } are not used.\n",
            "\n",
            "  warnings.warn(smsg, UserWarning)\n"
          ]
        },
        {
          "output_type": "stream",
          "name": "stdout",
          "text": [
            "[CV 2/2] END learning_rate=1, max_depth=7, n_estimators=1000;, score=(train=1.000, test=0.891) total time=   9.8s\n"
          ]
        },
        {
          "output_type": "stream",
          "name": "stderr",
          "text": [
            "/usr/local/lib/python3.10/dist-packages/xgboost/core.py:160: UserWarning: [01:30:13] WARNING: /workspace/src/learner.cc:742: \n",
            "Parameters: { \"colsample\" } are not used.\n",
            "\n",
            "  warnings.warn(smsg, UserWarning)\n"
          ]
        },
        {
          "output_type": "stream",
          "name": "stdout",
          "text": [
            "[CV 1/2] END learning_rate=1, max_depth=7, n_estimators=2000;, score=(train=1.000, test=0.894) total time=  14.1s\n"
          ]
        },
        {
          "output_type": "stream",
          "name": "stderr",
          "text": [
            "/usr/local/lib/python3.10/dist-packages/xgboost/core.py:160: UserWarning: [01:30:29] WARNING: /workspace/src/learner.cc:742: \n",
            "Parameters: { \"colsample\" } are not used.\n",
            "\n",
            "  warnings.warn(smsg, UserWarning)\n"
          ]
        },
        {
          "output_type": "stream",
          "name": "stdout",
          "text": [
            "[CV 2/2] END learning_rate=1, max_depth=7, n_estimators=2000;, score=(train=1.000, test=0.890) total time=  14.4s\n",
            "[CV 1/2] END learning_rate=1, max_depth=10, n_estimators=10;, score=(train=0.954, test=0.905) total time=   0.2s\n"
          ]
        },
        {
          "output_type": "stream",
          "name": "stderr",
          "text": [
            "/usr/local/lib/python3.10/dist-packages/xgboost/core.py:160: UserWarning: [01:30:45] WARNING: /workspace/src/learner.cc:742: \n",
            "Parameters: { \"colsample\" } are not used.\n",
            "\n",
            "  warnings.warn(smsg, UserWarning)\n",
            "/usr/local/lib/python3.10/dist-packages/xgboost/core.py:160: UserWarning: [01:30:46] WARNING: /workspace/src/learner.cc:742: \n",
            "Parameters: { \"colsample\" } are not used.\n",
            "\n",
            "  warnings.warn(smsg, UserWarning)\n"
          ]
        },
        {
          "output_type": "stream",
          "name": "stdout",
          "text": [
            "[CV 2/2] END learning_rate=1, max_depth=10, n_estimators=10;, score=(train=0.950, test=0.906) total time=   0.1s\n"
          ]
        },
        {
          "output_type": "stream",
          "name": "stderr",
          "text": [
            "/usr/local/lib/python3.10/dist-packages/xgboost/core.py:160: UserWarning: [01:30:46] WARNING: /workspace/src/learner.cc:742: \n",
            "Parameters: { \"colsample\" } are not used.\n",
            "\n",
            "  warnings.warn(smsg, UserWarning)\n"
          ]
        },
        {
          "output_type": "stream",
          "name": "stdout",
          "text": [
            "[CV 1/2] END learning_rate=1, max_depth=10, n_estimators=200;, score=(train=1.000, test=0.899) total time=   1.6s\n"
          ]
        },
        {
          "output_type": "stream",
          "name": "stderr",
          "text": [
            "/usr/local/lib/python3.10/dist-packages/xgboost/core.py:160: UserWarning: [01:30:48] WARNING: /workspace/src/learner.cc:742: \n",
            "Parameters: { \"colsample\" } are not used.\n",
            "\n",
            "  warnings.warn(smsg, UserWarning)\n"
          ]
        },
        {
          "output_type": "stream",
          "name": "stdout",
          "text": [
            "[CV 2/2] END learning_rate=1, max_depth=10, n_estimators=200;, score=(train=1.000, test=0.898) total time=   1.6s\n"
          ]
        },
        {
          "output_type": "stream",
          "name": "stderr",
          "text": [
            "/usr/local/lib/python3.10/dist-packages/xgboost/core.py:160: UserWarning: [01:30:49] WARNING: /workspace/src/learner.cc:742: \n",
            "Parameters: { \"colsample\" } are not used.\n",
            "\n",
            "  warnings.warn(smsg, UserWarning)\n"
          ]
        },
        {
          "output_type": "stream",
          "name": "stdout",
          "text": [
            "[CV 1/2] END learning_rate=1, max_depth=10, n_estimators=500;, score=(train=1.000, test=0.897) total time=   8.0s\n"
          ]
        },
        {
          "output_type": "stream",
          "name": "stderr",
          "text": [
            "/usr/local/lib/python3.10/dist-packages/xgboost/core.py:160: UserWarning: [01:30:58] WARNING: /workspace/src/learner.cc:742: \n",
            "Parameters: { \"colsample\" } are not used.\n",
            "\n",
            "  warnings.warn(smsg, UserWarning)\n"
          ]
        },
        {
          "output_type": "stream",
          "name": "stdout",
          "text": [
            "[CV 2/2] END learning_rate=1, max_depth=10, n_estimators=500;, score=(train=1.000, test=0.897) total time=   3.5s\n"
          ]
        },
        {
          "output_type": "stream",
          "name": "stderr",
          "text": [
            "/usr/local/lib/python3.10/dist-packages/xgboost/core.py:160: UserWarning: [01:31:02] WARNING: /workspace/src/learner.cc:742: \n",
            "Parameters: { \"colsample\" } are not used.\n",
            "\n",
            "  warnings.warn(smsg, UserWarning)\n"
          ]
        },
        {
          "output_type": "stream",
          "name": "stdout",
          "text": [
            "[CV 1/2] END learning_rate=1, max_depth=10, n_estimators=1000;, score=(train=1.000, test=0.896) total time=   9.9s\n"
          ]
        },
        {
          "output_type": "stream",
          "name": "stderr",
          "text": [
            "/usr/local/lib/python3.10/dist-packages/xgboost/core.py:160: UserWarning: [01:31:14] WARNING: /workspace/src/learner.cc:742: \n",
            "Parameters: { \"colsample\" } are not used.\n",
            "\n",
            "  warnings.warn(smsg, UserWarning)\n"
          ]
        },
        {
          "output_type": "stream",
          "name": "stdout",
          "text": [
            "[CV 2/2] END learning_rate=1, max_depth=10, n_estimators=1000;, score=(train=1.000, test=0.894) total time=   6.2s\n"
          ]
        },
        {
          "output_type": "stream",
          "name": "stderr",
          "text": [
            "/usr/local/lib/python3.10/dist-packages/xgboost/core.py:160: UserWarning: [01:31:21] WARNING: /workspace/src/learner.cc:742: \n",
            "Parameters: { \"colsample\" } are not used.\n",
            "\n",
            "  warnings.warn(smsg, UserWarning)\n"
          ]
        },
        {
          "output_type": "stream",
          "name": "stdout",
          "text": [
            "[CV 1/2] END learning_rate=1, max_depth=10, n_estimators=2000;, score=(train=1.000, test=0.894) total time=  15.5s\n"
          ]
        },
        {
          "output_type": "stream",
          "name": "stderr",
          "text": [
            "/usr/local/lib/python3.10/dist-packages/xgboost/core.py:160: UserWarning: [01:31:39] WARNING: /workspace/src/learner.cc:742: \n",
            "Parameters: { \"colsample\" } are not used.\n",
            "\n",
            "  warnings.warn(smsg, UserWarning)\n"
          ]
        },
        {
          "output_type": "stream",
          "name": "stdout",
          "text": [
            "[CV 2/2] END learning_rate=1, max_depth=10, n_estimators=2000;, score=(train=1.000, test=0.893) total time=  15.4s\n"
          ]
        },
        {
          "output_type": "stream",
          "name": "stderr",
          "text": [
            "/usr/local/lib/python3.10/dist-packages/xgboost/core.py:160: UserWarning: [01:31:59] WARNING: /workspace/src/learner.cc:742: \n",
            "Parameters: { \"colsample\" } are not used.\n",
            "\n",
            "  warnings.warn(smsg, UserWarning)\n"
          ]
        },
        {
          "output_type": "execute_result",
          "data": {
            "text/plain": [
              "GridSearchCV(cv=2,\n",
              "             estimator=XGBClassifier(base_score=None, booster=None,\n",
              "                                     callbacks=None, colsample=0.25,\n",
              "                                     colsample_bylevel=None,\n",
              "                                     colsample_bynode=None,\n",
              "                                     colsample_bytree=None, device=None,\n",
              "                                     early_stopping_rounds=None,\n",
              "                                     enable_categorical=False,\n",
              "                                     eval_metric='auc', feature_types=None,\n",
              "                                     gamma=None, grow_policy=None,\n",
              "                                     importance_type=None,\n",
              "                                     interaction_constraints=None,\n",
              "                                     lea...\n",
              "                                     max_leaves=None, min_child_weight=None,\n",
              "                                     missing=nan, monotone_constraints=None,\n",
              "                                     multi_strategy=None, n_estimators=None,\n",
              "                                     n_jobs=None, num_parallel_tree=None, ...),\n",
              "             param_grid={'learning_rate': [0.01, 0.02, 0.05, 0.1, 0.5, 1],\n",
              "                         'max_depth': [2, 5, 7, 10],\n",
              "                         'n_estimators': [10, 200, 500, 1000, 2000]},\n",
              "             return_train_score=True,\n",
              "             scoring=<function my_roc_auc_score at 0x7e6539bd2e60>, verbose=4)"
            ],
            "text/html": [
              "<style>#sk-container-id-4 {color: black;background-color: white;}#sk-container-id-4 pre{padding: 0;}#sk-container-id-4 div.sk-toggleable {background-color: white;}#sk-container-id-4 label.sk-toggleable__label {cursor: pointer;display: block;width: 100%;margin-bottom: 0;padding: 0.3em;box-sizing: border-box;text-align: center;}#sk-container-id-4 label.sk-toggleable__label-arrow:before {content: \"▸\";float: left;margin-right: 0.25em;color: #696969;}#sk-container-id-4 label.sk-toggleable__label-arrow:hover:before {color: black;}#sk-container-id-4 div.sk-estimator:hover label.sk-toggleable__label-arrow:before {color: black;}#sk-container-id-4 div.sk-toggleable__content {max-height: 0;max-width: 0;overflow: hidden;text-align: left;background-color: #f0f8ff;}#sk-container-id-4 div.sk-toggleable__content pre {margin: 0.2em;color: black;border-radius: 0.25em;background-color: #f0f8ff;}#sk-container-id-4 input.sk-toggleable__control:checked~div.sk-toggleable__content {max-height: 200px;max-width: 100%;overflow: auto;}#sk-container-id-4 input.sk-toggleable__control:checked~label.sk-toggleable__label-arrow:before {content: \"▾\";}#sk-container-id-4 div.sk-estimator input.sk-toggleable__control:checked~label.sk-toggleable__label {background-color: #d4ebff;}#sk-container-id-4 div.sk-label input.sk-toggleable__control:checked~label.sk-toggleable__label {background-color: #d4ebff;}#sk-container-id-4 input.sk-hidden--visually {border: 0;clip: rect(1px 1px 1px 1px);clip: rect(1px, 1px, 1px, 1px);height: 1px;margin: -1px;overflow: hidden;padding: 0;position: absolute;width: 1px;}#sk-container-id-4 div.sk-estimator {font-family: monospace;background-color: #f0f8ff;border: 1px dotted black;border-radius: 0.25em;box-sizing: border-box;margin-bottom: 0.5em;}#sk-container-id-4 div.sk-estimator:hover {background-color: #d4ebff;}#sk-container-id-4 div.sk-parallel-item::after {content: \"\";width: 100%;border-bottom: 1px solid gray;flex-grow: 1;}#sk-container-id-4 div.sk-label:hover label.sk-toggleable__label {background-color: #d4ebff;}#sk-container-id-4 div.sk-serial::before {content: \"\";position: absolute;border-left: 1px solid gray;box-sizing: border-box;top: 0;bottom: 0;left: 50%;z-index: 0;}#sk-container-id-4 div.sk-serial {display: flex;flex-direction: column;align-items: center;background-color: white;padding-right: 0.2em;padding-left: 0.2em;position: relative;}#sk-container-id-4 div.sk-item {position: relative;z-index: 1;}#sk-container-id-4 div.sk-parallel {display: flex;align-items: stretch;justify-content: center;background-color: white;position: relative;}#sk-container-id-4 div.sk-item::before, #sk-container-id-4 div.sk-parallel-item::before {content: \"\";position: absolute;border-left: 1px solid gray;box-sizing: border-box;top: 0;bottom: 0;left: 50%;z-index: -1;}#sk-container-id-4 div.sk-parallel-item {display: flex;flex-direction: column;z-index: 1;position: relative;background-color: white;}#sk-container-id-4 div.sk-parallel-item:first-child::after {align-self: flex-end;width: 50%;}#sk-container-id-4 div.sk-parallel-item:last-child::after {align-self: flex-start;width: 50%;}#sk-container-id-4 div.sk-parallel-item:only-child::after {width: 0;}#sk-container-id-4 div.sk-dashed-wrapped {border: 1px dashed gray;margin: 0 0.4em 0.5em 0.4em;box-sizing: border-box;padding-bottom: 0.4em;background-color: white;}#sk-container-id-4 div.sk-label label {font-family: monospace;font-weight: bold;display: inline-block;line-height: 1.2em;}#sk-container-id-4 div.sk-label-container {text-align: center;}#sk-container-id-4 div.sk-container {/* jupyter's `normalize.less` sets `[hidden] { display: none; }` but bootstrap.min.css set `[hidden] { display: none !important; }` so we also need the `!important` here to be able to override the default hidden behavior on the sphinx rendered scikit-learn.org. See: https://github.com/scikit-learn/scikit-learn/issues/21755 */display: inline-block !important;position: relative;}#sk-container-id-4 div.sk-text-repr-fallback {display: none;}</style><div id=\"sk-container-id-4\" class=\"sk-top-container\"><div class=\"sk-text-repr-fallback\"><pre>GridSearchCV(cv=2,\n",
              "             estimator=XGBClassifier(base_score=None, booster=None,\n",
              "                                     callbacks=None, colsample=0.25,\n",
              "                                     colsample_bylevel=None,\n",
              "                                     colsample_bynode=None,\n",
              "                                     colsample_bytree=None, device=None,\n",
              "                                     early_stopping_rounds=None,\n",
              "                                     enable_categorical=False,\n",
              "                                     eval_metric=&#x27;auc&#x27;, feature_types=None,\n",
              "                                     gamma=None, grow_policy=None,\n",
              "                                     importance_type=None,\n",
              "                                     interaction_constraints=None,\n",
              "                                     lea...\n",
              "                                     max_leaves=None, min_child_weight=None,\n",
              "                                     missing=nan, monotone_constraints=None,\n",
              "                                     multi_strategy=None, n_estimators=None,\n",
              "                                     n_jobs=None, num_parallel_tree=None, ...),\n",
              "             param_grid={&#x27;learning_rate&#x27;: [0.01, 0.02, 0.05, 0.1, 0.5, 1],\n",
              "                         &#x27;max_depth&#x27;: [2, 5, 7, 10],\n",
              "                         &#x27;n_estimators&#x27;: [10, 200, 500, 1000, 2000]},\n",
              "             return_train_score=True,\n",
              "             scoring=&lt;function my_roc_auc_score at 0x7e6539bd2e60&gt;, verbose=4)</pre><b>In a Jupyter environment, please rerun this cell to show the HTML representation or trust the notebook. <br />On GitHub, the HTML representation is unable to render, please try loading this page with nbviewer.org.</b></div><div class=\"sk-container\" hidden><div class=\"sk-item sk-dashed-wrapped\"><div class=\"sk-label-container\"><div class=\"sk-label sk-toggleable\"><input class=\"sk-toggleable__control sk-hidden--visually\" id=\"sk-estimator-id-4\" type=\"checkbox\" ><label for=\"sk-estimator-id-4\" class=\"sk-toggleable__label sk-toggleable__label-arrow\">GridSearchCV</label><div class=\"sk-toggleable__content\"><pre>GridSearchCV(cv=2,\n",
              "             estimator=XGBClassifier(base_score=None, booster=None,\n",
              "                                     callbacks=None, colsample=0.25,\n",
              "                                     colsample_bylevel=None,\n",
              "                                     colsample_bynode=None,\n",
              "                                     colsample_bytree=None, device=None,\n",
              "                                     early_stopping_rounds=None,\n",
              "                                     enable_categorical=False,\n",
              "                                     eval_metric=&#x27;auc&#x27;, feature_types=None,\n",
              "                                     gamma=None, grow_policy=None,\n",
              "                                     importance_type=None,\n",
              "                                     interaction_constraints=None,\n",
              "                                     lea...\n",
              "                                     max_leaves=None, min_child_weight=None,\n",
              "                                     missing=nan, monotone_constraints=None,\n",
              "                                     multi_strategy=None, n_estimators=None,\n",
              "                                     n_jobs=None, num_parallel_tree=None, ...),\n",
              "             param_grid={&#x27;learning_rate&#x27;: [0.01, 0.02, 0.05, 0.1, 0.5, 1],\n",
              "                         &#x27;max_depth&#x27;: [2, 5, 7, 10],\n",
              "                         &#x27;n_estimators&#x27;: [10, 200, 500, 1000, 2000]},\n",
              "             return_train_score=True,\n",
              "             scoring=&lt;function my_roc_auc_score at 0x7e6539bd2e60&gt;, verbose=4)</pre></div></div></div><div class=\"sk-parallel\"><div class=\"sk-parallel-item\"><div class=\"sk-item\"><div class=\"sk-label-container\"><div class=\"sk-label sk-toggleable\"><input class=\"sk-toggleable__control sk-hidden--visually\" id=\"sk-estimator-id-5\" type=\"checkbox\" ><label for=\"sk-estimator-id-5\" class=\"sk-toggleable__label sk-toggleable__label-arrow\">estimator: XGBClassifier</label><div class=\"sk-toggleable__content\"><pre>XGBClassifier(base_score=None, booster=None, callbacks=None, colsample=0.25,\n",
              "              colsample_bylevel=None, colsample_bynode=None,\n",
              "              colsample_bytree=None, device=None, early_stopping_rounds=None,\n",
              "              enable_categorical=False, eval_metric=&#x27;auc&#x27;, feature_types=None,\n",
              "              gamma=None, grow_policy=None, importance_type=None,\n",
              "              interaction_constraints=None, learning_rate=None, max_bin=None,\n",
              "              max_cat_threshold=None, max_cat_to_onehot=None,\n",
              "              max_delta_step=None, max_depth=None, max_leaves=None,\n",
              "              min_child_weight=None, missing=nan, monotone_constraints=None,\n",
              "              multi_strategy=None, n_estimators=None, n_jobs=None,\n",
              "              num_parallel_tree=None, ...)</pre></div></div></div><div class=\"sk-serial\"><div class=\"sk-item\"><div class=\"sk-estimator sk-toggleable\"><input class=\"sk-toggleable__control sk-hidden--visually\" id=\"sk-estimator-id-6\" type=\"checkbox\" ><label for=\"sk-estimator-id-6\" class=\"sk-toggleable__label sk-toggleable__label-arrow\">XGBClassifier</label><div class=\"sk-toggleable__content\"><pre>XGBClassifier(base_score=None, booster=None, callbacks=None, colsample=0.25,\n",
              "              colsample_bylevel=None, colsample_bynode=None,\n",
              "              colsample_bytree=None, device=None, early_stopping_rounds=None,\n",
              "              enable_categorical=False, eval_metric=&#x27;auc&#x27;, feature_types=None,\n",
              "              gamma=None, grow_policy=None, importance_type=None,\n",
              "              interaction_constraints=None, learning_rate=None, max_bin=None,\n",
              "              max_cat_threshold=None, max_cat_to_onehot=None,\n",
              "              max_delta_step=None, max_depth=None, max_leaves=None,\n",
              "              min_child_weight=None, missing=nan, monotone_constraints=None,\n",
              "              multi_strategy=None, n_estimators=None, n_jobs=None,\n",
              "              num_parallel_tree=None, ...)</pre></div></div></div></div></div></div></div></div></div></div>"
            ]
          },
          "metadata": {},
          "execution_count": 61
        }
      ]
    },
    {
      "cell_type": "code",
      "source": [],
      "metadata": {
        "id": "CJeaIrwNE6oD"
      },
      "execution_count": null,
      "outputs": []
    },
    {
      "cell_type": "code",
      "source": [
        "df_cv_results = pd.DataFrame(xgb_hyper.cv_results_)\n",
        "df_cv_results = df_cv_results[['rank_test_score','mean_test_score','mean_train_score',\n",
        "                               'param_learning_rate', 'param_max_depth', 'param_n_estimators']]\n",
        "df_cv_results.sort_values(by='rank_test_score', inplace=True)\n",
        "df_cv_results"
      ],
      "metadata": {
        "colab": {
          "base_uri": "https://localhost:8080/",
          "height": 424
        },
        "id": "oC3Bcbfhqm3b",
        "outputId": "b60c3c31-8baf-4e05-dc95-7da5277674bd"
      },
      "execution_count": null,
      "outputs": [
        {
          "output_type": "execute_result",
          "data": {
            "text/plain": [
              "     rank_test_score  mean_test_score  mean_train_score param_learning_rate  \\\n",
              "13                 1         0.920165          0.959608                0.01   \n",
              "9                  2         0.919999          0.955517                0.01   \n",
              "32                 3         0.919961          0.959030                0.02   \n",
              "28                 4         0.919868          0.955057                0.02   \n",
              "17                 5         0.919617          0.964999                0.01   \n",
              "..               ...              ...               ...                 ...   \n",
              "118              116         0.895129          1.000000                   1   \n",
              "113              117         0.894588          1.000000                   1   \n",
              "119              118         0.893512          1.000000                   1   \n",
              "0                119         0.892558          0.892865                0.01   \n",
              "114              120         0.892295          1.000000                   1   \n",
              "\n",
              "    param_max_depth param_n_estimators  \n",
              "13                7               1000  \n",
              "9                 5               2000  \n",
              "32                7                500  \n",
              "28                5               1000  \n",
              "17               10                500  \n",
              "..              ...                ...  \n",
              "118              10               1000  \n",
              "113               7               1000  \n",
              "119              10               2000  \n",
              "0                 2                 10  \n",
              "114               7               2000  \n",
              "\n",
              "[120 rows x 6 columns]"
            ],
            "text/html": [
              "\n",
              "  <div id=\"df-9cd58f31-b910-47f7-926b-6bfe3ca49a32\" class=\"colab-df-container\">\n",
              "    <div>\n",
              "<style scoped>\n",
              "    .dataframe tbody tr th:only-of-type {\n",
              "        vertical-align: middle;\n",
              "    }\n",
              "\n",
              "    .dataframe tbody tr th {\n",
              "        vertical-align: top;\n",
              "    }\n",
              "\n",
              "    .dataframe thead th {\n",
              "        text-align: right;\n",
              "    }\n",
              "</style>\n",
              "<table border=\"1\" class=\"dataframe\">\n",
              "  <thead>\n",
              "    <tr style=\"text-align: right;\">\n",
              "      <th></th>\n",
              "      <th>rank_test_score</th>\n",
              "      <th>mean_test_score</th>\n",
              "      <th>mean_train_score</th>\n",
              "      <th>param_learning_rate</th>\n",
              "      <th>param_max_depth</th>\n",
              "      <th>param_n_estimators</th>\n",
              "    </tr>\n",
              "  </thead>\n",
              "  <tbody>\n",
              "    <tr>\n",
              "      <th>13</th>\n",
              "      <td>1</td>\n",
              "      <td>0.920165</td>\n",
              "      <td>0.959608</td>\n",
              "      <td>0.01</td>\n",
              "      <td>7</td>\n",
              "      <td>1000</td>\n",
              "    </tr>\n",
              "    <tr>\n",
              "      <th>9</th>\n",
              "      <td>2</td>\n",
              "      <td>0.919999</td>\n",
              "      <td>0.955517</td>\n",
              "      <td>0.01</td>\n",
              "      <td>5</td>\n",
              "      <td>2000</td>\n",
              "    </tr>\n",
              "    <tr>\n",
              "      <th>32</th>\n",
              "      <td>3</td>\n",
              "      <td>0.919961</td>\n",
              "      <td>0.959030</td>\n",
              "      <td>0.02</td>\n",
              "      <td>7</td>\n",
              "      <td>500</td>\n",
              "    </tr>\n",
              "    <tr>\n",
              "      <th>28</th>\n",
              "      <td>4</td>\n",
              "      <td>0.919868</td>\n",
              "      <td>0.955057</td>\n",
              "      <td>0.02</td>\n",
              "      <td>5</td>\n",
              "      <td>1000</td>\n",
              "    </tr>\n",
              "    <tr>\n",
              "      <th>17</th>\n",
              "      <td>5</td>\n",
              "      <td>0.919617</td>\n",
              "      <td>0.964999</td>\n",
              "      <td>0.01</td>\n",
              "      <td>10</td>\n",
              "      <td>500</td>\n",
              "    </tr>\n",
              "    <tr>\n",
              "      <th>...</th>\n",
              "      <td>...</td>\n",
              "      <td>...</td>\n",
              "      <td>...</td>\n",
              "      <td>...</td>\n",
              "      <td>...</td>\n",
              "      <td>...</td>\n",
              "    </tr>\n",
              "    <tr>\n",
              "      <th>118</th>\n",
              "      <td>116</td>\n",
              "      <td>0.895129</td>\n",
              "      <td>1.000000</td>\n",
              "      <td>1</td>\n",
              "      <td>10</td>\n",
              "      <td>1000</td>\n",
              "    </tr>\n",
              "    <tr>\n",
              "      <th>113</th>\n",
              "      <td>117</td>\n",
              "      <td>0.894588</td>\n",
              "      <td>1.000000</td>\n",
              "      <td>1</td>\n",
              "      <td>7</td>\n",
              "      <td>1000</td>\n",
              "    </tr>\n",
              "    <tr>\n",
              "      <th>119</th>\n",
              "      <td>118</td>\n",
              "      <td>0.893512</td>\n",
              "      <td>1.000000</td>\n",
              "      <td>1</td>\n",
              "      <td>10</td>\n",
              "      <td>2000</td>\n",
              "    </tr>\n",
              "    <tr>\n",
              "      <th>0</th>\n",
              "      <td>119</td>\n",
              "      <td>0.892558</td>\n",
              "      <td>0.892865</td>\n",
              "      <td>0.01</td>\n",
              "      <td>2</td>\n",
              "      <td>10</td>\n",
              "    </tr>\n",
              "    <tr>\n",
              "      <th>114</th>\n",
              "      <td>120</td>\n",
              "      <td>0.892295</td>\n",
              "      <td>1.000000</td>\n",
              "      <td>1</td>\n",
              "      <td>7</td>\n",
              "      <td>2000</td>\n",
              "    </tr>\n",
              "  </tbody>\n",
              "</table>\n",
              "<p>120 rows × 6 columns</p>\n",
              "</div>\n",
              "    <div class=\"colab-df-buttons\">\n",
              "\n",
              "  <div class=\"colab-df-container\">\n",
              "    <button class=\"colab-df-convert\" onclick=\"convertToInteractive('df-9cd58f31-b910-47f7-926b-6bfe3ca49a32')\"\n",
              "            title=\"Convert this dataframe to an interactive table.\"\n",
              "            style=\"display:none;\">\n",
              "\n",
              "  <svg xmlns=\"http://www.w3.org/2000/svg\" height=\"24px\" viewBox=\"0 -960 960 960\">\n",
              "    <path d=\"M120-120v-720h720v720H120Zm60-500h600v-160H180v160Zm220 220h160v-160H400v160Zm0 220h160v-160H400v160ZM180-400h160v-160H180v160Zm440 0h160v-160H620v160ZM180-180h160v-160H180v160Zm440 0h160v-160H620v160Z\"/>\n",
              "  </svg>\n",
              "    </button>\n",
              "\n",
              "  <style>\n",
              "    .colab-df-container {\n",
              "      display:flex;\n",
              "      gap: 12px;\n",
              "    }\n",
              "\n",
              "    .colab-df-convert {\n",
              "      background-color: #E8F0FE;\n",
              "      border: none;\n",
              "      border-radius: 50%;\n",
              "      cursor: pointer;\n",
              "      display: none;\n",
              "      fill: #1967D2;\n",
              "      height: 32px;\n",
              "      padding: 0 0 0 0;\n",
              "      width: 32px;\n",
              "    }\n",
              "\n",
              "    .colab-df-convert:hover {\n",
              "      background-color: #E2EBFA;\n",
              "      box-shadow: 0px 1px 2px rgba(60, 64, 67, 0.3), 0px 1px 3px 1px rgba(60, 64, 67, 0.15);\n",
              "      fill: #174EA6;\n",
              "    }\n",
              "\n",
              "    .colab-df-buttons div {\n",
              "      margin-bottom: 4px;\n",
              "    }\n",
              "\n",
              "    [theme=dark] .colab-df-convert {\n",
              "      background-color: #3B4455;\n",
              "      fill: #D2E3FC;\n",
              "    }\n",
              "\n",
              "    [theme=dark] .colab-df-convert:hover {\n",
              "      background-color: #434B5C;\n",
              "      box-shadow: 0px 1px 3px 1px rgba(0, 0, 0, 0.15);\n",
              "      filter: drop-shadow(0px 1px 2px rgba(0, 0, 0, 0.3));\n",
              "      fill: #FFFFFF;\n",
              "    }\n",
              "  </style>\n",
              "\n",
              "    <script>\n",
              "      const buttonEl =\n",
              "        document.querySelector('#df-9cd58f31-b910-47f7-926b-6bfe3ca49a32 button.colab-df-convert');\n",
              "      buttonEl.style.display =\n",
              "        google.colab.kernel.accessAllowed ? 'block' : 'none';\n",
              "\n",
              "      async function convertToInteractive(key) {\n",
              "        const element = document.querySelector('#df-9cd58f31-b910-47f7-926b-6bfe3ca49a32');\n",
              "        const dataTable =\n",
              "          await google.colab.kernel.invokeFunction('convertToInteractive',\n",
              "                                                    [key], {});\n",
              "        if (!dataTable) return;\n",
              "\n",
              "        const docLinkHtml = 'Like what you see? Visit the ' +\n",
              "          '<a target=\"_blank\" href=https://colab.research.google.com/notebooks/data_table.ipynb>data table notebook</a>'\n",
              "          + ' to learn more about interactive tables.';\n",
              "        element.innerHTML = '';\n",
              "        dataTable['output_type'] = 'display_data';\n",
              "        await google.colab.output.renderOutput(dataTable, element);\n",
              "        const docLink = document.createElement('div');\n",
              "        docLink.innerHTML = docLinkHtml;\n",
              "        element.appendChild(docLink);\n",
              "      }\n",
              "    </script>\n",
              "  </div>\n",
              "\n",
              "\n",
              "<div id=\"df-7c266824-21b9-4704-b54c-978e6b604761\">\n",
              "  <button class=\"colab-df-quickchart\" onclick=\"quickchart('df-7c266824-21b9-4704-b54c-978e6b604761')\"\n",
              "            title=\"Suggest charts\"\n",
              "            style=\"display:none;\">\n",
              "\n",
              "<svg xmlns=\"http://www.w3.org/2000/svg\" height=\"24px\"viewBox=\"0 0 24 24\"\n",
              "     width=\"24px\">\n",
              "    <g>\n",
              "        <path d=\"M19 3H5c-1.1 0-2 .9-2 2v14c0 1.1.9 2 2 2h14c1.1 0 2-.9 2-2V5c0-1.1-.9-2-2-2zM9 17H7v-7h2v7zm4 0h-2V7h2v10zm4 0h-2v-4h2v4z\"/>\n",
              "    </g>\n",
              "</svg>\n",
              "  </button>\n",
              "\n",
              "<style>\n",
              "  .colab-df-quickchart {\n",
              "      --bg-color: #E8F0FE;\n",
              "      --fill-color: #1967D2;\n",
              "      --hover-bg-color: #E2EBFA;\n",
              "      --hover-fill-color: #174EA6;\n",
              "      --disabled-fill-color: #AAA;\n",
              "      --disabled-bg-color: #DDD;\n",
              "  }\n",
              "\n",
              "  [theme=dark] .colab-df-quickchart {\n",
              "      --bg-color: #3B4455;\n",
              "      --fill-color: #D2E3FC;\n",
              "      --hover-bg-color: #434B5C;\n",
              "      --hover-fill-color: #FFFFFF;\n",
              "      --disabled-bg-color: #3B4455;\n",
              "      --disabled-fill-color: #666;\n",
              "  }\n",
              "\n",
              "  .colab-df-quickchart {\n",
              "    background-color: var(--bg-color);\n",
              "    border: none;\n",
              "    border-radius: 50%;\n",
              "    cursor: pointer;\n",
              "    display: none;\n",
              "    fill: var(--fill-color);\n",
              "    height: 32px;\n",
              "    padding: 0;\n",
              "    width: 32px;\n",
              "  }\n",
              "\n",
              "  .colab-df-quickchart:hover {\n",
              "    background-color: var(--hover-bg-color);\n",
              "    box-shadow: 0 1px 2px rgba(60, 64, 67, 0.3), 0 1px 3px 1px rgba(60, 64, 67, 0.15);\n",
              "    fill: var(--button-hover-fill-color);\n",
              "  }\n",
              "\n",
              "  .colab-df-quickchart-complete:disabled,\n",
              "  .colab-df-quickchart-complete:disabled:hover {\n",
              "    background-color: var(--disabled-bg-color);\n",
              "    fill: var(--disabled-fill-color);\n",
              "    box-shadow: none;\n",
              "  }\n",
              "\n",
              "  .colab-df-spinner {\n",
              "    border: 2px solid var(--fill-color);\n",
              "    border-color: transparent;\n",
              "    border-bottom-color: var(--fill-color);\n",
              "    animation:\n",
              "      spin 1s steps(1) infinite;\n",
              "  }\n",
              "\n",
              "  @keyframes spin {\n",
              "    0% {\n",
              "      border-color: transparent;\n",
              "      border-bottom-color: var(--fill-color);\n",
              "      border-left-color: var(--fill-color);\n",
              "    }\n",
              "    20% {\n",
              "      border-color: transparent;\n",
              "      border-left-color: var(--fill-color);\n",
              "      border-top-color: var(--fill-color);\n",
              "    }\n",
              "    30% {\n",
              "      border-color: transparent;\n",
              "      border-left-color: var(--fill-color);\n",
              "      border-top-color: var(--fill-color);\n",
              "      border-right-color: var(--fill-color);\n",
              "    }\n",
              "    40% {\n",
              "      border-color: transparent;\n",
              "      border-right-color: var(--fill-color);\n",
              "      border-top-color: var(--fill-color);\n",
              "    }\n",
              "    60% {\n",
              "      border-color: transparent;\n",
              "      border-right-color: var(--fill-color);\n",
              "    }\n",
              "    80% {\n",
              "      border-color: transparent;\n",
              "      border-right-color: var(--fill-color);\n",
              "      border-bottom-color: var(--fill-color);\n",
              "    }\n",
              "    90% {\n",
              "      border-color: transparent;\n",
              "      border-bottom-color: var(--fill-color);\n",
              "    }\n",
              "  }\n",
              "</style>\n",
              "\n",
              "  <script>\n",
              "    async function quickchart(key) {\n",
              "      const quickchartButtonEl =\n",
              "        document.querySelector('#' + key + ' button');\n",
              "      quickchartButtonEl.disabled = true;  // To prevent multiple clicks.\n",
              "      quickchartButtonEl.classList.add('colab-df-spinner');\n",
              "      try {\n",
              "        const charts = await google.colab.kernel.invokeFunction(\n",
              "            'suggestCharts', [key], {});\n",
              "      } catch (error) {\n",
              "        console.error('Error during call to suggestCharts:', error);\n",
              "      }\n",
              "      quickchartButtonEl.classList.remove('colab-df-spinner');\n",
              "      quickchartButtonEl.classList.add('colab-df-quickchart-complete');\n",
              "    }\n",
              "    (() => {\n",
              "      let quickchartButtonEl =\n",
              "        document.querySelector('#df-7c266824-21b9-4704-b54c-978e6b604761 button');\n",
              "      quickchartButtonEl.style.display =\n",
              "        google.colab.kernel.accessAllowed ? 'block' : 'none';\n",
              "    })();\n",
              "  </script>\n",
              "</div>\n",
              "    </div>\n",
              "  </div>\n"
            ]
          },
          "metadata": {},
          "execution_count": 62
        }
      ]
    },
    {
      "cell_type": "code",
      "source": [
        "# First sort by number of estimators as that would be x-axis\n",
        "df_cv_results.sort_values(by='param_n_estimators', inplace=True)\n",
        "\n",
        "# Find values of AUC for learning rate of 0.05 and different values of depth\n",
        "lr_d2 = df_cv_results.loc[(df_cv_results['param_learning_rate']==0.05) & (df_cv_results['param_max_depth']==2),:]\n",
        "lr_d3 = df_cv_results.loc[(df_cv_results['param_learning_rate']==0.05) & (df_cv_results['param_max_depth']==3),:]\n",
        "lr_d5 = df_cv_results.loc[(df_cv_results['param_learning_rate']==0.05) & (df_cv_results['param_max_depth']==5),:]\n",
        "lr_d7 = df_cv_results.loc[(df_cv_results['param_learning_rate']==0.05) & (df_cv_results['param_max_depth']==7),:]\n",
        "\n",
        "# Let us plot now\n",
        "fig, ax = plt.subplots(figsize=(10,5))\n",
        "lr_d2.plot(x='param_n_estimators', y='mean_test_score', label='Depth=2', ax=ax)\n",
        "lr_d3.plot(x='param_n_estimators', y='mean_test_score', label='Depth=3', ax=ax)\n",
        "lr_d5.plot(x='param_n_estimators', y='mean_test_score', label='Depth=5', ax=ax)\n",
        "lr_d7.plot(x='param_n_estimators', y='mean_test_score', label='Depth=7', ax=ax)\n",
        "plt.ylabel('Mean Validation AUC')\n",
        "plt.title('Performance wrt # of Trees and Depth')"
      ],
      "metadata": {
        "colab": {
          "base_uri": "https://localhost:8080/",
          "height": 491
        },
        "id": "wpmEAaTTvQdn",
        "outputId": "7c145a6a-d2ef-466f-fffb-4b588a8b7f45"
      },
      "execution_count": null,
      "outputs": [
        {
          "output_type": "execute_result",
          "data": {
            "text/plain": [
              "Text(0.5, 1.0, 'Performance wrt # of Trees and Depth')"
            ]
          },
          "metadata": {},
          "execution_count": 27
        },
        {
          "output_type": "display_data",
          "data": {
            "text/plain": [
              "<Figure size 1000x500 with 1 Axes>"
            ],
            "image/png": "[encoded data removed]"
          },
          "metadata": {}
        }
      ]
    },
    {
      "cell_type": "code",
      "source": [
        "# First sort by learning rate as that would be x-axis\n",
        "df_cv_results.sort_values(by='param_learning_rate', inplace=True)\n",
        "\n",
        "# Find values of AUC for learning rate of 0.05 and different values of depth\n",
        "lr_t3k_d2 = df_cv_results.loc[(df_cv_results['param_n_estimators']==3000) & (df_cv_results['param_max_depth']==2),:]\n",
        "\n",
        "# Let us plot now\n",
        "fig, ax = plt.subplots(figsize=(10,5))\n",
        "lr_t3k_d2.plot(x='param_learning_rate', y='mean_test_score', label='Depth=2, Trees=3000', ax=ax)\n",
        "plt.ylabel('Mean Validation AUC')\n",
        "plt.title('Performance wrt learning rate')"
      ],
      "metadata": {
        "colab": {
          "base_uri": "https://localhost:8080/",
          "height": 505
        },
        "id": "Z7LcNuvJxQMl",
        "outputId": "60a602b3-fd5a-4c5b-b2ac-11753c49338b"
      },
      "execution_count": null,
      "outputs": [
        {
          "output_type": "execute_result",
          "data": {
            "text/plain": [
              "Text(0.5, 1.0, 'Performance wrt learning rate')"
            ]
          },
          "metadata": {},
          "execution_count": 28
        },
        {
          "output_type": "display_data",
          "data": {
            "text/plain": [
              "<Figure size 1000x500 with 1 Axes>"
            ],
            "image/png": "[encoded data removed]"
          },
          "metadata": {}
        }
      ]
    },
    {
      "cell_type": "markdown",
      "source": [
        "##Final model after tuning"
      ],
      "metadata": {
        "id": "uzblhU77qmmA"
      }
    },
    {
      "cell_type": "code",
      "source": [
        "model_xgboost_fin = xgboost.XGBClassifier(learning_rate=0.02,\n",
        "                                          max_depth=5,\n",
        "                                          n_estimators=1000,\n",
        "                                          subsample=0.5,\n",
        "                                          colsample_bytree=0.25,\n",
        "                                          eval_metric='auc',\n",
        "                                          verbosity=1,\n",
        "                                          use_label_encoder=False)\n",
        "\n",
        "# Passing both training and validation dataset as we want to plot AUC for both\n",
        "eval_set = [(X_train, y_train),(X_test, y_test)]\n",
        "\n",
        "model_xgboost_fin.fit(X_train,\n",
        "                  y_train,\n",
        "                  early_stopping_rounds=20,\n",
        "                  eval_set=eval_set,\n",
        "                  verbose=True)"
      ],
      "metadata": {
        "colab": {
          "base_uri": "https://localhost:8080/",
          "height": 1000
        },
        "id": "jxZp2cj8xaNd",
        "outputId": "e8c7d89b-ba49-4e33-9337-09cc547dde4a"
      },
      "execution_count": null,
      "outputs": [
        {
          "output_type": "stream",
          "name": "stdout",
          "text": [
            "[0]\tvalidation_0-auc:0.55173\tvalidation_1-auc:0.53955\n",
            "[1]\tvalidation_0-auc:0.88562\tvalidation_1-auc:0.88420\n",
            "[2]\tvalidation_0-auc:0.88686\tvalidation_1-auc:0.88614\n",
            "[3]\tvalidation_0-auc:0.88912\tvalidation_1-auc:0.88950\n",
            "[4]\tvalidation_0-auc:0.88883\tvalidation_1-auc:0.88890\n",
            "[5]\tvalidation_0-auc:0.88920\tvalidation_1-auc:0.88913\n",
            "[6]\tvalidation_0-auc:0.88974\tvalidation_1-auc:0.88921\n",
            "[7]\tvalidation_0-auc:0.89009\tvalidation_1-auc:0.88933\n",
            "[8]\tvalidation_0-auc:0.89347\tvalidation_1-auc:0.89314\n",
            "[9]\tvalidation_0-auc:0.89384\tvalidation_1-auc:0.89374\n",
            "[10]\tvalidation_0-auc:0.89358\tvalidation_1-auc:0.89368\n",
            "[11]\tvalidation_0-auc:0.89367\tvalidation_1-auc:0.89355\n",
            "[12]\tvalidation_0-auc:0.89496\tvalidation_1-auc:0.89495\n",
            "[13]\tvalidation_0-auc:0.89524\tvalidation_1-auc:0.89511\n",
            "[14]\tvalidation_0-auc:0.89513\tvalidation_1-auc:0.89516\n",
            "[15]\tvalidation_0-auc:0.89537\tvalidation_1-auc:0.89550\n",
            "[16]\tvalidation_0-auc:0.89554\tvalidation_1-auc:0.89557\n",
            "[17]\tvalidation_0-auc:0.89567\tvalidation_1-auc:0.89564\n",
            "[18]\tvalidation_0-auc:0.89577\tvalidation_1-auc:0.89595\n",
            "[19]\tvalidation_0-auc:0.89609\tvalidation_1-auc:0.89610\n",
            "[20]\tvalidation_0-auc:0.89663\tvalidation_1-auc:0.89657\n",
            "[21]\tvalidation_0-auc:0.89663\tvalidation_1-auc:0.89647\n",
            "[22]\tvalidation_0-auc:0.89678\tvalidation_1-auc:0.89645\n",
            "[23]\tvalidation_0-auc:0.89711\tvalidation_1-auc:0.89692\n",
            "[24]\tvalidation_0-auc:0.89728\tvalidation_1-auc:0.89714\n",
            "[25]\tvalidation_0-auc:0.89723\tvalidation_1-auc:0.89720\n",
            "[26]\tvalidation_0-auc:0.89715\tvalidation_1-auc:0.89733\n",
            "[27]\tvalidation_0-auc:0.89740\tvalidation_1-auc:0.89740\n",
            "[28]\tvalidation_0-auc:0.89743\tvalidation_1-auc:0.89734\n",
            "[29]\tvalidation_0-auc:0.89761\tvalidation_1-auc:0.89754\n",
            "[30]\tvalidation_0-auc:0.89779\tvalidation_1-auc:0.89780\n",
            "[31]\tvalidation_0-auc:0.89787\tvalidation_1-auc:0.89785\n",
            "[32]\tvalidation_0-auc:0.89788\tvalidation_1-auc:0.89779\n",
            "[33]\tvalidation_0-auc:0.89773\tvalidation_1-auc:0.89760\n",
            "[34]\tvalidation_0-auc:0.89799\tvalidation_1-auc:0.89788\n",
            "[35]\tvalidation_0-auc:0.89779\tvalidation_1-auc:0.89768\n",
            "[36]\tvalidation_0-auc:0.89804\tvalidation_1-auc:0.89795\n",
            "[37]\tvalidation_0-auc:0.89821\tvalidation_1-auc:0.89816\n",
            "[38]\tvalidation_0-auc:0.89847\tvalidation_1-auc:0.89834\n",
            "[39]\tvalidation_0-auc:0.89861\tvalidation_1-auc:0.89847\n",
            "[40]\tvalidation_0-auc:0.89866\tvalidation_1-auc:0.89864\n",
            "[41]\tvalidation_0-auc:0.89903\tvalidation_1-auc:0.89890\n",
            "[42]\tvalidation_0-auc:0.89911\tvalidation_1-auc:0.89883\n",
            "[43]\tvalidation_0-auc:0.89911\tvalidation_1-auc:0.89885\n",
            "[44]\tvalidation_0-auc:0.89945\tvalidation_1-auc:0.89911\n",
            "[45]\tvalidation_0-auc:0.89943\tvalidation_1-auc:0.89903\n",
            "[46]\tvalidation_0-auc:0.89956\tvalidation_1-auc:0.89920\n",
            "[47]\tvalidation_0-auc:0.89950\tvalidation_1-auc:0.89913\n",
            "[48]\tvalidation_0-auc:0.89955\tvalidation_1-auc:0.89923\n",
            "[49]\tvalidation_0-auc:0.89966\tvalidation_1-auc:0.89941\n",
            "[50]\tvalidation_0-auc:0.89968\tvalidation_1-auc:0.89944\n",
            "[51]\tvalidation_0-auc:0.89971\tvalidation_1-auc:0.89956\n",
            "[52]\tvalidation_0-auc:0.89976\tvalidation_1-auc:0.89964\n",
            "[53]\tvalidation_0-auc:0.89976\tvalidation_1-auc:0.89967\n",
            "[54]\tvalidation_0-auc:0.89980\tvalidation_1-auc:0.89975\n",
            "[55]\tvalidation_0-auc:0.89984\tvalidation_1-auc:0.89991\n",
            "[56]\tvalidation_0-auc:0.90037\tvalidation_1-auc:0.90033\n",
            "[57]\tvalidation_0-auc:0.90035\tvalidation_1-auc:0.90036\n",
            "[58]\tvalidation_0-auc:0.90040\tvalidation_1-auc:0.90042\n",
            "[59]\tvalidation_0-auc:0.90055\tvalidation_1-auc:0.90057\n",
            "[60]\tvalidation_0-auc:0.90060\tvalidation_1-auc:0.90062\n",
            "[61]\tvalidation_0-auc:0.90120\tvalidation_1-auc:0.90110\n",
            "[62]\tvalidation_0-auc:0.90121\tvalidation_1-auc:0.90103\n",
            "[63]\tvalidation_0-auc:0.90127\tvalidation_1-auc:0.90108\n",
            "[64]\tvalidation_0-auc:0.90134\tvalidation_1-auc:0.90112\n",
            "[65]\tvalidation_0-auc:0.90137\tvalidation_1-auc:0.90118\n",
            "[66]\tvalidation_0-auc:0.90190\tvalidation_1-auc:0.90155\n",
            "[67]\tvalidation_0-auc:0.90191\tvalidation_1-auc:0.90162\n",
            "[68]\tvalidation_0-auc:0.90189\tvalidation_1-auc:0.90170\n",
            "[69]\tvalidation_0-auc:0.90193\tvalidation_1-auc:0.90175\n",
            "[70]\tvalidation_0-auc:0.90202\tvalidation_1-auc:0.90186\n",
            "[71]\tvalidation_0-auc:0.90253\tvalidation_1-auc:0.90224\n",
            "[72]\tvalidation_0-auc:0.90249\tvalidation_1-auc:0.90221\n",
            "[73]\tvalidation_0-auc:0.90252\tvalidation_1-auc:0.90230\n",
            "[74]\tvalidation_0-auc:0.90258\tvalidation_1-auc:0.90241\n",
            "[75]\tvalidation_0-auc:0.90256\tvalidation_1-auc:0.90242\n",
            "[76]\tvalidation_0-auc:0.90261\tvalidation_1-auc:0.90248\n",
            "[77]\tvalidation_0-auc:0.90264\tvalidation_1-auc:0.90245\n",
            "[78]\tvalidation_0-auc:0.90264\tvalidation_1-auc:0.90240\n",
            "[79]\tvalidation_0-auc:0.90267\tvalidation_1-auc:0.90247\n",
            "[80]\tvalidation_0-auc:0.90270\tvalidation_1-auc:0.90246\n",
            "[81]\tvalidation_0-auc:0.90268\tvalidation_1-auc:0.90246\n",
            "[82]\tvalidation_0-auc:0.90268\tvalidation_1-auc:0.90242\n",
            "[83]\tvalidation_0-auc:0.90332\tvalidation_1-auc:0.90296\n",
            "[84]\tvalidation_0-auc:0.90328\tvalidation_1-auc:0.90294\n",
            "[85]\tvalidation_0-auc:0.90329\tvalidation_1-auc:0.90296\n",
            "[86]\tvalidation_0-auc:0.90334\tvalidation_1-auc:0.90302\n",
            "[87]\tvalidation_0-auc:0.90337\tvalidation_1-auc:0.90307\n",
            "[88]\tvalidation_0-auc:0.90344\tvalidation_1-auc:0.90312\n",
            "[89]\tvalidation_0-auc:0.90404\tvalidation_1-auc:0.90360\n",
            "[90]\tvalidation_0-auc:0.90412\tvalidation_1-auc:0.90369\n",
            "[91]\tvalidation_0-auc:0.90414\tvalidation_1-auc:0.90376\n",
            "[92]\tvalidation_0-auc:0.90477\tvalidation_1-auc:0.90422\n",
            "[93]\tvalidation_0-auc:0.90536\tvalidation_1-auc:0.90467\n",
            "[94]\tvalidation_0-auc:0.90534\tvalidation_1-auc:0.90467\n",
            "[95]\tvalidation_0-auc:0.90534\tvalidation_1-auc:0.90468\n",
            "[96]\tvalidation_0-auc:0.90534\tvalidation_1-auc:0.90468\n",
            "[97]\tvalidation_0-auc:0.90537\tvalidation_1-auc:0.90469\n",
            "[98]\tvalidation_0-auc:0.90600\tvalidation_1-auc:0.90518\n",
            "[99]\tvalidation_0-auc:0.90594\tvalidation_1-auc:0.90512\n",
            "[100]\tvalidation_0-auc:0.90644\tvalidation_1-auc:0.90553\n",
            "[101]\tvalidation_0-auc:0.90643\tvalidation_1-auc:0.90555\n",
            "[102]\tvalidation_0-auc:0.90699\tvalidation_1-auc:0.90594\n",
            "[103]\tvalidation_0-auc:0.90702\tvalidation_1-auc:0.90600\n",
            "[104]\tvalidation_0-auc:0.90703\tvalidation_1-auc:0.90603\n",
            "[105]\tvalidation_0-auc:0.90704\tvalidation_1-auc:0.90609\n",
            "[106]\tvalidation_0-auc:0.90703\tvalidation_1-auc:0.90609\n",
            "[107]\tvalidation_0-auc:0.90702\tvalidation_1-auc:0.90613\n",
            "[108]\tvalidation_0-auc:0.90763\tvalidation_1-auc:0.90656\n",
            "[109]\tvalidation_0-auc:0.90762\tvalidation_1-auc:0.90653\n",
            "[110]\tvalidation_0-auc:0.90762\tvalidation_1-auc:0.90658\n",
            "[111]\tvalidation_0-auc:0.90760\tvalidation_1-auc:0.90654\n",
            "[112]\tvalidation_0-auc:0.90763\tvalidation_1-auc:0.90654\n",
            "[113]\tvalidation_0-auc:0.90772\tvalidation_1-auc:0.90659\n",
            "[114]\tvalidation_0-auc:0.90772\tvalidation_1-auc:0.90660\n",
            "[115]\tvalidation_0-auc:0.90826\tvalidation_1-auc:0.90700\n",
            "[116]\tvalidation_0-auc:0.90826\tvalidation_1-auc:0.90699\n",
            "[117]\tvalidation_0-auc:0.90833\tvalidation_1-auc:0.90701\n",
            "[118]\tvalidation_0-auc:0.90831\tvalidation_1-auc:0.90701\n",
            "[119]\tvalidation_0-auc:0.90831\tvalidation_1-auc:0.90700\n",
            "[120]\tvalidation_0-auc:0.90885\tvalidation_1-auc:0.90741\n",
            "[121]\tvalidation_0-auc:0.90941\tvalidation_1-auc:0.90779\n",
            "[122]\tvalidation_0-auc:0.90948\tvalidation_1-auc:0.90781\n",
            "[123]\tvalidation_0-auc:0.90945\tvalidation_1-auc:0.90782\n",
            "[124]\tvalidation_0-auc:0.90996\tvalidation_1-auc:0.90825\n",
            "[125]\tvalidation_0-auc:0.91000\tvalidation_1-auc:0.90828\n",
            "[126]\tvalidation_0-auc:0.91042\tvalidation_1-auc:0.90858\n",
            "[127]\tvalidation_0-auc:0.91047\tvalidation_1-auc:0.90860\n",
            "[128]\tvalidation_0-auc:0.91049\tvalidation_1-auc:0.90859\n",
            "[129]\tvalidation_0-auc:0.91051\tvalidation_1-auc:0.90861\n",
            "[130]\tvalidation_0-auc:0.91092\tvalidation_1-auc:0.90893\n",
            "[131]\tvalidation_0-auc:0.91087\tvalidation_1-auc:0.90890\n",
            "[132]\tvalidation_0-auc:0.91122\tvalidation_1-auc:0.90917\n",
            "[133]\tvalidation_0-auc:0.91125\tvalidation_1-auc:0.90916\n",
            "[134]\tvalidation_0-auc:0.91123\tvalidation_1-auc:0.90912\n",
            "[135]\tvalidation_0-auc:0.91124\tvalidation_1-auc:0.90911\n",
            "[136]\tvalidation_0-auc:0.91121\tvalidation_1-auc:0.90907\n",
            "[137]\tvalidation_0-auc:0.91121\tvalidation_1-auc:0.90908\n",
            "[138]\tvalidation_0-auc:0.91162\tvalidation_1-auc:0.90939\n",
            "[139]\tvalidation_0-auc:0.91163\tvalidation_1-auc:0.90944\n",
            "[140]\tvalidation_0-auc:0.91165\tvalidation_1-auc:0.90944\n",
            "[141]\tvalidation_0-auc:0.91162\tvalidation_1-auc:0.90940\n",
            "[142]\tvalidation_0-auc:0.91204\tvalidation_1-auc:0.90971\n",
            "[143]\tvalidation_0-auc:0.91202\tvalidation_1-auc:0.90969\n",
            "[144]\tvalidation_0-auc:0.91211\tvalidation_1-auc:0.90978\n",
            "[145]\tvalidation_0-auc:0.91211\tvalidation_1-auc:0.90979\n",
            "[146]\tvalidation_0-auc:0.91250\tvalidation_1-auc:0.91008\n",
            "[147]\tvalidation_0-auc:0.91252\tvalidation_1-auc:0.91009\n",
            "[148]\tvalidation_0-auc:0.91249\tvalidation_1-auc:0.91007\n",
            "[149]\tvalidation_0-auc:0.91246\tvalidation_1-auc:0.91008\n",
            "[150]\tvalidation_0-auc:0.91245\tvalidation_1-auc:0.91009\n",
            "[151]\tvalidation_0-auc:0.91246\tvalidation_1-auc:0.91009\n",
            "[152]\tvalidation_0-auc:0.91246\tvalidation_1-auc:0.91004\n",
            "[153]\tvalidation_0-auc:0.91247\tvalidation_1-auc:0.91002\n",
            "[154]\tvalidation_0-auc:0.91285\tvalidation_1-auc:0.91030\n",
            "[155]\tvalidation_0-auc:0.91288\tvalidation_1-auc:0.91035\n",
            "[156]\tvalidation_0-auc:0.91324\tvalidation_1-auc:0.91060\n",
            "[157]\tvalidation_0-auc:0.91322\tvalidation_1-auc:0.91059\n",
            "[158]\tvalidation_0-auc:0.91354\tvalidation_1-auc:0.91082\n",
            "[159]\tvalidation_0-auc:0.91355\tvalidation_1-auc:0.91083\n",
            "[160]\tvalidation_0-auc:0.91355\tvalidation_1-auc:0.91081\n",
            "[161]\tvalidation_0-auc:0.91354\tvalidation_1-auc:0.91080\n",
            "[162]\tvalidation_0-auc:0.91355\tvalidation_1-auc:0.91080\n",
            "[163]\tvalidation_0-auc:0.91357\tvalidation_1-auc:0.91083\n",
            "[164]\tvalidation_0-auc:0.91354\tvalidation_1-auc:0.91081\n",
            "[165]\tvalidation_0-auc:0.91356\tvalidation_1-auc:0.91083\n",
            "[166]\tvalidation_0-auc:0.91356\tvalidation_1-auc:0.91083\n",
            "[167]\tvalidation_0-auc:0.91357\tvalidation_1-auc:0.91085\n",
            "[168]\tvalidation_0-auc:0.91357\tvalidation_1-auc:0.91087\n",
            "[169]\tvalidation_0-auc:0.91361\tvalidation_1-auc:0.91092\n",
            "[170]\tvalidation_0-auc:0.91363\tvalidation_1-auc:0.91093\n",
            "[171]\tvalidation_0-auc:0.91398\tvalidation_1-auc:0.91117\n",
            "[172]\tvalidation_0-auc:0.91402\tvalidation_1-auc:0.91122\n",
            "[173]\tvalidation_0-auc:0.91403\tvalidation_1-auc:0.91124\n",
            "[174]\tvalidation_0-auc:0.91402\tvalidation_1-auc:0.91126\n",
            "[175]\tvalidation_0-auc:0.91402\tvalidation_1-auc:0.91122\n",
            "[176]\tvalidation_0-auc:0.91403\tvalidation_1-auc:0.91124\n",
            "[177]\tvalidation_0-auc:0.91402\tvalidation_1-auc:0.91122\n",
            "[178]\tvalidation_0-auc:0.91406\tvalidation_1-auc:0.91120\n",
            "[179]\tvalidation_0-auc:0.91407\tvalidation_1-auc:0.91122\n",
            "[180]\tvalidation_0-auc:0.91407\tvalidation_1-auc:0.91121\n",
            "[181]\tvalidation_0-auc:0.91440\tvalidation_1-auc:0.91146\n",
            "[182]\tvalidation_0-auc:0.91472\tvalidation_1-auc:0.91173\n",
            "[183]\tvalidation_0-auc:0.91472\tvalidation_1-auc:0.91174\n",
            "[184]\tvalidation_0-auc:0.91502\tvalidation_1-auc:0.91201\n",
            "[185]\tvalidation_0-auc:0.91502\tvalidation_1-auc:0.91201\n",
            "[186]\tvalidation_0-auc:0.91503\tvalidation_1-auc:0.91200\n",
            "[187]\tvalidation_0-auc:0.91503\tvalidation_1-auc:0.91200\n",
            "[188]\tvalidation_0-auc:0.91504\tvalidation_1-auc:0.91199\n",
            "[189]\tvalidation_0-auc:0.91534\tvalidation_1-auc:0.91226\n",
            "[190]\tvalidation_0-auc:0.91535\tvalidation_1-auc:0.91227\n",
            "[191]\tvalidation_0-auc:0.91537\tvalidation_1-auc:0.91229\n",
            "[192]\tvalidation_0-auc:0.91538\tvalidation_1-auc:0.91226\n",
            "[193]\tvalidation_0-auc:0.91538\tvalidation_1-auc:0.91226\n",
            "[194]\tvalidation_0-auc:0.91564\tvalidation_1-auc:0.91246\n",
            "[195]\tvalidation_0-auc:0.91587\tvalidation_1-auc:0.91266\n",
            "[196]\tvalidation_0-auc:0.91588\tvalidation_1-auc:0.91265\n",
            "[197]\tvalidation_0-auc:0.91610\tvalidation_1-auc:0.91284\n",
            "[198]\tvalidation_0-auc:0.91612\tvalidation_1-auc:0.91281\n",
            "[199]\tvalidation_0-auc:0.91613\tvalidation_1-auc:0.91281\n",
            "[200]\tvalidation_0-auc:0.91611\tvalidation_1-auc:0.91277\n",
            "[201]\tvalidation_0-auc:0.91615\tvalidation_1-auc:0.91278\n",
            "[202]\tvalidation_0-auc:0.91614\tvalidation_1-auc:0.91277\n",
            "[203]\tvalidation_0-auc:0.91637\tvalidation_1-auc:0.91298\n",
            "[204]\tvalidation_0-auc:0.91641\tvalidation_1-auc:0.91302\n",
            "[205]\tvalidation_0-auc:0.91642\tvalidation_1-auc:0.91304\n",
            "[206]\tvalidation_0-auc:0.91645\tvalidation_1-auc:0.91305\n",
            "[207]\tvalidation_0-auc:0.91648\tvalidation_1-auc:0.91309\n",
            "[208]\tvalidation_0-auc:0.91650\tvalidation_1-auc:0.91308\n",
            "[209]\tvalidation_0-auc:0.91649\tvalidation_1-auc:0.91306\n",
            "[210]\tvalidation_0-auc:0.91672\tvalidation_1-auc:0.91322\n",
            "[211]\tvalidation_0-auc:0.91671\tvalidation_1-auc:0.91323\n",
            "[212]\tvalidation_0-auc:0.91673\tvalidation_1-auc:0.91326\n",
            "[213]\tvalidation_0-auc:0.91673\tvalidation_1-auc:0.91326\n",
            "[214]\tvalidation_0-auc:0.91672\tvalidation_1-auc:0.91326\n",
            "[215]\tvalidation_0-auc:0.91692\tvalidation_1-auc:0.91345\n",
            "[216]\tvalidation_0-auc:0.91691\tvalidation_1-auc:0.91347\n",
            "[217]\tvalidation_0-auc:0.91691\tvalidation_1-auc:0.91346\n",
            "[218]\tvalidation_0-auc:0.91692\tvalidation_1-auc:0.91344\n",
            "[219]\tvalidation_0-auc:0.91710\tvalidation_1-auc:0.91359\n",
            "[220]\tvalidation_0-auc:0.91710\tvalidation_1-auc:0.91360\n",
            "[221]\tvalidation_0-auc:0.91717\tvalidation_1-auc:0.91372\n",
            "[222]\tvalidation_0-auc:0.91719\tvalidation_1-auc:0.91371\n",
            "[223]\tvalidation_0-auc:0.91719\tvalidation_1-auc:0.91373\n",
            "[224]\tvalidation_0-auc:0.91737\tvalidation_1-auc:0.91388\n",
            "[225]\tvalidation_0-auc:0.91737\tvalidation_1-auc:0.91389\n",
            "[226]\tvalidation_0-auc:0.91740\tvalidation_1-auc:0.91393\n",
            "[227]\tvalidation_0-auc:0.91756\tvalidation_1-auc:0.91409\n",
            "[228]\tvalidation_0-auc:0.91759\tvalidation_1-auc:0.91409\n",
            "[229]\tvalidation_0-auc:0.91764\tvalidation_1-auc:0.91415\n",
            "[230]\tvalidation_0-auc:0.91780\tvalidation_1-auc:0.91427\n",
            "[231]\tvalidation_0-auc:0.91779\tvalidation_1-auc:0.91426\n",
            "[232]\tvalidation_0-auc:0.91780\tvalidation_1-auc:0.91426\n",
            "[233]\tvalidation_0-auc:0.91781\tvalidation_1-auc:0.91425\n",
            "[234]\tvalidation_0-auc:0.91782\tvalidation_1-auc:0.91425\n",
            "[235]\tvalidation_0-auc:0.91782\tvalidation_1-auc:0.91425\n",
            "[236]\tvalidation_0-auc:0.91796\tvalidation_1-auc:0.91437\n",
            "[237]\tvalidation_0-auc:0.91809\tvalidation_1-auc:0.91453\n",
            "[238]\tvalidation_0-auc:0.91809\tvalidation_1-auc:0.91452\n",
            "[239]\tvalidation_0-auc:0.91810\tvalidation_1-auc:0.91455\n",
            "[240]\tvalidation_0-auc:0.91823\tvalidation_1-auc:0.91467\n",
            "[241]\tvalidation_0-auc:0.91824\tvalidation_1-auc:0.91466\n",
            "[242]\tvalidation_0-auc:0.91826\tvalidation_1-auc:0.91469\n",
            "[243]\tvalidation_0-auc:0.91825\tvalidation_1-auc:0.91470\n",
            "[244]\tvalidation_0-auc:0.91826\tvalidation_1-auc:0.91469\n",
            "[245]\tvalidation_0-auc:0.91836\tvalidation_1-auc:0.91480\n",
            "[246]\tvalidation_0-auc:0.91839\tvalidation_1-auc:0.91482\n",
            "[247]\tvalidation_0-auc:0.91841\tvalidation_1-auc:0.91482\n",
            "[248]\tvalidation_0-auc:0.91843\tvalidation_1-auc:0.91483\n",
            "[249]\tvalidation_0-auc:0.91844\tvalidation_1-auc:0.91481\n",
            "[250]\tvalidation_0-auc:0.91846\tvalidation_1-auc:0.91485\n",
            "[251]\tvalidation_0-auc:0.91859\tvalidation_1-auc:0.91495\n",
            "[252]\tvalidation_0-auc:0.91860\tvalidation_1-auc:0.91496\n",
            "[253]\tvalidation_0-auc:0.91861\tvalidation_1-auc:0.91497\n",
            "[254]\tvalidation_0-auc:0.91861\tvalidation_1-auc:0.91495\n",
            "[255]\tvalidation_0-auc:0.91861\tvalidation_1-auc:0.91495\n",
            "[256]\tvalidation_0-auc:0.91861\tvalidation_1-auc:0.91496\n",
            "[257]\tvalidation_0-auc:0.91872\tvalidation_1-auc:0.91504\n",
            "[258]\tvalidation_0-auc:0.91873\tvalidation_1-auc:0.91506\n",
            "[259]\tvalidation_0-auc:0.91883\tvalidation_1-auc:0.91515\n",
            "[260]\tvalidation_0-auc:0.91886\tvalidation_1-auc:0.91519\n",
            "[261]\tvalidation_0-auc:0.91886\tvalidation_1-auc:0.91518\n",
            "[262]\tvalidation_0-auc:0.91886\tvalidation_1-auc:0.91518\n",
            "[263]\tvalidation_0-auc:0.91896\tvalidation_1-auc:0.91529\n",
            "[264]\tvalidation_0-auc:0.91905\tvalidation_1-auc:0.91537\n",
            "[265]\tvalidation_0-auc:0.91906\tvalidation_1-auc:0.91536\n",
            "[266]\tvalidation_0-auc:0.91906\tvalidation_1-auc:0.91536\n",
            "[267]\tvalidation_0-auc:0.91906\tvalidation_1-auc:0.91535\n",
            "[268]\tvalidation_0-auc:0.91912\tvalidation_1-auc:0.91542\n",
            "[269]\tvalidation_0-auc:0.91914\tvalidation_1-auc:0.91546\n",
            "[270]\tvalidation_0-auc:0.91916\tvalidation_1-auc:0.91549\n",
            "[271]\tvalidation_0-auc:0.91926\tvalidation_1-auc:0.91554\n",
            "[272]\tvalidation_0-auc:0.91926\tvalidation_1-auc:0.91553\n",
            "[273]\tvalidation_0-auc:0.91927\tvalidation_1-auc:0.91554\n",
            "[274]\tvalidation_0-auc:0.91927\tvalidation_1-auc:0.91552\n",
            "[275]\tvalidation_0-auc:0.91926\tvalidation_1-auc:0.91552\n",
            "[276]\tvalidation_0-auc:0.91928\tvalidation_1-auc:0.91554\n",
            "[277]\tvalidation_0-auc:0.91937\tvalidation_1-auc:0.91560\n",
            "[278]\tvalidation_0-auc:0.91938\tvalidation_1-auc:0.91560\n",
            "[279]\tvalidation_0-auc:0.91939\tvalidation_1-auc:0.91559\n",
            "[280]\tvalidation_0-auc:0.91940\tvalidation_1-auc:0.91558\n",
            "[281]\tvalidation_0-auc:0.91938\tvalidation_1-auc:0.91557\n",
            "[282]\tvalidation_0-auc:0.91939\tvalidation_1-auc:0.91556\n",
            "[283]\tvalidation_0-auc:0.91941\tvalidation_1-auc:0.91558\n",
            "[284]\tvalidation_0-auc:0.91949\tvalidation_1-auc:0.91565\n",
            "[285]\tvalidation_0-auc:0.91950\tvalidation_1-auc:0.91566\n",
            "[286]\tvalidation_0-auc:0.91952\tvalidation_1-auc:0.91567\n",
            "[287]\tvalidation_0-auc:0.91953\tvalidation_1-auc:0.91566\n",
            "[288]\tvalidation_0-auc:0.91956\tvalidation_1-auc:0.91569\n",
            "[289]\tvalidation_0-auc:0.91963\tvalidation_1-auc:0.91573\n",
            "[290]\tvalidation_0-auc:0.91964\tvalidation_1-auc:0.91572\n",
            "[291]\tvalidation_0-auc:0.91964\tvalidation_1-auc:0.91573\n",
            "[292]\tvalidation_0-auc:0.91964\tvalidation_1-auc:0.91571\n",
            "[293]\tvalidation_0-auc:0.91963\tvalidation_1-auc:0.91569\n",
            "[294]\tvalidation_0-auc:0.91963\tvalidation_1-auc:0.91567\n",
            "[295]\tvalidation_0-auc:0.91964\tvalidation_1-auc:0.91566\n",
            "[296]\tvalidation_0-auc:0.91965\tvalidation_1-auc:0.91567\n",
            "[297]\tvalidation_0-auc:0.91965\tvalidation_1-auc:0.91566\n",
            "[298]\tvalidation_0-auc:0.91966\tvalidation_1-auc:0.91566\n",
            "[299]\tvalidation_0-auc:0.91966\tvalidation_1-auc:0.91567\n",
            "[300]\tvalidation_0-auc:0.91974\tvalidation_1-auc:0.91576\n",
            "[301]\tvalidation_0-auc:0.91975\tvalidation_1-auc:0.91575\n",
            "[302]\tvalidation_0-auc:0.91983\tvalidation_1-auc:0.91580\n",
            "[303]\tvalidation_0-auc:0.91989\tvalidation_1-auc:0.91584\n",
            "[304]\tvalidation_0-auc:0.91988\tvalidation_1-auc:0.91584\n",
            "[305]\tvalidation_0-auc:0.91989\tvalidation_1-auc:0.91584\n",
            "[306]\tvalidation_0-auc:0.91990\tvalidation_1-auc:0.91583\n",
            "[307]\tvalidation_0-auc:0.91991\tvalidation_1-auc:0.91584\n",
            "[308]\tvalidation_0-auc:0.91997\tvalidation_1-auc:0.91590\n",
            "[309]\tvalidation_0-auc:0.91998\tvalidation_1-auc:0.91589\n",
            "[310]\tvalidation_0-auc:0.92004\tvalidation_1-auc:0.91594\n",
            "[311]\tvalidation_0-auc:0.92005\tvalidation_1-auc:0.91594\n",
            "[312]\tvalidation_0-auc:0.92005\tvalidation_1-auc:0.91592\n",
            "[313]\tvalidation_0-auc:0.92006\tvalidation_1-auc:0.91594\n",
            "[314]\tvalidation_0-auc:0.92007\tvalidation_1-auc:0.91594\n",
            "[315]\tvalidation_0-auc:0.92007\tvalidation_1-auc:0.91596\n",
            "[316]\tvalidation_0-auc:0.92008\tvalidation_1-auc:0.91596\n",
            "[317]\tvalidation_0-auc:0.92010\tvalidation_1-auc:0.91597\n",
            "[318]\tvalidation_0-auc:0.92010\tvalidation_1-auc:0.91597\n",
            "[319]\tvalidation_0-auc:0.92016\tvalidation_1-auc:0.91601\n",
            "[320]\tvalidation_0-auc:0.92017\tvalidation_1-auc:0.91599\n",
            "[321]\tvalidation_0-auc:0.92022\tvalidation_1-auc:0.91604\n",
            "[322]\tvalidation_0-auc:0.92026\tvalidation_1-auc:0.91608\n",
            "[323]\tvalidation_0-auc:0.92026\tvalidation_1-auc:0.91608\n",
            "[324]\tvalidation_0-auc:0.92028\tvalidation_1-auc:0.91608\n",
            "[325]\tvalidation_0-auc:0.92028\tvalidation_1-auc:0.91607\n",
            "[326]\tvalidation_0-auc:0.92030\tvalidation_1-auc:0.91608\n",
            "[327]\tvalidation_0-auc:0.92030\tvalidation_1-auc:0.91608\n",
            "[328]\tvalidation_0-auc:0.92030\tvalidation_1-auc:0.91608\n",
            "[329]\tvalidation_0-auc:0.92030\tvalidation_1-auc:0.91607\n",
            "[330]\tvalidation_0-auc:0.92032\tvalidation_1-auc:0.91608\n",
            "[331]\tvalidation_0-auc:0.92037\tvalidation_1-auc:0.91614\n",
            "[332]\tvalidation_0-auc:0.92036\tvalidation_1-auc:0.91615\n",
            "[333]\tvalidation_0-auc:0.92041\tvalidation_1-auc:0.91619\n",
            "[334]\tvalidation_0-auc:0.92045\tvalidation_1-auc:0.91625\n",
            "[335]\tvalidation_0-auc:0.92048\tvalidation_1-auc:0.91628\n",
            "[336]\tvalidation_0-auc:0.92049\tvalidation_1-auc:0.91631\n",
            "[337]\tvalidation_0-auc:0.92054\tvalidation_1-auc:0.91635\n",
            "[338]\tvalidation_0-auc:0.92055\tvalidation_1-auc:0.91636\n",
            "[339]\tvalidation_0-auc:0.92055\tvalidation_1-auc:0.91636\n",
            "[340]\tvalidation_0-auc:0.92056\tvalidation_1-auc:0.91637\n",
            "[341]\tvalidation_0-auc:0.92056\tvalidation_1-auc:0.91639\n",
            "[342]\tvalidation_0-auc:0.92057\tvalidation_1-auc:0.91638\n",
            "[343]\tvalidation_0-auc:0.92057\tvalidation_1-auc:0.91637\n",
            "[344]\tvalidation_0-auc:0.92057\tvalidation_1-auc:0.91637\n",
            "[345]\tvalidation_0-auc:0.92059\tvalidation_1-auc:0.91638\n",
            "[346]\tvalidation_0-auc:0.92063\tvalidation_1-auc:0.91642\n",
            "[347]\tvalidation_0-auc:0.92063\tvalidation_1-auc:0.91644\n",
            "[348]\tvalidation_0-auc:0.92067\tvalidation_1-auc:0.91650\n",
            "[349]\tvalidation_0-auc:0.92070\tvalidation_1-auc:0.91651\n",
            "[350]\tvalidation_0-auc:0.92073\tvalidation_1-auc:0.91653\n",
            "[351]\tvalidation_0-auc:0.92073\tvalidation_1-auc:0.91652\n",
            "[352]\tvalidation_0-auc:0.92074\tvalidation_1-auc:0.91651\n",
            "[353]\tvalidation_0-auc:0.92076\tvalidation_1-auc:0.91651\n",
            "[354]\tvalidation_0-auc:0.92077\tvalidation_1-auc:0.91651\n",
            "[355]\tvalidation_0-auc:0.92077\tvalidation_1-auc:0.91651\n",
            "[356]\tvalidation_0-auc:0.92081\tvalidation_1-auc:0.91652\n",
            "[357]\tvalidation_0-auc:0.92084\tvalidation_1-auc:0.91655\n",
            "[358]\tvalidation_0-auc:0.92086\tvalidation_1-auc:0.91657\n",
            "[359]\tvalidation_0-auc:0.92086\tvalidation_1-auc:0.91656\n",
            "[360]\tvalidation_0-auc:0.92088\tvalidation_1-auc:0.91659\n",
            "[361]\tvalidation_0-auc:0.92090\tvalidation_1-auc:0.91658\n",
            "[362]\tvalidation_0-auc:0.92092\tvalidation_1-auc:0.91659\n",
            "[363]\tvalidation_0-auc:0.92093\tvalidation_1-auc:0.91659\n",
            "[364]\tvalidation_0-auc:0.92096\tvalidation_1-auc:0.91660\n",
            "[365]\tvalidation_0-auc:0.92097\tvalidation_1-auc:0.91660\n",
            "[366]\tvalidation_0-auc:0.92097\tvalidation_1-auc:0.91659\n",
            "[367]\tvalidation_0-auc:0.92097\tvalidation_1-auc:0.91659\n",
            "[368]\tvalidation_0-auc:0.92099\tvalidation_1-auc:0.91663\n",
            "[369]\tvalidation_0-auc:0.92101\tvalidation_1-auc:0.91665\n",
            "[370]\tvalidation_0-auc:0.92102\tvalidation_1-auc:0.91665\n",
            "[371]\tvalidation_0-auc:0.92104\tvalidation_1-auc:0.91664\n",
            "[372]\tvalidation_0-auc:0.92104\tvalidation_1-auc:0.91666\n",
            "[373]\tvalidation_0-auc:0.92105\tvalidation_1-auc:0.91665\n",
            "[374]\tvalidation_0-auc:0.92107\tvalidation_1-auc:0.91667\n",
            "[375]\tvalidation_0-auc:0.92107\tvalidation_1-auc:0.91666\n",
            "[376]\tvalidation_0-auc:0.92108\tvalidation_1-auc:0.91665\n",
            "[377]\tvalidation_0-auc:0.92110\tvalidation_1-auc:0.91666\n",
            "[378]\tvalidation_0-auc:0.92111\tvalidation_1-auc:0.91667\n",
            "[379]\tvalidation_0-auc:0.92114\tvalidation_1-auc:0.91667\n",
            "[380]\tvalidation_0-auc:0.92115\tvalidation_1-auc:0.91670\n",
            "[381]\tvalidation_0-auc:0.92116\tvalidation_1-auc:0.91668\n",
            "[382]\tvalidation_0-auc:0.92118\tvalidation_1-auc:0.91672\n",
            "[383]\tvalidation_0-auc:0.92119\tvalidation_1-auc:0.91672\n",
            "[384]\tvalidation_0-auc:0.92120\tvalidation_1-auc:0.91672\n",
            "[385]\tvalidation_0-auc:0.92121\tvalidation_1-auc:0.91674\n",
            "[386]\tvalidation_0-auc:0.92123\tvalidation_1-auc:0.91675\n",
            "[387]\tvalidation_0-auc:0.92123\tvalidation_1-auc:0.91676\n",
            "[388]\tvalidation_0-auc:0.92126\tvalidation_1-auc:0.91675\n",
            "[389]\tvalidation_0-auc:0.92128\tvalidation_1-auc:0.91679\n",
            "[390]\tvalidation_0-auc:0.92133\tvalidation_1-auc:0.91685\n",
            "[391]\tvalidation_0-auc:0.92133\tvalidation_1-auc:0.91684\n",
            "[392]\tvalidation_0-auc:0.92133\tvalidation_1-auc:0.91682\n",
            "[393]\tvalidation_0-auc:0.92133\tvalidation_1-auc:0.91680\n",
            "[394]\tvalidation_0-auc:0.92133\tvalidation_1-auc:0.91682\n",
            "[395]\tvalidation_0-auc:0.92135\tvalidation_1-auc:0.91681\n",
            "[396]\tvalidation_0-auc:0.92136\tvalidation_1-auc:0.91680\n",
            "[397]\tvalidation_0-auc:0.92136\tvalidation_1-auc:0.91680\n",
            "[398]\tvalidation_0-auc:0.92138\tvalidation_1-auc:0.91682\n",
            "[399]\tvalidation_0-auc:0.92140\tvalidation_1-auc:0.91684\n",
            "[400]\tvalidation_0-auc:0.92141\tvalidation_1-auc:0.91684\n",
            "[401]\tvalidation_0-auc:0.92141\tvalidation_1-auc:0.91685\n",
            "[402]\tvalidation_0-auc:0.92141\tvalidation_1-auc:0.91687\n",
            "[403]\tvalidation_0-auc:0.92142\tvalidation_1-auc:0.91688\n",
            "[404]\tvalidation_0-auc:0.92143\tvalidation_1-auc:0.91688\n",
            "[405]\tvalidation_0-auc:0.92144\tvalidation_1-auc:0.91688\n",
            "[406]\tvalidation_0-auc:0.92145\tvalidation_1-auc:0.91688\n",
            "[407]\tvalidation_0-auc:0.92146\tvalidation_1-auc:0.91689\n",
            "[408]\tvalidation_0-auc:0.92145\tvalidation_1-auc:0.91690\n",
            "[409]\tvalidation_0-auc:0.92146\tvalidation_1-auc:0.91689\n",
            "[410]\tvalidation_0-auc:0.92148\tvalidation_1-auc:0.91694\n",
            "[411]\tvalidation_0-auc:0.92149\tvalidation_1-auc:0.91694\n",
            "[412]\tvalidation_0-auc:0.92148\tvalidation_1-auc:0.91693\n",
            "[413]\tvalidation_0-auc:0.92149\tvalidation_1-auc:0.91693\n",
            "[414]\tvalidation_0-auc:0.92149\tvalidation_1-auc:0.91694\n",
            "[415]\tvalidation_0-auc:0.92152\tvalidation_1-auc:0.91698\n",
            "[416]\tvalidation_0-auc:0.92152\tvalidation_1-auc:0.91697\n",
            "[417]\tvalidation_0-auc:0.92153\tvalidation_1-auc:0.91696\n",
            "[418]\tvalidation_0-auc:0.92154\tvalidation_1-auc:0.91696\n",
            "[419]\tvalidation_0-auc:0.92156\tvalidation_1-auc:0.91696\n",
            "[420]\tvalidation_0-auc:0.92157\tvalidation_1-auc:0.91696\n",
            "[421]\tvalidation_0-auc:0.92156\tvalidation_1-auc:0.91694\n",
            "[422]\tvalidation_0-auc:0.92157\tvalidation_1-auc:0.91693\n",
            "[423]\tvalidation_0-auc:0.92157\tvalidation_1-auc:0.91693\n",
            "[424]\tvalidation_0-auc:0.92159\tvalidation_1-auc:0.91692\n",
            "[425]\tvalidation_0-auc:0.92159\tvalidation_1-auc:0.91693\n",
            "[426]\tvalidation_0-auc:0.92162\tvalidation_1-auc:0.91696\n",
            "[427]\tvalidation_0-auc:0.92163\tvalidation_1-auc:0.91697\n",
            "[428]\tvalidation_0-auc:0.92163\tvalidation_1-auc:0.91699\n",
            "[429]\tvalidation_0-auc:0.92165\tvalidation_1-auc:0.91698\n",
            "[430]\tvalidation_0-auc:0.92167\tvalidation_1-auc:0.91698\n",
            "[431]\tvalidation_0-auc:0.92168\tvalidation_1-auc:0.91698\n",
            "[432]\tvalidation_0-auc:0.92172\tvalidation_1-auc:0.91704\n",
            "[433]\tvalidation_0-auc:0.92172\tvalidation_1-auc:0.91704\n",
            "[434]\tvalidation_0-auc:0.92172\tvalidation_1-auc:0.91704\n",
            "[435]\tvalidation_0-auc:0.92173\tvalidation_1-auc:0.91703\n",
            "[436]\tvalidation_0-auc:0.92174\tvalidation_1-auc:0.91702\n",
            "[437]\tvalidation_0-auc:0.92173\tvalidation_1-auc:0.91703\n",
            "[438]\tvalidation_0-auc:0.92173\tvalidation_1-auc:0.91703\n",
            "[439]\tvalidation_0-auc:0.92174\tvalidation_1-auc:0.91705\n",
            "[440]\tvalidation_0-auc:0.92176\tvalidation_1-auc:0.91707\n",
            "[441]\tvalidation_0-auc:0.92177\tvalidation_1-auc:0.91707\n",
            "[442]\tvalidation_0-auc:0.92177\tvalidation_1-auc:0.91707\n",
            "[443]\tvalidation_0-auc:0.92178\tvalidation_1-auc:0.91710\n",
            "[444]\tvalidation_0-auc:0.92180\tvalidation_1-auc:0.91708\n",
            "[445]\tvalidation_0-auc:0.92181\tvalidation_1-auc:0.91707\n",
            "[446]\tvalidation_0-auc:0.92181\tvalidation_1-auc:0.91707\n",
            "[447]\tvalidation_0-auc:0.92182\tvalidation_1-auc:0.91707\n",
            "[448]\tvalidation_0-auc:0.92184\tvalidation_1-auc:0.91709\n",
            "[449]\tvalidation_0-auc:0.92184\tvalidation_1-auc:0.91708\n",
            "[450]\tvalidation_0-auc:0.92184\tvalidation_1-auc:0.91707\n",
            "[451]\tvalidation_0-auc:0.92185\tvalidation_1-auc:0.91707\n",
            "[452]\tvalidation_0-auc:0.92186\tvalidation_1-auc:0.91709\n",
            "[453]\tvalidation_0-auc:0.92186\tvalidation_1-auc:0.91709\n",
            "[454]\tvalidation_0-auc:0.92187\tvalidation_1-auc:0.91708\n",
            "[455]\tvalidation_0-auc:0.92187\tvalidation_1-auc:0.91707\n",
            "[456]\tvalidation_0-auc:0.92189\tvalidation_1-auc:0.91709\n",
            "[457]\tvalidation_0-auc:0.92190\tvalidation_1-auc:0.91708\n",
            "[458]\tvalidation_0-auc:0.92190\tvalidation_1-auc:0.91708\n",
            "[459]\tvalidation_0-auc:0.92191\tvalidation_1-auc:0.91708\n",
            "[460]\tvalidation_0-auc:0.92191\tvalidation_1-auc:0.91707\n",
            "[461]\tvalidation_0-auc:0.92193\tvalidation_1-auc:0.91709\n",
            "[462]\tvalidation_0-auc:0.92195\tvalidation_1-auc:0.91712\n",
            "[463]\tvalidation_0-auc:0.92196\tvalidation_1-auc:0.91710\n",
            "[464]\tvalidation_0-auc:0.92198\tvalidation_1-auc:0.91711\n",
            "[465]\tvalidation_0-auc:0.92198\tvalidation_1-auc:0.91711\n",
            "[466]\tvalidation_0-auc:0.92198\tvalidation_1-auc:0.91711\n",
            "[467]\tvalidation_0-auc:0.92199\tvalidation_1-auc:0.91713\n",
            "[468]\tvalidation_0-auc:0.92202\tvalidation_1-auc:0.91716\n",
            "[469]\tvalidation_0-auc:0.92203\tvalidation_1-auc:0.91716\n",
            "[470]\tvalidation_0-auc:0.92206\tvalidation_1-auc:0.91719\n",
            "[471]\tvalidation_0-auc:0.92208\tvalidation_1-auc:0.91722\n",
            "[472]\tvalidation_0-auc:0.92209\tvalidation_1-auc:0.91723\n",
            "[473]\tvalidation_0-auc:0.92209\tvalidation_1-auc:0.91724\n",
            "[474]\tvalidation_0-auc:0.92209\tvalidation_1-auc:0.91723\n",
            "[475]\tvalidation_0-auc:0.92208\tvalidation_1-auc:0.91724\n",
            "[476]\tvalidation_0-auc:0.92208\tvalidation_1-auc:0.91723\n",
            "[477]\tvalidation_0-auc:0.92209\tvalidation_1-auc:0.91724\n",
            "[478]\tvalidation_0-auc:0.92210\tvalidation_1-auc:0.91725\n",
            "[479]\tvalidation_0-auc:0.92211\tvalidation_1-auc:0.91725\n",
            "[480]\tvalidation_0-auc:0.92211\tvalidation_1-auc:0.91727\n",
            "[481]\tvalidation_0-auc:0.92211\tvalidation_1-auc:0.91727\n",
            "[482]\tvalidation_0-auc:0.92211\tvalidation_1-auc:0.91726\n",
            "[483]\tvalidation_0-auc:0.92213\tvalidation_1-auc:0.91724\n",
            "[484]\tvalidation_0-auc:0.92215\tvalidation_1-auc:0.91726\n",
            "[485]\tvalidation_0-auc:0.92217\tvalidation_1-auc:0.91726\n",
            "[486]\tvalidation_0-auc:0.92218\tvalidation_1-auc:0.91726\n",
            "[487]\tvalidation_0-auc:0.92218\tvalidation_1-auc:0.91726\n",
            "[488]\tvalidation_0-auc:0.92219\tvalidation_1-auc:0.91724\n",
            "[489]\tvalidation_0-auc:0.92219\tvalidation_1-auc:0.91723\n",
            "[490]\tvalidation_0-auc:0.92220\tvalidation_1-auc:0.91724\n",
            "[491]\tvalidation_0-auc:0.92222\tvalidation_1-auc:0.91725\n",
            "[492]\tvalidation_0-auc:0.92222\tvalidation_1-auc:0.91723\n",
            "[493]\tvalidation_0-auc:0.92223\tvalidation_1-auc:0.91724\n",
            "[494]\tvalidation_0-auc:0.92223\tvalidation_1-auc:0.91725\n",
            "[495]\tvalidation_0-auc:0.92224\tvalidation_1-auc:0.91726\n",
            "[496]\tvalidation_0-auc:0.92224\tvalidation_1-auc:0.91725\n",
            "[497]\tvalidation_0-auc:0.92224\tvalidation_1-auc:0.91724\n",
            "[498]\tvalidation_0-auc:0.92225\tvalidation_1-auc:0.91724\n",
            "[499]\tvalidation_0-auc:0.92226\tvalidation_1-auc:0.91722\n",
            "[500]\tvalidation_0-auc:0.92227\tvalidation_1-auc:0.91723\n"
          ]
        },
        {
          "output_type": "execute_result",
          "data": {
            "text/plain": [
              "XGBClassifier(base_score=None, booster=None, callbacks=None,\n",
              "              colsample_bylevel=None, colsample_bynode=None,\n",
              "              colsample_bytree=0.25, device=None, early_stopping_rounds=None,\n",
              "              enable_categorical=False, eval_metric='auc', feature_types=None,\n",
              "              gamma=None, grow_policy=None, importance_type=None,\n",
              "              interaction_constraints=None, learning_rate=0.02, max_bin=None,\n",
              "              max_cat_threshold=None, max_cat_to_onehot=None,\n",
              "              max_delta_step=None, max_depth=5, max_leaves=None,\n",
              "              min_child_weight=None, missing=nan, monotone_constraints=None,\n",
              "              multi_strategy=None, n_estimators=1000, n_jobs=None,\n",
              "              num_parallel_tree=None, random_state=None, ...)"
            ],
            "text/html": [
              "<style>#sk-container-id-6 {color: black;background-color: white;}#sk-container-id-6 pre{padding: 0;}#sk-container-id-6 div.sk-toggleable {background-color: white;}#sk-container-id-6 label.sk-toggleable__label {cursor: pointer;display: block;width: 100%;margin-bottom: 0;padding: 0.3em;box-sizing: border-box;text-align: center;}#sk-container-id-6 label.sk-toggleable__label-arrow:before {content: \"▸\";float: left;margin-right: 0.25em;color: #696969;}#sk-container-id-6 label.sk-toggleable__label-arrow:hover:before {color: black;}#sk-container-id-6 div.sk-estimator:hover label.sk-toggleable__label-arrow:before {color: black;}#sk-container-id-6 div.sk-toggleable__content {max-height: 0;max-width: 0;overflow: hidden;text-align: left;background-color: #f0f8ff;}#sk-container-id-6 div.sk-toggleable__content pre {margin: 0.2em;color: black;border-radius: 0.25em;background-color: #f0f8ff;}#sk-container-id-6 input.sk-toggleable__control:checked~div.sk-toggleable__content {max-height: 200px;max-width: 100%;overflow: auto;}#sk-container-id-6 input.sk-toggleable__control:checked~label.sk-toggleable__label-arrow:before {content: \"▾\";}#sk-container-id-6 div.sk-estimator input.sk-toggleable__control:checked~label.sk-toggleable__label {background-color: #d4ebff;}#sk-container-id-6 div.sk-label input.sk-toggleable__control:checked~label.sk-toggleable__label {background-color: #d4ebff;}#sk-container-id-6 input.sk-hidden--visually {border: 0;clip: rect(1px 1px 1px 1px);clip: rect(1px, 1px, 1px, 1px);height: 1px;margin: -1px;overflow: hidden;padding: 0;position: absolute;width: 1px;}#sk-container-id-6 div.sk-estimator {font-family: monospace;background-color: #f0f8ff;border: 1px dotted black;border-radius: 0.25em;box-sizing: border-box;margin-bottom: 0.5em;}#sk-container-id-6 div.sk-estimator:hover {background-color: #d4ebff;}#sk-container-id-6 div.sk-parallel-item::after {content: \"\";width: 100%;border-bottom: 1px solid gray;flex-grow: 1;}#sk-container-id-6 div.sk-label:hover label.sk-toggleable__label {background-color: #d4ebff;}#sk-container-id-6 div.sk-serial::before {content: \"\";position: absolute;border-left: 1px solid gray;box-sizing: border-box;top: 0;bottom: 0;left: 50%;z-index: 0;}#sk-container-id-6 div.sk-serial {display: flex;flex-direction: column;align-items: center;background-color: white;padding-right: 0.2em;padding-left: 0.2em;position: relative;}#sk-container-id-6 div.sk-item {position: relative;z-index: 1;}#sk-container-id-6 div.sk-parallel {display: flex;align-items: stretch;justify-content: center;background-color: white;position: relative;}#sk-container-id-6 div.sk-item::before, #sk-container-id-6 div.sk-parallel-item::before {content: \"\";position: absolute;border-left: 1px solid gray;box-sizing: border-box;top: 0;bottom: 0;left: 50%;z-index: -1;}#sk-container-id-6 div.sk-parallel-item {display: flex;flex-direction: column;z-index: 1;position: relative;background-color: white;}#sk-container-id-6 div.sk-parallel-item:first-child::after {align-self: flex-end;width: 50%;}#sk-container-id-6 div.sk-parallel-item:last-child::after {align-self: flex-start;width: 50%;}#sk-container-id-6 div.sk-parallel-item:only-child::after {width: 0;}#sk-container-id-6 div.sk-dashed-wrapped {border: 1px dashed gray;margin: 0 0.4em 0.5em 0.4em;box-sizing: border-box;padding-bottom: 0.4em;background-color: white;}#sk-container-id-6 div.sk-label label {font-family: monospace;font-weight: bold;display: inline-block;line-height: 1.2em;}#sk-container-id-6 div.sk-label-container {text-align: center;}#sk-container-id-6 div.sk-container {/* jupyter's `normalize.less` sets `[hidden] { display: none; }` but bootstrap.min.css set `[hidden] { display: none !important; }` so we also need the `!important` here to be able to override the default hidden behavior on the sphinx rendered scikit-learn.org. See: https://github.com/scikit-learn/scikit-learn/issues/21755 */display: inline-block !important;position: relative;}#sk-container-id-6 div.sk-text-repr-fallback {display: none;}</style><div id=\"sk-container-id-6\" class=\"sk-top-container\"><div class=\"sk-text-repr-fallback\"><pre>XGBClassifier(base_score=None, booster=None, callbacks=None,\n",
              "              colsample_bylevel=None, colsample_bynode=None,\n",
              "              colsample_bytree=0.25, device=None, early_stopping_rounds=None,\n",
              "              enable_categorical=False, eval_metric=&#x27;auc&#x27;, feature_types=None,\n",
              "              gamma=None, grow_policy=None, importance_type=None,\n",
              "              interaction_constraints=None, learning_rate=0.02, max_bin=None,\n",
              "              max_cat_threshold=None, max_cat_to_onehot=None,\n",
              "              max_delta_step=None, max_depth=5, max_leaves=None,\n",
              "              min_child_weight=None, missing=nan, monotone_constraints=None,\n",
              "              multi_strategy=None, n_estimators=1000, n_jobs=None,\n",
              "              num_parallel_tree=None, random_state=None, ...)</pre><b>In a Jupyter environment, please rerun this cell to show the HTML representation or trust the notebook. <br />On GitHub, the HTML representation is unable to render, please try loading this page with nbviewer.org.</b></div><div class=\"sk-container\" hidden><div class=\"sk-item\"><div class=\"sk-estimator sk-toggleable\"><input class=\"sk-toggleable__control sk-hidden--visually\" id=\"sk-estimator-id-8\" type=\"checkbox\" checked><label for=\"sk-estimator-id-8\" class=\"sk-toggleable__label sk-toggleable__label-arrow\">XGBClassifier</label><div class=\"sk-toggleable__content\"><pre>XGBClassifier(base_score=None, booster=None, callbacks=None,\n",
              "              colsample_bylevel=None, colsample_bynode=None,\n",
              "              colsample_bytree=0.25, device=None, early_stopping_rounds=None,\n",
              "              enable_categorical=False, eval_metric=&#x27;auc&#x27;, feature_types=None,\n",
              "              gamma=None, grow_policy=None, importance_type=None,\n",
              "              interaction_constraints=None, learning_rate=0.02, max_bin=None,\n",
              "              max_cat_threshold=None, max_cat_to_onehot=None,\n",
              "              max_delta_step=None, max_depth=5, max_leaves=None,\n",
              "              min_child_weight=None, missing=nan, monotone_constraints=None,\n",
              "              multi_strategy=None, n_estimators=1000, n_jobs=None,\n",
              "              num_parallel_tree=None, random_state=None, ...)</pre></div></div></div></div></div>"
            ]
          },
          "metadata": {},
          "execution_count": 31
        }
      ]
    },
    {
      "cell_type": "code",
      "source": [
        "y_train_pred = model_xgboost_fin.predict_proba(X_train)[:,1]\n",
        "y_test_pred = model_xgboost_fin.predict_proba(X_test)[:,1]\n",
        "\n",
        "print(\"AUC Train: {:.4f}\\nAUC Test: {:.4f}\".format(roc_auc_score(y_train, y_train_pred),\n",
        "                                                    roc_auc_score(y_test, y_test_pred)))"
      ],
      "metadata": {
        "colab": {
          "base_uri": "https://localhost:8080/"
        },
        "id": "SyJbZUHJyr8B",
        "outputId": "6c2ee196-94d4-4821-afac-089d520b60ac"
      },
      "execution_count": null,
      "outputs": [
        {
          "output_type": "stream",
          "name": "stdout",
          "text": [
            "AUC Train: 0.9221\n",
            "AUC Test: 0.9173\n"
          ]
        }
      ]
    },
    {
      "cell_type": "code",
      "source": [
        "evaluation_results = model_xgboost_fin.evals_result()\n",
        "\n",
        "# Index into each key to find AUC values for training and validation data after each tree\n",
        "train_auc_tree = evaluation_results['validation_0']['auc']\n",
        "test_auc_tree = evaluation_results['validation_1']['auc']\n",
        "\n",
        "\n",
        "# Plotting Section\n",
        "plt.figure(figsize=(15,5))\n",
        "\n",
        "plt.plot(train_auc_tree, label='Train')\n",
        "plt.plot(test_auc_tree, label='valid')\n",
        "\n",
        "plt.title(\"Train and validation AUC as number of trees increase\")\n",
        "plt.xlabel(\"Trees\")\n",
        "plt.ylabel(\"AUC\")\n",
        "plt.legend(loc='lower right')\n",
        "plt.show()"
      ],
      "metadata": {
        "colab": {
          "base_uri": "https://localhost:8080/",
          "height": 487
        },
        "id": "39uCdeLczDbr",
        "outputId": "d4c988eb-2b84-4e9a-e46a-5c85af7675bd"
      },
      "execution_count": null,
      "outputs": [
        {
          "output_type": "display_data",
          "data": {
            "text/plain": [
              "<Figure size 1500x500 with 1 Axes>"
            ],
            "image/png": "[encoded data removed]"
          },
          "metadata": {}
        }
      ]
    },
    {
      "cell_type": "markdown",
      "source": [
        "##Variable importance"
      ],
      "metadata": {
        "id": "9wNMvYc6zZ0T"
      }
    },
    {
      "cell_type": "code",
      "source": [
        "#df_var_imp = pd.DataFrame({\"Variable\": X.columns(),\n",
        "                         #  \"Importance\": model_xgboost_fin.feature_importances_}) \\\n",
        "                        #.sort_values(by='Importance', ascending=False)\n",
        "#df_var_imp[:10]"
      ],
      "metadata": {
        "id": "-F-r8833zcuu"
      },
      "execution_count": null,
      "outputs": []
    },
    {
      "cell_type": "markdown",
      "source": [
        "##Logistic Regression"
      ],
      "metadata": {
        "id": "EHHV0DCj0Ncx"
      }
    },
    {
      "cell_type": "code",
      "source": [],
      "metadata": {
        "id": "WByPBUNt0QB3"
      },
      "execution_count": null,
      "outputs": []
    },
    {
      "cell_type": "code",
      "source": [],
      "metadata": {
        "id": "s_tOoNjr0NGM"
      },
      "execution_count": null,
      "outputs": []
    },
    {
      "cell_type": "code",
      "source": [
        "# Create and fit the logistic regression model\n",
        "clf_logistic = LogisticRegression(solver='lbfgs').fit(X_train, np.ravel(y_train))\n",
        "\n",
        "# Print the models coefficients\n",
        "print(clf_logistic.coef_)"
      ],
      "metadata": {
        "colab": {
          "base_uri": "https://localhost:8080/"
        },
        "id": "HRYhN-NkOJT1",
        "outputId": "09bb4ff7-a6cc-489b-8ee9-163137fc0739"
      },
      "execution_count": null,
      "outputs": [
        {
          "output_type": "stream",
          "name": "stdout",
          "text": [
            "[[-0.52628678 -0.52628678  0.20133411 -0.46244289 -3.3494101  -0.52628678]]\n"
          ]
        }
      ]
    },
    {
      "cell_type": "code",
      "source": [
        "# Create predictions and store them in a variable\n",
        "preds = clf_logistic.predict_proba(X_test)\n",
        "print(preds)\n",
        "# Print the accuracy score the model\n",
        "print(\"The model accuracy is %s%%\"%(100*clf_logistic.score(X_test, y_test)))\n",
        "\n",
        "# Plot the ROC curve of the probabilities of default\n",
        "prob_default = preds[:, 1]\n",
        "fallout, sensitivity, thresholds = metrics.roc_curve(y_test, prob_default)\n",
        "plt.plot(fallout, sensitivity, color = 'darkorange')\n",
        "plt.plot([0, 1], [0, 1], linestyle='--')\n",
        "plt.show()\n",
        "\n",
        "# Compute the AUC and store it in a variable\n",
        "auc = metrics.roc_auc_score(y_test, prob_default)\n",
        "auc"
      ],
      "metadata": {
        "colab": {
          "base_uri": "https://localhost:8080/",
          "height": 586
        },
        "id": "bVO2-IWXONNg",
        "outputId": "4785bcaa-bdfc-4cd2-f0ff-9f921f0bcf88"
      },
      "execution_count": null,
      "outputs": [
        {
          "output_type": "stream",
          "name": "stdout",
          "text": [
            "[[9.89974523e-01 1.00254769e-02]\n",
            " [9.99166074e-01 8.33925929e-04]\n",
            " [9.96450286e-01 3.54971406e-03]\n",
            " ...\n",
            " [9.99864764e-01 1.35236081e-04]\n",
            " [7.21428455e-01 2.78571545e-01]\n",
            " [9.92886344e-01 7.11365639e-03]]\n",
            "The model accuracy is 90.17503302509907%\n"
          ]
        },
        {
          "output_type": "display_data",
          "data": {
            "text/plain": [
              "<Figure size 640x480 with 1 Axes>"
            ],
            "image/png": "[encoded data removed]"
          },
          "metadata": {}
        },
        {
          "output_type": "execute_result",
          "data": {
            "text/plain": [
              "0.8780532631638874"
            ]
          },
          "metadata": {},
          "execution_count": 57
        }
      ]
    },
    {
      "cell_type": "code",
      "source": [
        "def lift_curve(probabilities, title = \"Model\"):\n",
        "\n",
        "    #First, sort the probabilities in decreasing order\n",
        "    probabilities = -1*np.sort(-1*probabilities)\n",
        "    N = np.shape(probabilities)[0]\n",
        "\n",
        "    #Now, build the three curves for the graph like in the paper\n",
        "    lift_curve_values = [sum(probabilities[0:(i+1)]) for i in range(N)]\n",
        "    baseline_values = [((i+1)/N)*lift_curve_values[-1] for i in range(N)]\n",
        "    best_values = [min(i+1,lift_curve_values[-1]) for i in range(N)]\n",
        "\n",
        "    #Compute the area between the model curve and the baseline curve\n",
        "    lift_area = sum([lift_curve_values[i] - baseline_values[i] for i in range(N)])\n",
        "    best_area = sum([best_values[i] - baseline_values[i] for i in range(N)])\n",
        "    area_ratio = lift_area/best_area\n",
        "\n",
        "    print(\"The area ratio is %s\"%(area_ratio))\n",
        "\n",
        "    plt.title(\"Lift Curve for %s\"%(title))\n",
        "    plt.xlabel(\"# of total data points\")\n",
        "    plt.ylabel(\"# of target data points\")\n",
        "\n",
        "    plt.plot(baseline_values)\n",
        "    plt.plot(best_values)\n",
        "    plt.plot(lift_curve_values)\n",
        "\n",
        "    plt.legend([\"Baseline Model\",\"Theoretically Best Model\", \"Actual Model\"])"
      ],
      "metadata": {
        "id": "7aXv4jH_O_Ag"
      },
      "execution_count": null,
      "outputs": []
    },
    {
      "cell_type": "code",
      "source": [
        "lift_curve(np.reshape(preds[:,1],(18168,)), \"Logistic Regression\")"
      ],
      "metadata": {
        "colab": {
          "base_uri": "https://localhost:8080/",
          "height": 489
        },
        "id": "Dm1tDh3pPF9L",
        "outputId": "7ff95649-aca5-4a9c-ab12-53dbd92ec12c"
      },
      "execution_count": null,
      "outputs": [
        {
          "output_type": "stream",
          "name": "stdout",
          "text": [
            "The area ratio is 0.7589772675459933\n"
          ]
        },
        {
          "output_type": "display_data",
          "data": {
            "text/plain": [
              "<Figure size 640x480 with 1 Axes>"
            ],
            "image/png": "[encoded data removed]"
          },
          "metadata": {}
        }
      ]
    },
    {
      "cell_type": "code",
      "source": [
        "X['hazardous'] = y\n",
        "X.head()"
      ],
      "metadata": {
        "colab": {
          "base_uri": "https://localhost:8080/",
          "height": 206
        },
        "id": "NkGWJHXyLQv_",
        "outputId": "ab4089fd-12c9-4ecc-ebac-0e946f1c1ca1"
      },
      "execution_count": null,
      "outputs": [
        {
          "output_type": "execute_result",
          "data": {
            "text/plain": [
              "   est_diameter_min  est_diameter_max  relative_velocity  miss_distance  \\\n",
              "0          3.587284          3.587284          -1.363913       0.795153   \n",
              "1          0.463529          0.463529           1.009040       1.090357   \n",
              "2          1.991887          1.991887           2.616983       0.569624   \n",
              "3         -0.103601         -0.103601          -0.921301      -0.520384   \n",
              "4          0.427378          0.427378          -0.210697       0.412001   \n",
              "\n",
              "   absolute_magnitude  average_diameter  hazardous  \n",
              "0           -2.348632          3.587284          0  \n",
              "1           -1.218735          0.463529          1  \n",
              "2           -1.968544          1.991887          0  \n",
              "3           -0.458560         -0.103601          0  \n",
              "4           -1.187637          0.427378          1  "
            ],
            "text/html": [
              "\n",
              "  <div id=\"df-831ba85e-58e5-4ef7-80be-27df3345403c\" class=\"colab-df-container\">\n",
              "    <div>\n",
              "<style scoped>\n",
              "    .dataframe tbody tr th:only-of-type {\n",
              "        vertical-align: middle;\n",
              "    }\n",
              "\n",
              "    .dataframe tbody tr th {\n",
              "        vertical-align: top;\n",
              "    }\n",
              "\n",
              "    .dataframe thead th {\n",
              "        text-align: right;\n",
              "    }\n",
              "</style>\n",
              "<table border=\"1\" class=\"dataframe\">\n",
              "  <thead>\n",
              "    <tr style=\"text-align: right;\">\n",
              "      <th></th>\n",
              "      <th>est_diameter_min</th>\n",
              "      <th>est_diameter_max</th>\n",
              "      <th>relative_velocity</th>\n",
              "      <th>miss_distance</th>\n",
              "      <th>absolute_magnitude</th>\n",
              "      <th>average_diameter</th>\n",
              "      <th>hazardous</th>\n",
              "    </tr>\n",
              "  </thead>\n",
              "  <tbody>\n",
              "    <tr>\n",
              "      <th>0</th>\n",
              "      <td>3.587284</td>\n",
              "      <td>3.587284</td>\n",
              "      <td>-1.363913</td>\n",
              "      <td>0.795153</td>\n",
              "      <td>-2.348632</td>\n",
              "      <td>3.587284</td>\n",
              "      <td>0</td>\n",
              "    </tr>\n",
              "    <tr>\n",
              "      <th>1</th>\n",
              "      <td>0.463529</td>\n",
              "      <td>0.463529</td>\n",
              "      <td>1.009040</td>\n",
              "      <td>1.090357</td>\n",
              "      <td>-1.218735</td>\n",
              "      <td>0.463529</td>\n",
              "      <td>1</td>\n",
              "    </tr>\n",
              "    <tr>\n",
              "      <th>2</th>\n",
              "      <td>1.991887</td>\n",
              "      <td>1.991887</td>\n",
              "      <td>2.616983</td>\n",
              "      <td>0.569624</td>\n",
              "      <td>-1.968544</td>\n",
              "      <td>1.991887</td>\n",
              "      <td>0</td>\n",
              "    </tr>\n",
              "    <tr>\n",
              "      <th>3</th>\n",
              "      <td>-0.103601</td>\n",
              "      <td>-0.103601</td>\n",
              "      <td>-0.921301</td>\n",
              "      <td>-0.520384</td>\n",
              "      <td>-0.458560</td>\n",
              "      <td>-0.103601</td>\n",
              "      <td>0</td>\n",
              "    </tr>\n",
              "    <tr>\n",
              "      <th>4</th>\n",
              "      <td>0.427378</td>\n",
              "      <td>0.427378</td>\n",
              "      <td>-0.210697</td>\n",
              "      <td>0.412001</td>\n",
              "      <td>-1.187637</td>\n",
              "      <td>0.427378</td>\n",
              "      <td>1</td>\n",
              "    </tr>\n",
              "  </tbody>\n",
              "</table>\n",
              "</div>\n",
              "    <div class=\"colab-df-buttons\">\n",
              "\n",
              "  <div class=\"colab-df-container\">\n",
              "    <button class=\"colab-df-convert\" onclick=\"convertToInteractive('df-831ba85e-58e5-4ef7-80be-27df3345403c')\"\n",
              "            title=\"Convert this dataframe to an interactive table.\"\n",
              "            style=\"display:none;\">\n",
              "\n",
              "  <svg xmlns=\"http://www.w3.org/2000/svg\" height=\"24px\" viewBox=\"0 -960 960 960\">\n",
              "    <path d=\"M120-120v-720h720v720H120Zm60-500h600v-160H180v160Zm220 220h160v-160H400v160Zm0 220h160v-160H400v160ZM180-400h160v-160H180v160Zm440 0h160v-160H620v160ZM180-180h160v-160H180v160Zm440 0h160v-160H620v160Z\"/>\n",
              "  </svg>\n",
              "    </button>\n",
              "\n",
              "  <style>\n",
              "    .colab-df-container {\n",
              "      display:flex;\n",
              "      gap: 12px;\n",
              "    }\n",
              "\n",
              "    .colab-df-convert {\n",
              "      background-color: #E8F0FE;\n",
              "      border: none;\n",
              "      border-radius: 50%;\n",
              "      cursor: pointer;\n",
              "      display: none;\n",
              "      fill: #1967D2;\n",
              "      height: 32px;\n",
              "      padding: 0 0 0 0;\n",
              "      width: 32px;\n",
              "    }\n",
              "\n",
              "    .colab-df-convert:hover {\n",
              "      background-color: #E2EBFA;\n",
              "      box-shadow: 0px 1px 2px rgba(60, 64, 67, 0.3), 0px 1px 3px 1px rgba(60, 64, 67, 0.15);\n",
              "      fill: #174EA6;\n",
              "    }\n",
              "\n",
              "    .colab-df-buttons div {\n",
              "      margin-bottom: 4px;\n",
              "    }\n",
              "\n",
              "    [theme=dark] .colab-df-convert {\n",
              "      background-color: #3B4455;\n",
              "      fill: #D2E3FC;\n",
              "    }\n",
              "\n",
              "    [theme=dark] .colab-df-convert:hover {\n",
              "      background-color: #434B5C;\n",
              "      box-shadow: 0px 1px 3px 1px rgba(0, 0, 0, 0.15);\n",
              "      filter: drop-shadow(0px 1px 2px rgba(0, 0, 0, 0.3));\n",
              "      fill: #FFFFFF;\n",
              "    }\n",
              "  </style>\n",
              "\n",
              "    <script>\n",
              "      const buttonEl =\n",
              "        document.querySelector('#df-831ba85e-58e5-4ef7-80be-27df3345403c button.colab-df-convert');\n",
              "      buttonEl.style.display =\n",
              "        google.colab.kernel.accessAllowed ? 'block' : 'none';\n",
              "\n",
              "      async function convertToInteractive(key) {\n",
              "        const element = document.querySelector('#df-831ba85e-58e5-4ef7-80be-27df3345403c');\n",
              "        const dataTable =\n",
              "          await google.colab.kernel.invokeFunction('convertToInteractive',\n",
              "                                                    [key], {});\n",
              "        if (!dataTable) return;\n",
              "\n",
              "        const docLinkHtml = 'Like what you see? Visit the ' +\n",
              "          '<a target=\"_blank\" href=https://colab.research.google.com/notebooks/data_table.ipynb>data table notebook</a>'\n",
              "          + ' to learn more about interactive tables.';\n",
              "        element.innerHTML = '';\n",
              "        dataTable['output_type'] = 'display_data';\n",
              "        await google.colab.output.renderOutput(dataTable, element);\n",
              "        const docLink = document.createElement('div');\n",
              "        docLink.innerHTML = docLinkHtml;\n",
              "        element.appendChild(docLink);\n",
              "      }\n",
              "    </script>\n",
              "  </div>\n",
              "\n",
              "\n",
              "<div id=\"df-db13d250-b83d-473e-8909-f03c06b63e73\">\n",
              "  <button class=\"colab-df-quickchart\" onclick=\"quickchart('df-db13d250-b83d-473e-8909-f03c06b63e73')\"\n",
              "            title=\"Suggest charts\"\n",
              "            style=\"display:none;\">\n",
              "\n",
              "<svg xmlns=\"http://www.w3.org/2000/svg\" height=\"24px\"viewBox=\"0 0 24 24\"\n",
              "     width=\"24px\">\n",
              "    <g>\n",
              "        <path d=\"M19 3H5c-1.1 0-2 .9-2 2v14c0 1.1.9 2 2 2h14c1.1 0 2-.9 2-2V5c0-1.1-.9-2-2-2zM9 17H7v-7h2v7zm4 0h-2V7h2v10zm4 0h-2v-4h2v4z\"/>\n",
              "    </g>\n",
              "</svg>\n",
              "  </button>\n",
              "\n",
              "<style>\n",
              "  .colab-df-quickchart {\n",
              "      --bg-color: #E8F0FE;\n",
              "      --fill-color: #1967D2;\n",
              "      --hover-bg-color: #E2EBFA;\n",
              "      --hover-fill-color: #174EA6;\n",
              "      --disabled-fill-color: #AAA;\n",
              "      --disabled-bg-color: #DDD;\n",
              "  }\n",
              "\n",
              "  [theme=dark] .colab-df-quickchart {\n",
              "      --bg-color: #3B4455;\n",
              "      --fill-color: #D2E3FC;\n",
              "      --hover-bg-color: #434B5C;\n",
              "      --hover-fill-color: #FFFFFF;\n",
              "      --disabled-bg-color: #3B4455;\n",
              "      --disabled-fill-color: #666;\n",
              "  }\n",
              "\n",
              "  .colab-df-quickchart {\n",
              "    background-color: var(--bg-color);\n",
              "    border: none;\n",
              "    border-radius: 50%;\n",
              "    cursor: pointer;\n",
              "    display: none;\n",
              "    fill: var(--fill-color);\n",
              "    height: 32px;\n",
              "    padding: 0;\n",
              "    width: 32px;\n",
              "  }\n",
              "\n",
              "  .colab-df-quickchart:hover {\n",
              "    background-color: var(--hover-bg-color);\n",
              "    box-shadow: 0 1px 2px rgba(60, 64, 67, 0.3), 0 1px 3px 1px rgba(60, 64, 67, 0.15);\n",
              "    fill: var(--button-hover-fill-color);\n",
              "  }\n",
              "\n",
              "  .colab-df-quickchart-complete:disabled,\n",
              "  .colab-df-quickchart-complete:disabled:hover {\n",
              "    background-color: var(--disabled-bg-color);\n",
              "    fill: var(--disabled-fill-color);\n",
              "    box-shadow: none;\n",
              "  }\n",
              "\n",
              "  .colab-df-spinner {\n",
              "    border: 2px solid var(--fill-color);\n",
              "    border-color: transparent;\n",
              "    border-bottom-color: var(--fill-color);\n",
              "    animation:\n",
              "      spin 1s steps(1) infinite;\n",
              "  }\n",
              "\n",
              "  @keyframes spin {\n",
              "    0% {\n",
              "      border-color: transparent;\n",
              "      border-bottom-color: var(--fill-color);\n",
              "      border-left-color: var(--fill-color);\n",
              "    }\n",
              "    20% {\n",
              "      border-color: transparent;\n",
              "      border-left-color: var(--fill-color);\n",
              "      border-top-color: var(--fill-color);\n",
              "    }\n",
              "    30% {\n",
              "      border-color: transparent;\n",
              "      border-left-color: var(--fill-color);\n",
              "      border-top-color: var(--fill-color);\n",
              "      border-right-color: var(--fill-color);\n",
              "    }\n",
              "    40% {\n",
              "      border-color: transparent;\n",
              "      border-right-color: var(--fill-color);\n",
              "      border-top-color: var(--fill-color);\n",
              "    }\n",
              "    60% {\n",
              "      border-color: transparent;\n",
              "      border-right-color: var(--fill-color);\n",
              "    }\n",
              "    80% {\n",
              "      border-color: transparent;\n",
              "      border-right-color: var(--fill-color);\n",
              "      border-bottom-color: var(--fill-color);\n",
              "    }\n",
              "    90% {\n",
              "      border-color: transparent;\n",
              "      border-bottom-color: var(--fill-color);\n",
              "    }\n",
              "  }\n",
              "</style>\n",
              "\n",
              "  <script>\n",
              "    async function quickchart(key) {\n",
              "      const quickchartButtonEl =\n",
              "        document.querySelector('#' + key + ' button');\n",
              "      quickchartButtonEl.disabled = true;  // To prevent multiple clicks.\n",
              "      quickchartButtonEl.classList.add('colab-df-spinner');\n",
              "      try {\n",
              "        const charts = await google.colab.kernel.invokeFunction(\n",
              "            'suggestCharts', [key], {});\n",
              "      } catch (error) {\n",
              "        console.error('Error during call to suggestCharts:', error);\n",
              "      }\n",
              "      quickchartButtonEl.classList.remove('colab-df-spinner');\n",
              "      quickchartButtonEl.classList.add('colab-df-quickchart-complete');\n",
              "    }\n",
              "    (() => {\n",
              "      let quickchartButtonEl =\n",
              "        document.querySelector('#df-db13d250-b83d-473e-8909-f03c06b63e73 button');\n",
              "      quickchartButtonEl.style.display =\n",
              "        google.colab.kernel.accessAllowed ? 'block' : 'none';\n",
              "    })();\n",
              "  </script>\n",
              "</div>\n",
              "    </div>\n",
              "  </div>\n"
            ]
          },
          "metadata": {},
          "execution_count": 16
        }
      ]
    },
    {
      "cell_type": "code",
      "source": [
        "\n"
      ],
      "metadata": {
        "id": "NZf5Ru3FMU0F"
      },
      "execution_count": null,
      "outputs": []
    },
    {
      "cell_type": "code",
      "source": [
        "labels = X['hazardous'].unique()\n",
        "for i in labels:\n",
        "  subset = X[X['hazardous'] == i]\n",
        "  plt.scatter(subset['absolute_magnitude'], subset['relative_velocity'], label=i)\n",
        "\n",
        "plt.xlabel('absolute_magnitude')\n",
        "plt.ylabel('relative_velocity')\n",
        "plt.title('Hazardous or not')\n",
        "plt.legend()\n",
        "plt.show()"
      ],
      "metadata": {
        "colab": {
          "base_uri": "https://localhost:8080/",
          "height": 472
        },
        "id": "EjoEaF_1Df8o",
        "outputId": "d7147c39-8afd-4f9e-cee4-9e1e7e9689fa"
      },
      "execution_count": null,
      "outputs": [
        {
          "output_type": "display_data",
          "data": {
            "text/plain": [
              "<Figure size 640x480 with 1 Axes>"
            ],
            "image/png": "[encoded data removed]"
          },
          "metadata": {}
        }
      ]
    },
    {
      "cell_type": "code",
      "source": [
        "plt.scatter(X['hazardous'], X['average_diameter'])"
      ],
      "metadata": {
        "colab": {
          "base_uri": "https://localhost:8080/",
          "height": 448
        },
        "id": "CsawjtNPE88s",
        "outputId": "940275dd-92ee-42e6-e577-e993f6d67194"
      },
      "execution_count": null,
      "outputs": [
        {
          "output_type": "execute_result",
          "data": {
            "text/plain": [
              "<matplotlib.collections.PathCollection at 0x7a198c5eed40>"
            ]
          },
          "metadata": {},
          "execution_count": 18
        },
        {
          "output_type": "display_data",
          "data": {
            "text/plain": [
              "<Figure size 640x480 with 1 Axes>"
            ],
            "image/png": "[encoded data removed]"
          },
          "metadata": {}
        }
      ]
    },
    {
      "cell_type": "code",
      "source": [],
      "metadata": {
        "id": "yIs9PAniNCUa"
      },
      "execution_count": null,
      "outputs": []
    }
  ]
}