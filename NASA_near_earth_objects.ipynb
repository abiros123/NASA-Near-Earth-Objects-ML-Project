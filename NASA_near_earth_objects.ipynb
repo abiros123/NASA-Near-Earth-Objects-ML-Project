{
  "nbformat": 4,
  "nbformat_minor": 0,
  "metadata": {
    "colab": {
      "provenance": []
    },
    "kernelspec": {
      "name": "python3",
      "display_name": "Python 3"
    },
    "language_info": {
      "name": "python"
    }
  },
  "cells": [
    {
      "cell_type": "markdown",
      "source": [
        "##Mentor:\n",
        "Kashif bari"
      ],
      "metadata": {
        "id": "LOEpDUZT8D_p"
      }
    },
    {
      "cell_type": "markdown",
      "source": [
        "##Team members:\n",
        "1. Munawar Ali\n",
        "2. Cagatay Ayhan\n",
        "3. Ece KARACAM\n",
        "4. Mostofa Hisham"
      ],
      "metadata": {
        "id": "i8EeQNLF71qn"
      }
    },
    {
      "cell_type": "markdown",
      "source": [
        "##Near-Earth Objects (NEOs) are comets and asteroids that have been nudged by the gravitational attraction of nearby planets into orbits that allow them to enter the Earth’s neighborhood. As they orbit the Sun, Near-Earth Objects occasionally approach close to Earth. We plan to develop several models for detecting whether or not a NEO is hazardous. We will likely use the data provided here: https://www.kaggle.com/datasets/sameepvani nasa-nearest-earth-objects/data\n",
        "Sources: https://api.nasa.gov\n",
        "https://cneos.jpl.nasa.gov/ca/"
      ],
      "metadata": {
        "id": "7zTpwXtF8IeO"
      }
    },
    {
      "cell_type": "markdown",
      "source": [
        "##Basic Modules"
      ],
      "metadata": {
        "id": "EJB7gdDd-h6V"
      }
    },
    {
      "cell_type": "code",
      "source": [
        "import numpy as np\n",
        "import pandas as pd\n",
        "\n",
        "import matplotlib.pyplot as plt\n",
        "import seaborn as sns\n",
        "from sklearn.preprocessing import StandardScaler\n",
        "from sklearn.model_selection import train_test_split\n",
        "\n",
        "from sklearn.linear_model import LogisticRegression\n",
        "from sklearn import metrics\n",
        "\n",
        "import keras\n",
        "import tensorflow as tf\n",
        "\n",
        "from keras import models\n",
        "from keras import layers\n",
        "from keras import optimizers\n",
        "from keras import losses\n",
        "from keras import metrics as ks_metrics"
      ],
      "metadata": {
        "id": "VVTomvX474gO"
      },
      "execution_count": 1,
      "outputs": []
    },
    {
      "cell_type": "code",
      "source": [
        "from google.colab import drive\n",
        "drive.mount('/content/drive')"
      ],
      "metadata": {
        "colab": {
          "base_uri": "https://localhost:8080/"
        },
        "id": "hq7QpkrY-oeW",
        "outputId": "3bdf6697-74d8-465e-b4e6-eff7a3ae0ea3"
      },
      "execution_count": 2,
      "outputs": [
        {
          "output_type": "stream",
          "name": "stdout",
          "text": [
            "Mounted at /content/drive\n"
          ]
        }
      ]
    },
    {
      "cell_type": "code",
      "source": [
        "nasa = pd.read_csv(\"/content/drive/MyDrive/NASA_near_earth_objects/neo.csv.zip\", header=None)\n",
        "print(nasa.shape)"
      ],
      "metadata": {
        "colab": {
          "base_uri": "https://localhost:8080/"
        },
        "id": "-LlLANCc-t2u",
        "outputId": "f6040757-5393-4982-d27e-48fc44d42984"
      },
      "execution_count": 3,
      "outputs": [
        {
          "output_type": "stream",
          "name": "stdout",
          "text": [
            "(90837, 10)\n"
          ]
        },
        {
          "output_type": "stream",
          "name": "stderr",
          "text": [
            "<ipython-input-3-9fff8a283c65>:1: DtypeWarning: Columns (0,2,3,4,5,7,8,9) have mixed types. Specify dtype option on import or set low_memory=False.\n",
            "  nasa = pd.read_csv(\"/content/drive/MyDrive/NASA_near_earth_objects/neo.csv.zip\", header=None)\n"
          ]
        }
      ]
    },
    {
      "cell_type": "code",
      "source": [],
      "metadata": {
        "id": "zPbv1x0L-463"
      },
      "execution_count": null,
      "outputs": []
    }
  ]
}