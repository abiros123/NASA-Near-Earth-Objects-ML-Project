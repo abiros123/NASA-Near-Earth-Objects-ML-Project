{
  "nbformat": 4,
  "nbformat_minor": 0,
  "metadata": {
    "colab": {
      "provenance": [],
      "authorship_tag": "ABX9TyM62WwxszNUAHguK37mPRny",
      "include_colab_link": true
    },
    "kernelspec": {
      "name": "python3",
      "display_name": "Python 3"
    },
    "language_info": {
      "name": "python"
    }
  },
  "cells": [
    {
      "cell_type": "markdown",
      "metadata": {
        "id": "view-in-github",
        "colab_type": "text"
      },
      "source": [
        "<a href=\"https://colab.research.google.com/github/munawarali93/NASA-Near-Earth-Objects/blob/main/NASA_near_earth_objects.ipynb\" target=\"_parent\"><img src=\"https://colab.research.google.com/assets/colab-badge.svg\" alt=\"Open In Colab\"/></a>"
      ]
    },
    {
      "cell_type": "markdown",
      "source": [
        "##Mentor:\n",
        "Kashif bari"
      ],
      "metadata": {
        "id": "LOEpDUZT8D_p"
      }
    },
    {
      "cell_type": "markdown",
      "source": [
        "##Team members:\n",
        "1. Munawar Ali\n",
        "2. Cagatay Ayhan\n",
        "3. Ece KARACAM\n",
        "4. Mostofa Hisham"
      ],
      "metadata": {
        "id": "i8EeQNLF71qn"
      }
    },
    {
      "cell_type": "markdown",
      "source": [
        "##Near-Earth Objects (NEOs) are comets and asteroids that have been nudged by the gravitational attraction of nearby planets into orbits that allow them to enter the Earth’s neighborhood. As they orbit the Sun, Near-Earth Objects occasionally approach close to Earth. We plan to develop several models for detecting whether or not a NEO is hazardous. We will likely use the data provided here: https://www.kaggle.com/datasets/sameepvani nasa-nearest-earth-objects/data\n",
        "Sources: https://api.nasa.gov\n",
        "https://cneos.jpl.nasa.gov/ca/"
      ],
      "metadata": {
        "id": "7zTpwXtF8IeO"
      }
    },
    {
      "cell_type": "code",
      "source": [],
      "metadata": {
        "id": "VVTomvX474gO"
      },
      "execution_count": null,
      "outputs": []
    }
  ]
}